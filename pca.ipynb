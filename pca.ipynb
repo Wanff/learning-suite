{
 "cells": [
  {
   "cell_type": "code",
   "execution_count": 11,
   "metadata": {},
   "outputs": [],
   "source": [
    "import numpy as np\n",
    "import pandas as pd\n",
    "import matplotlib.pyplot as plt\n",
    "import plotly.express as px\n",
    "%matplotlib inline\n",
    "import seaborn as sns"
   ]
  },
  {
   "cell_type": "code",
   "execution_count": 193,
   "metadata": {},
   "outputs": [],
   "source": [
    "import torch\n",
    "import torchvision\n",
    "from torchvision import transforms\n",
    "\n",
    "# Load the MNIST dataset\n",
    "train_dataset = torchvision.datasets.MNIST(root='./data', train=True, transform=None, download=True)\n",
    "test_dataset = torchvision.datasets.MNIST(root='./data', train=False, transform=None, download=True)\n",
    "\n",
    "# Create data loaders to load the data in batches\n",
    "train_loader = torch.utils.data.DataLoader(train_dataset, batch_size=64, shuffle=True)\n",
    "test_loader = torch.utils.data.DataLoader(test_dataset, batch_size=64, shuffle=False)"
   ]
  },
  {
   "cell_type": "code",
   "execution_count": 194,
   "metadata": {},
   "outputs": [
    {
     "data": {
      "text/plain": [
       "(784, 784)"
      ]
     },
     "execution_count": 194,
     "metadata": {},
     "output_type": "execute_result"
    }
   ],
   "source": [
    "N = 1000\n",
    "\n",
    "transform = transforms.Compose([\n",
    "    transforms.ToTensor(),\n",
    "])\n",
    "\n",
    "mnist_nines = []\n",
    "for image, target in train_dataset:\n",
    "    if target == 9:\n",
    "        # Convert the PIL image to a PyTorch tensor\n",
    "        image = transforms.ToTensor()(image)\n",
    "        mnist_nines.append(image.numpy().squeeze())\n",
    "\n",
    "# X = train_dataset.data.numpy()[:N]\n",
    "X =  np.array(mnist_nines)[:N]\n",
    "\n",
    "X = X - X.mean(axis=0)\n",
    "\n",
    "X = X.reshape(N, -1)\n",
    "\n",
    "cov = np.dot(X.T, X) / X.shape[0] # get the data covariance matrix\n",
    "\n",
    "cov.shape"
   ]
  },
  {
   "cell_type": "code",
   "execution_count": 195,
   "metadata": {},
   "outputs": [
    {
     "data": {
      "application/vnd.plotly.v1+json": {
       "config": {
        "plotlyServerURL": "https://plot.ly"
       },
       "data": [
        {
         "coloraxis": "coloraxis",
         "hovertemplate": "x: %{x}<br>y: %{y}<br>color: %{z}<extra></extra>",
         "name": "0",
         "type": "heatmap",
         "xaxis": "x",
         "yaxis": "y",
         "z": [
          [
           0,
           0,
           0,
           0,
           0,
           0,
           0,
           0,
           0,
           0,
           0,
           0,
           0,
           0,
           0,
           0,
           0,
           0,
           0,
           0,
           0,
           0,
           0,
           0,
           0,
           0,
           0,
           0
          ],
          [
           0,
           0,
           0,
           0,
           0,
           0,
           0,
           0,
           0,
           0,
           0,
           0,
           0,
           0,
           0,
           0,
           0,
           0,
           0,
           0,
           0,
           0,
           0,
           0,
           0,
           0,
           0,
           0
          ],
          [
           0,
           0,
           0,
           0,
           0,
           0,
           0,
           0,
           0,
           0,
           0,
           0,
           0,
           0,
           0,
           0,
           0,
           0,
           0,
           0,
           0,
           0,
           0,
           0,
           0,
           0,
           0,
           0
          ],
          [
           0,
           0,
           0,
           0,
           0,
           0,
           0,
           0,
           0,
           0,
           0,
           0,
           0,
           0,
           0,
           0,
           0,
           0,
           0,
           0,
           0,
           0,
           0,
           0,
           0,
           0,
           0,
           0
          ],
          [
           0,
           0,
           0,
           0,
           0,
           0,
           0,
           0,
           0,
           0,
           0,
           0,
           0,
           0,
           0,
           0,
           0,
           0,
           0,
           0,
           0,
           0,
           0,
           0,
           0,
           0,
           0,
           0
          ],
          [
           0,
           0,
           0,
           0,
           0,
           0,
           0,
           0,
           0,
           0,
           0,
           0,
           0,
           0,
           0,
           0,
           0,
           0,
           0,
           0,
           0,
           0,
           0,
           0,
           0,
           0,
           0,
           0
          ],
          [
           0,
           0,
           0,
           0,
           0,
           0,
           0,
           0,
           0,
           0,
           0,
           0,
           0,
           0,
           0,
           0,
           0,
           0,
           0,
           0,
           0,
           0,
           0,
           0,
           0,
           0,
           0,
           0
          ],
          [
           0,
           0,
           0,
           0,
           0,
           0,
           0,
           0,
           0,
           0,
           0,
           0,
           0.21568627655506134,
           0.5803921818733215,
           0.8235294222831726,
           0.9921568632125854,
           0.9921568632125854,
           0.4431372582912445,
           0.34117648005485535,
           0.5803921818733215,
           0.21568627655506134,
           0,
           0,
           0,
           0,
           0,
           0,
           0
          ],
          [
           0,
           0,
           0,
           0,
           0,
           0,
           0,
           0,
           0,
           0,
           0,
           0.34117648005485535,
           0.9098039269447327,
           0.9882352948188782,
           0.9921568632125854,
           0.7411764860153198,
           0.8235294222831726,
           0.9882352948188782,
           0.9882352948188782,
           0.9921568632125854,
           0.658823549747467,
           0,
           0,
           0,
           0,
           0,
           0,
           0
          ],
          [
           0,
           0,
           0,
           0,
           0,
           0,
           0,
           0,
           0,
           0.01568627543747425,
           0.2235294133424759,
           0.9490196108818054,
           0.9882352948188782,
           0.7450980544090271,
           0.2549019753932953,
           0.019607843831181526,
           0.0470588244497776,
           0.7137255072593689,
           0.9882352948188782,
           0.9921568632125854,
           0.45490196347236633,
           0,
           0,
           0,
           0,
           0,
           0,
           0
          ],
          [
           0,
           0,
           0,
           0,
           0,
           0,
           0,
           0,
           0,
           0.3764705955982208,
           0.9882352948188782,
           0.9882352948188782,
           0.7176470756530762,
           0.054901961237192154,
           0,
           0,
           0.3607843220233917,
           0.9882352948188782,
           0.9882352948188782,
           0.8823529481887817,
           0.08235294371843338,
           0,
           0,
           0,
           0,
           0,
           0,
           0
          ],
          [
           0,
           0,
           0,
           0,
           0,
           0,
           0,
           0,
           0.5176470875740051,
           0.9921568632125854,
           0.9882352948188782,
           0.572549045085907,
           0.054901961237192154,
           0,
           0,
           0,
           0.843137264251709,
           0.9882352948188782,
           0.9882352948188782,
           0.30980393290519714,
           0,
           0,
           0,
           0,
           0,
           0,
           0,
           0
          ],
          [
           0,
           0,
           0,
           0,
           0,
           0,
           0,
           0.4941176474094391,
           0.9921568632125854,
           0.9686274528503418,
           0.6901960968971252,
           0.03529411926865578,
           0,
           0,
           0.0313725508749485,
           0.30588236451148987,
           0.9607843160629272,
           0.9921568632125854,
           0.5058823823928833,
           0,
           0,
           0,
           0,
           0,
           0,
           0,
           0,
           0
          ],
          [
           0,
           0,
           0,
           0,
           0,
           0,
           0.062745101749897,
           0.9098039269447327,
           0.9882352948188782,
           0.6901960968971252,
           0,
           0,
           0,
           0.1411764770746231,
           0.7882353067398071,
           0.9882352948188782,
           0.9882352948188782,
           0.6627451181411743,
           0.04313725605607033,
           0,
           0,
           0,
           0,
           0,
           0,
           0,
           0,
           0
          ],
          [
           0,
           0,
           0,
           0,
           0,
           0,
           0.08627451211214066,
           0.9882352948188782,
           0.9882352948188782,
           0.11764705926179886,
           0.08627451211214066,
           0.46666666865348816,
           0.772549033164978,
           0.9450980424880981,
           0.9921568632125854,
           0.9882352948188782,
           0.9843137264251709,
           0.3019607961177826,
           0,
           0,
           0,
           0,
           0,
           0,
           0,
           0,
           0,
           0
          ],
          [
           0,
           0,
           0,
           0,
           0,
           0,
           0.062745101749897,
           0.9058823585510254,
           0.9882352948188782,
           0.9921568632125854,
           0.9882352948188782,
           0.9882352948188782,
           0.9882352948188782,
           0.886274516582489,
           0.8901960849761963,
           0.9882352948188782,
           0.9058823585510254,
           0,
           0,
           0,
           0,
           0,
           0,
           0,
           0,
           0,
           0,
           0
          ],
          [
           0,
           0,
           0,
           0,
           0,
           0,
           0,
           0.21568627655506134,
           0.9215686321258545,
           0.9921568632125854,
           0.8509804010391235,
           0.5411764979362488,
           0.16470588743686676,
           0.0941176488995552,
           0.7529411911964417,
           0.9882352948188782,
           0.5607843399047852,
           0,
           0,
           0,
           0,
           0,
           0,
           0,
           0,
           0,
           0,
           0
          ],
          [
           0,
           0,
           0,
           0,
           0,
           0,
           0,
           0,
           0,
           0,
           0,
           0,
           0,
           0.24313725531101227,
           1,
           0.9921568632125854,
           0.4274509847164154,
           0,
           0,
           0,
           0,
           0,
           0,
           0,
           0,
           0,
           0,
           0
          ],
          [
           0,
           0,
           0,
           0,
           0,
           0,
           0,
           0,
           0,
           0,
           0,
           0,
           0,
           0.27843138575553894,
           0.9921568632125854,
           0.9882352948188782,
           0.08235294371843338,
           0,
           0,
           0,
           0,
           0,
           0,
           0,
           0,
           0,
           0,
           0
          ],
          [
           0,
           0,
           0,
           0,
           0,
           0,
           0,
           0,
           0,
           0,
           0,
           0,
           0,
           0,
           0.9921568632125854,
           0.9882352948188782,
           0.08235294371843338,
           0,
           0,
           0,
           0,
           0,
           0,
           0,
           0,
           0,
           0,
           0
          ],
          [
           0,
           0,
           0,
           0,
           0,
           0,
           0,
           0,
           0,
           0,
           0,
           0,
           0,
           0.27843138575553894,
           0.9921568632125854,
           0.9882352948188782,
           0.08235294371843338,
           0,
           0,
           0,
           0,
           0,
           0,
           0,
           0,
           0,
           0,
           0
          ],
          [
           0,
           0,
           0,
           0,
           0,
           0,
           0,
           0,
           0,
           0,
           0,
           0,
           0,
           0.4156862795352936,
           0.9921568632125854,
           0.9882352948188782,
           0.08235294371843338,
           0,
           0,
           0,
           0,
           0,
           0,
           0,
           0,
           0,
           0,
           0
          ],
          [
           0,
           0,
           0,
           0,
           0,
           0,
           0,
           0,
           0,
           0,
           0,
           0,
           0,
           0.1764705926179886,
           1,
           0.9921568632125854,
           0.08235294371843338,
           0,
           0,
           0,
           0,
           0,
           0,
           0,
           0,
           0,
           0,
           0
          ],
          [
           0,
           0,
           0,
           0,
           0,
           0,
           0,
           0,
           0,
           0,
           0,
           0,
           0,
           0,
           0.8549019694328308,
           0.9882352948188782,
           0.21960784494876862,
           0,
           0,
           0,
           0,
           0,
           0,
           0,
           0,
           0,
           0,
           0
          ],
          [
           0,
           0,
           0,
           0,
           0,
           0,
           0,
           0,
           0,
           0,
           0,
           0,
           0,
           0,
           0.3764705955982208,
           0.9882352948188782,
           0.7411764860153198,
           0.16470588743686676,
           0,
           0,
           0,
           0,
           0,
           0,
           0,
           0,
           0,
           0
          ],
          [
           0,
           0,
           0,
           0,
           0,
           0,
           0,
           0,
           0,
           0,
           0,
           0,
           0,
           0,
           0.054901961237192154,
           0.7215686440467834,
           0.9882352948188782,
           0.6666666865348816,
           0.04313725605607033,
           0,
           0,
           0,
           0,
           0,
           0,
           0,
           0,
           0
          ],
          [
           0,
           0,
           0,
           0,
           0,
           0,
           0,
           0,
           0,
           0,
           0,
           0,
           0,
           0,
           0,
           0.054901961237192154,
           0.5764706134796143,
           0.9882352948188782,
           0.16470588743686676,
           0,
           0,
           0,
           0,
           0,
           0,
           0,
           0,
           0
          ],
          [
           0,
           0,
           0,
           0,
           0,
           0,
           0,
           0,
           0,
           0,
           0,
           0,
           0,
           0,
           0,
           0,
           0,
           0,
           0,
           0,
           0,
           0,
           0,
           0,
           0,
           0,
           0,
           0
          ]
         ]
        }
       ],
       "layout": {
        "coloraxis": {
         "cmid": 0,
         "colorscale": [
          [
           0,
           "rgb(103,0,31)"
          ],
          [
           0.1,
           "rgb(178,24,43)"
          ],
          [
           0.2,
           "rgb(214,96,77)"
          ],
          [
           0.3,
           "rgb(244,165,130)"
          ],
          [
           0.4,
           "rgb(253,219,199)"
          ],
          [
           0.5,
           "rgb(247,247,247)"
          ],
          [
           0.6,
           "rgb(209,229,240)"
          ],
          [
           0.7,
           "rgb(146,197,222)"
          ],
          [
           0.8,
           "rgb(67,147,195)"
          ],
          [
           0.9,
           "rgb(33,102,172)"
          ],
          [
           1,
           "rgb(5,48,97)"
          ]
         ]
        },
        "margin": {
         "t": 60
        },
        "template": {
         "data": {
          "bar": [
           {
            "error_x": {
             "color": "#2a3f5f"
            },
            "error_y": {
             "color": "#2a3f5f"
            },
            "marker": {
             "line": {
              "color": "#E5ECF6",
              "width": 0.5
             },
             "pattern": {
              "fillmode": "overlay",
              "size": 10,
              "solidity": 0.2
             }
            },
            "type": "bar"
           }
          ],
          "barpolar": [
           {
            "marker": {
             "line": {
              "color": "#E5ECF6",
              "width": 0.5
             },
             "pattern": {
              "fillmode": "overlay",
              "size": 10,
              "solidity": 0.2
             }
            },
            "type": "barpolar"
           }
          ],
          "carpet": [
           {
            "aaxis": {
             "endlinecolor": "#2a3f5f",
             "gridcolor": "white",
             "linecolor": "white",
             "minorgridcolor": "white",
             "startlinecolor": "#2a3f5f"
            },
            "baxis": {
             "endlinecolor": "#2a3f5f",
             "gridcolor": "white",
             "linecolor": "white",
             "minorgridcolor": "white",
             "startlinecolor": "#2a3f5f"
            },
            "type": "carpet"
           }
          ],
          "choropleth": [
           {
            "colorbar": {
             "outlinewidth": 0,
             "ticks": ""
            },
            "type": "choropleth"
           }
          ],
          "contour": [
           {
            "colorbar": {
             "outlinewidth": 0,
             "ticks": ""
            },
            "colorscale": [
             [
              0,
              "#0d0887"
             ],
             [
              0.1111111111111111,
              "#46039f"
             ],
             [
              0.2222222222222222,
              "#7201a8"
             ],
             [
              0.3333333333333333,
              "#9c179e"
             ],
             [
              0.4444444444444444,
              "#bd3786"
             ],
             [
              0.5555555555555556,
              "#d8576b"
             ],
             [
              0.6666666666666666,
              "#ed7953"
             ],
             [
              0.7777777777777778,
              "#fb9f3a"
             ],
             [
              0.8888888888888888,
              "#fdca26"
             ],
             [
              1,
              "#f0f921"
             ]
            ],
            "type": "contour"
           }
          ],
          "contourcarpet": [
           {
            "colorbar": {
             "outlinewidth": 0,
             "ticks": ""
            },
            "type": "contourcarpet"
           }
          ],
          "heatmap": [
           {
            "colorbar": {
             "outlinewidth": 0,
             "ticks": ""
            },
            "colorscale": [
             [
              0,
              "#0d0887"
             ],
             [
              0.1111111111111111,
              "#46039f"
             ],
             [
              0.2222222222222222,
              "#7201a8"
             ],
             [
              0.3333333333333333,
              "#9c179e"
             ],
             [
              0.4444444444444444,
              "#bd3786"
             ],
             [
              0.5555555555555556,
              "#d8576b"
             ],
             [
              0.6666666666666666,
              "#ed7953"
             ],
             [
              0.7777777777777778,
              "#fb9f3a"
             ],
             [
              0.8888888888888888,
              "#fdca26"
             ],
             [
              1,
              "#f0f921"
             ]
            ],
            "type": "heatmap"
           }
          ],
          "heatmapgl": [
           {
            "colorbar": {
             "outlinewidth": 0,
             "ticks": ""
            },
            "colorscale": [
             [
              0,
              "#0d0887"
             ],
             [
              0.1111111111111111,
              "#46039f"
             ],
             [
              0.2222222222222222,
              "#7201a8"
             ],
             [
              0.3333333333333333,
              "#9c179e"
             ],
             [
              0.4444444444444444,
              "#bd3786"
             ],
             [
              0.5555555555555556,
              "#d8576b"
             ],
             [
              0.6666666666666666,
              "#ed7953"
             ],
             [
              0.7777777777777778,
              "#fb9f3a"
             ],
             [
              0.8888888888888888,
              "#fdca26"
             ],
             [
              1,
              "#f0f921"
             ]
            ],
            "type": "heatmapgl"
           }
          ],
          "histogram": [
           {
            "marker": {
             "pattern": {
              "fillmode": "overlay",
              "size": 10,
              "solidity": 0.2
             }
            },
            "type": "histogram"
           }
          ],
          "histogram2d": [
           {
            "colorbar": {
             "outlinewidth": 0,
             "ticks": ""
            },
            "colorscale": [
             [
              0,
              "#0d0887"
             ],
             [
              0.1111111111111111,
              "#46039f"
             ],
             [
              0.2222222222222222,
              "#7201a8"
             ],
             [
              0.3333333333333333,
              "#9c179e"
             ],
             [
              0.4444444444444444,
              "#bd3786"
             ],
             [
              0.5555555555555556,
              "#d8576b"
             ],
             [
              0.6666666666666666,
              "#ed7953"
             ],
             [
              0.7777777777777778,
              "#fb9f3a"
             ],
             [
              0.8888888888888888,
              "#fdca26"
             ],
             [
              1,
              "#f0f921"
             ]
            ],
            "type": "histogram2d"
           }
          ],
          "histogram2dcontour": [
           {
            "colorbar": {
             "outlinewidth": 0,
             "ticks": ""
            },
            "colorscale": [
             [
              0,
              "#0d0887"
             ],
             [
              0.1111111111111111,
              "#46039f"
             ],
             [
              0.2222222222222222,
              "#7201a8"
             ],
             [
              0.3333333333333333,
              "#9c179e"
             ],
             [
              0.4444444444444444,
              "#bd3786"
             ],
             [
              0.5555555555555556,
              "#d8576b"
             ],
             [
              0.6666666666666666,
              "#ed7953"
             ],
             [
              0.7777777777777778,
              "#fb9f3a"
             ],
             [
              0.8888888888888888,
              "#fdca26"
             ],
             [
              1,
              "#f0f921"
             ]
            ],
            "type": "histogram2dcontour"
           }
          ],
          "mesh3d": [
           {
            "colorbar": {
             "outlinewidth": 0,
             "ticks": ""
            },
            "type": "mesh3d"
           }
          ],
          "parcoords": [
           {
            "line": {
             "colorbar": {
              "outlinewidth": 0,
              "ticks": ""
             }
            },
            "type": "parcoords"
           }
          ],
          "pie": [
           {
            "automargin": true,
            "type": "pie"
           }
          ],
          "scatter": [
           {
            "marker": {
             "colorbar": {
              "outlinewidth": 0,
              "ticks": ""
             }
            },
            "type": "scatter"
           }
          ],
          "scatter3d": [
           {
            "line": {
             "colorbar": {
              "outlinewidth": 0,
              "ticks": ""
             }
            },
            "marker": {
             "colorbar": {
              "outlinewidth": 0,
              "ticks": ""
             }
            },
            "type": "scatter3d"
           }
          ],
          "scattercarpet": [
           {
            "marker": {
             "colorbar": {
              "outlinewidth": 0,
              "ticks": ""
             }
            },
            "type": "scattercarpet"
           }
          ],
          "scattergeo": [
           {
            "marker": {
             "colorbar": {
              "outlinewidth": 0,
              "ticks": ""
             }
            },
            "type": "scattergeo"
           }
          ],
          "scattergl": [
           {
            "marker": {
             "colorbar": {
              "outlinewidth": 0,
              "ticks": ""
             }
            },
            "type": "scattergl"
           }
          ],
          "scattermapbox": [
           {
            "marker": {
             "colorbar": {
              "outlinewidth": 0,
              "ticks": ""
             }
            },
            "type": "scattermapbox"
           }
          ],
          "scatterpolar": [
           {
            "marker": {
             "colorbar": {
              "outlinewidth": 0,
              "ticks": ""
             }
            },
            "type": "scatterpolar"
           }
          ],
          "scatterpolargl": [
           {
            "marker": {
             "colorbar": {
              "outlinewidth": 0,
              "ticks": ""
             }
            },
            "type": "scatterpolargl"
           }
          ],
          "scatterternary": [
           {
            "marker": {
             "colorbar": {
              "outlinewidth": 0,
              "ticks": ""
             }
            },
            "type": "scatterternary"
           }
          ],
          "surface": [
           {
            "colorbar": {
             "outlinewidth": 0,
             "ticks": ""
            },
            "colorscale": [
             [
              0,
              "#0d0887"
             ],
             [
              0.1111111111111111,
              "#46039f"
             ],
             [
              0.2222222222222222,
              "#7201a8"
             ],
             [
              0.3333333333333333,
              "#9c179e"
             ],
             [
              0.4444444444444444,
              "#bd3786"
             ],
             [
              0.5555555555555556,
              "#d8576b"
             ],
             [
              0.6666666666666666,
              "#ed7953"
             ],
             [
              0.7777777777777778,
              "#fb9f3a"
             ],
             [
              0.8888888888888888,
              "#fdca26"
             ],
             [
              1,
              "#f0f921"
             ]
            ],
            "type": "surface"
           }
          ],
          "table": [
           {
            "cells": {
             "fill": {
              "color": "#EBF0F8"
             },
             "line": {
              "color": "white"
             }
            },
            "header": {
             "fill": {
              "color": "#C8D4E3"
             },
             "line": {
              "color": "white"
             }
            },
            "type": "table"
           }
          ]
         },
         "layout": {
          "annotationdefaults": {
           "arrowcolor": "#2a3f5f",
           "arrowhead": 0,
           "arrowwidth": 1
          },
          "autotypenumbers": "strict",
          "coloraxis": {
           "colorbar": {
            "outlinewidth": 0,
            "ticks": ""
           }
          },
          "colorscale": {
           "diverging": [
            [
             0,
             "#8e0152"
            ],
            [
             0.1,
             "#c51b7d"
            ],
            [
             0.2,
             "#de77ae"
            ],
            [
             0.3,
             "#f1b6da"
            ],
            [
             0.4,
             "#fde0ef"
            ],
            [
             0.5,
             "#f7f7f7"
            ],
            [
             0.6,
             "#e6f5d0"
            ],
            [
             0.7,
             "#b8e186"
            ],
            [
             0.8,
             "#7fbc41"
            ],
            [
             0.9,
             "#4d9221"
            ],
            [
             1,
             "#276419"
            ]
           ],
           "sequential": [
            [
             0,
             "#0d0887"
            ],
            [
             0.1111111111111111,
             "#46039f"
            ],
            [
             0.2222222222222222,
             "#7201a8"
            ],
            [
             0.3333333333333333,
             "#9c179e"
            ],
            [
             0.4444444444444444,
             "#bd3786"
            ],
            [
             0.5555555555555556,
             "#d8576b"
            ],
            [
             0.6666666666666666,
             "#ed7953"
            ],
            [
             0.7777777777777778,
             "#fb9f3a"
            ],
            [
             0.8888888888888888,
             "#fdca26"
            ],
            [
             1,
             "#f0f921"
            ]
           ],
           "sequentialminus": [
            [
             0,
             "#0d0887"
            ],
            [
             0.1111111111111111,
             "#46039f"
            ],
            [
             0.2222222222222222,
             "#7201a8"
            ],
            [
             0.3333333333333333,
             "#9c179e"
            ],
            [
             0.4444444444444444,
             "#bd3786"
            ],
            [
             0.5555555555555556,
             "#d8576b"
            ],
            [
             0.6666666666666666,
             "#ed7953"
            ],
            [
             0.7777777777777778,
             "#fb9f3a"
            ],
            [
             0.8888888888888888,
             "#fdca26"
            ],
            [
             1,
             "#f0f921"
            ]
           ]
          },
          "colorway": [
           "#636efa",
           "#EF553B",
           "#00cc96",
           "#ab63fa",
           "#FFA15A",
           "#19d3f3",
           "#FF6692",
           "#B6E880",
           "#FF97FF",
           "#FECB52"
          ],
          "font": {
           "color": "#2a3f5f"
          },
          "geo": {
           "bgcolor": "white",
           "lakecolor": "white",
           "landcolor": "#E5ECF6",
           "showlakes": true,
           "showland": true,
           "subunitcolor": "white"
          },
          "hoverlabel": {
           "align": "left"
          },
          "hovermode": "closest",
          "mapbox": {
           "style": "light"
          },
          "paper_bgcolor": "white",
          "plot_bgcolor": "#E5ECF6",
          "polar": {
           "angularaxis": {
            "gridcolor": "white",
            "linecolor": "white",
            "ticks": ""
           },
           "bgcolor": "#E5ECF6",
           "radialaxis": {
            "gridcolor": "white",
            "linecolor": "white",
            "ticks": ""
           }
          },
          "scene": {
           "xaxis": {
            "backgroundcolor": "#E5ECF6",
            "gridcolor": "white",
            "gridwidth": 2,
            "linecolor": "white",
            "showbackground": true,
            "ticks": "",
            "zerolinecolor": "white"
           },
           "yaxis": {
            "backgroundcolor": "#E5ECF6",
            "gridcolor": "white",
            "gridwidth": 2,
            "linecolor": "white",
            "showbackground": true,
            "ticks": "",
            "zerolinecolor": "white"
           },
           "zaxis": {
            "backgroundcolor": "#E5ECF6",
            "gridcolor": "white",
            "gridwidth": 2,
            "linecolor": "white",
            "showbackground": true,
            "ticks": "",
            "zerolinecolor": "white"
           }
          },
          "shapedefaults": {
           "line": {
            "color": "#2a3f5f"
           }
          },
          "ternary": {
           "aaxis": {
            "gridcolor": "white",
            "linecolor": "white",
            "ticks": ""
           },
           "baxis": {
            "gridcolor": "white",
            "linecolor": "white",
            "ticks": ""
           },
           "bgcolor": "#E5ECF6",
           "caxis": {
            "gridcolor": "white",
            "linecolor": "white",
            "ticks": ""
           }
          },
          "title": {
           "x": 0.05
          },
          "xaxis": {
           "automargin": true,
           "gridcolor": "white",
           "linecolor": "white",
           "ticks": "",
           "title": {
            "standoff": 15
           },
           "zerolinecolor": "white",
           "zerolinewidth": 2
          },
          "yaxis": {
           "automargin": true,
           "gridcolor": "white",
           "linecolor": "white",
           "ticks": "",
           "title": {
            "standoff": 15
           },
           "zerolinecolor": "white",
           "zerolinewidth": 2
          }
         }
        },
        "xaxis": {
         "anchor": "y",
         "constrain": "domain",
         "domain": [
          0,
          1
         ],
         "scaleanchor": "y"
        },
        "yaxis": {
         "anchor": "x",
         "autorange": "reversed",
         "constrain": "domain",
         "domain": [
          0,
          1
         ]
        }
       }
      }
     },
     "metadata": {},
     "output_type": "display_data"
    }
   ],
   "source": [
    "px.imshow(mnist_nines[0], color_continuous_scale='RdBu', color_continuous_midpoint=0)"
   ]
  },
  {
   "cell_type": "code",
   "execution_count": 196,
   "metadata": {},
   "outputs": [
    {
     "data": {
      "application/vnd.plotly.v1+json": {
       "config": {
        "plotlyServerURL": "https://plot.ly"
       },
       "data": [
        {
         "coloraxis": "coloraxis",
         "hovertemplate": "x: %{x}<br>y: %{y}<br>color: %{z}<extra></extra>",
         "name": "0",
         "type": "heatmap",
         "xaxis": "x",
         "yaxis": "y",
         "z": [
          [
           0,
           0,
           0,
           0,
           0,
           0,
           0,
           0,
           0,
           0,
           0,
           0,
           0,
           0,
           0,
           0,
           0,
           0,
           0,
           0,
           0,
           0,
           0,
           0,
           0,
           0,
           0,
           0
          ],
          [
           0,
           0,
           0,
           0,
           0,
           0,
           0,
           0,
           0,
           0,
           0,
           0,
           0,
           0,
           0,
           0,
           0,
           0,
           0,
           0,
           0,
           0,
           0,
           0,
           0,
           0,
           0,
           0
          ],
          [
           0,
           0,
           0,
           0,
           0,
           0,
           0,
           0,
           0,
           0,
           0,
           0,
           0,
           0,
           0,
           0,
           0,
           0,
           0,
           0,
           0,
           0,
           0,
           0,
           0,
           0,
           0,
           0
          ],
          [
           0,
           0,
           0,
           0,
           0,
           0,
           0,
           0,
           0,
           0,
           0,
           0,
           0,
           0,
           0,
           0,
           0,
           0,
           0,
           0,
           0,
           0,
           0,
           0,
           0,
           0,
           0,
           0
          ],
          [
           0,
           0,
           0,
           0,
           0,
           0,
           0,
           0,
           0,
           0,
           -0.0029724882915616035,
           -0.01382891833782196,
           -0.018805770203471184,
           -0.016664601862430573,
           -0.021372754126787186,
           -0.020986195653676987,
           -0.011285530403256416,
           -0.002333013340830803,
           -0.00008164542668964714,
           0,
           0,
           0,
           0,
           0,
           0,
           0,
           0,
           0
          ],
          [
           0,
           0,
           0,
           0,
           0,
           0,
           0,
           -0.0013441141927614808,
           -0.009580768644809723,
           -0.020020050927996635,
           -0.045386310666799545,
           -0.12471973896026611,
           -0.19908900558948517,
           -0.22812657058238983,
           -0.22444885969161987,
           -0.2139049917459488,
           -0.15644147992134094,
           -0.09302361309528351,
           -0.03961150348186493,
           -0.011029032990336418,
           0.002735917456448078,
           0.006620402447879314,
           0.001224056351929903,
           0,
           0,
           0,
           0,
           0
          ],
          [
           0,
           0,
           0,
           0,
           0,
           -0.00039581977762281895,
           -0.012969334609806538,
           -0.02959916740655899,
           -0.07951586693525314,
           -0.20723405480384827,
           -0.38908058404922485,
           -0.6112034320831299,
           -0.7832238674163818,
           -0.755001425743103,
           -0.5637758374214172,
           -0.3698183298110962,
           -0.19723361730575562,
           -0.08694019168615341,
           -0.09922007471323013,
           -0.0961700901389122,
           -0.05005339905619621,
           -0.02046303078532219,
           -0.007219601422548294,
           -0.00454471493139863,
           0.00013926016981713474,
           0,
           0,
           0
          ],
          [
           0,
           0,
           0,
           0.000468165788333863,
           -0.0007411749684251845,
           -0.011044956743717194,
           -0.05395600199699402,
           -0.1463121771812439,
           -0.3776732087135315,
           -0.7070188522338867,
           -1.032005786895752,
           -1.1088241338729858,
           -0.8124698996543884,
           -0.35206088423728943,
           -0.011821243911981583,
           0.1662411391735077,
           0.3389771282672882,
           0.376442015171051,
           0.20826095342636108,
           0.01929110288619995,
           -0.11602090299129486,
           -0.07439275085926056,
           -0.024087583646178246,
           -0.01360966544598341,
           0.0026729325763881207,
           0,
           0,
           0
          ],
          [
           0,
           0,
           0,
           0.00045752781443297863,
           -0.007101112976670265,
           -0.043743208050727844,
           -0.17217931151390076,
           -0.4301871657371521,
           -0.8192054033279419,
           -1.1071348190307617,
           -1.0196380615234375,
           -0.458296537399292,
           0.13218839466571808,
           0.35827094316482544,
           0.263836532831192,
           0.14848291873931885,
           0.18882620334625244,
           0.38521361351013184,
           0.5387777090072632,
           0.2953082323074341,
           -0.033577416092157364,
           -0.15613482892513275,
           -0.04690273106098175,
           -0.013799900189042091,
           0.00034559948835521936,
           0,
           0,
           0
          ],
          [
           0,
           0,
           0,
           -0.000007033295332803391,
           -0.013110913336277008,
           -0.1177472472190857,
           -0.3872606158256531,
           -0.7509494423866272,
           -1.04434335231781,
           -0.9375447034835815,
           -0.22748258709907532,
           0.49425098299980164,
           0.7264153957366943,
           0.5044695138931274,
           0.11649788916110992,
           -0.11327774077653885,
           -0.04670420661568642,
           0.2443992793560028,
           0.578938364982605,
           0.39261096715927124,
           -0.06503535807132721,
           -0.24155965447425842,
           -0.09335542470216751,
           -0.016029492020606995,
           -0.0029007757548242807,
           0,
           0,
           0
          ],
          [
           0,
           0,
           0,
           -0.004080744925886393,
           -0.039503954350948334,
           -0.26647433638572693,
           -0.6002142429351807,
           -0.8989247679710388,
           -0.8616004586219788,
           -0.22127294540405273,
           0.6476042866706848,
           0.910158634185791,
           0.6831644773483276,
           0.218948096036911,
           -0.10590144991874695,
           -0.20119896531105042,
           -0.004504792392253876,
           0.37191128730773926,
           0.47903385758399963,
           0.16763721406459808,
           -0.24937625229358673,
           -0.34917593002319336,
           -0.13028021156787872,
           -0.027078675106167793,
           -0.00605114595964551,
           -0.00011108657054137439,
           0,
           0
          ],
          [
           0,
           0,
           0,
           -0.008208592422306538,
           -0.07726098597049713,
           -0.3902229070663452,
           -0.6974526643753052,
           -0.8203665614128113,
           -0.4132545292377472,
           0.39764195680618286,
           0.8969890475273132,
           0.6178653836250305,
           0.15335272252559662,
           -0.1089683324098587,
           -0.1892297863960266,
           -0.07856149971485138,
           0.41024982929229736,
           0.6390697956085205,
           0.3528347313404083,
           -0.2238653600215912,
           -0.5131728649139404,
           -0.409125953912735,
           -0.13785848021507263,
           -0.03595076873898506,
           -0.0057848189026117325,
           -0.0003253250615671277,
           0,
           0
          ],
          [
           0,
           0,
           0,
           -0.02003278210759163,
           -0.12871313095092773,
           -0.42808929085731506,
           -0.7085930705070496,
           -0.5740553140640259,
           -0.021917447447776794,
           0.5375683903694153,
           0.538447916507721,
           0.11764354258775711,
           -0.19054722785949707,
           -0.21295975148677826,
           -0.043629925698041916,
           0.3622032403945923,
           0.794928789138794,
           0.5638022422790527,
           0.03123905509710312,
           -0.598920464515686,
           -0.6559280753135681,
           -0.3560391068458557,
           -0.09205078333616257,
           -0.03277666121721268,
           -0.005126060917973518,
           0.00016411730030085891,
           0,
           0
          ],
          [
           0,
           0,
           0,
           -0.0260924119502306,
           -0.14790141582489014,
           -0.4144900143146515,
           -0.611178994178772,
           -0.3560808002948761,
           0.1519101858139038,
           0.43484431505203247,
           0.2250739485025406,
           -0.08796609938144684,
           -0.14536285400390625,
           0.04868149757385254,
           0.46622201800346375,
           0.7787753939628601,
           0.7847093343734741,
           0.30448704957962036,
           -0.39291805028915405,
           -0.861803412437439,
           -0.6521352529525757,
           -0.30283695459365845,
           -0.10690773278474808,
           -0.03250660002231598,
           -0.0022970326244831085,
           0.0015942869940772653,
           0.00040638650534674525,
           0
          ],
          [
           0,
           0,
           0,
           -0.025908414274454117,
           -0.14099830389022827,
           -0.3649953007698059,
           -0.5076493620872498,
           -0.20698851346969604,
           0.19450943171977997,
           0.4124680757522583,
           0.3519025146961212,
           0.3358265161514282,
           0.4454612731933594,
           0.6453758478164673,
           0.8225275874137878,
           0.7501423358917236,
           0.588266909122467,
           -0.032983072102069855,
           -0.7546486854553223,
           -0.9465974569320679,
           -0.5886291265487671,
           -0.2449554204940796,
           -0.07995779812335968,
           -0.027183476835489273,
           -0.00015451580111403018,
           0.0017662220634520054,
           0.00048453937051817775,
           0
          ],
          [
           0,
           0,
           0,
           -0.011153217405080795,
           -0.11025042831897736,
           -0.29857581853866577,
           -0.43655604124069214,
           -0.2189370095729828,
           0.1579134464263916,
           0.4436708092689514,
           0.5789988040924072,
           0.6940621137619019,
           0.7462440133094788,
           0.6287403106689453,
           0.48799580335617065,
           0.5764288902282715,
           0.40496131777763367,
           -0.3715709447860718,
           -1.0268205404281616,
           -0.9051708579063416,
           -0.5024055242538452,
           -0.17872503399848938,
           -0.054702311754226685,
           -0.008501710370182991,
           0.000017328726244159043,
           0.0017662220634520054,
           0.0007128553697839379,
           0
          ],
          [
           0,
           0,
           0,
           -0.006872518919408321,
           -0.0775626003742218,
           -0.21405135095119476,
           -0.3546740412712097,
           -0.35835379362106323,
           -0.11008727550506592,
           0.11692404747009277,
           0.2628723680973053,
           0.2652662992477417,
           0.1617429107427597,
           -0.013989402912557125,
           0.023963704705238342,
           0.4938679337501526,
           0.2660602629184723,
           -0.612754225730896,
           -1.149042010307312,
           -0.8475441336631775,
           -0.44320642948150635,
           -0.14355286955833435,
           -0.04592440277338028,
           -0.006828696466982365,
           0.00001751819218043238,
           0.0004298315616324544,
           0.00027353025507181883,
           0
          ],
          [
           0,
           0,
           -0.0006468509091064334,
           -0.003403888549655676,
           -0.0417800098657608,
           -0.12092609703540802,
           -0.2409626990556717,
           -0.3415428400039673,
           -0.36592525243759155,
           -0.32579874992370605,
           -0.282425194978714,
           -0.2953398823738098,
           -0.3619956374168396,
           -0.40133136510849,
           -0.02922169119119644,
           0.6391206383705139,
           0.25598233938217163,
           -0.7577231526374817,
           -1.2092328071594238,
           -0.8365796804428101,
           -0.4059530794620514,
           -0.1124248057603836,
           -0.03788767382502556,
           -0.006163514219224453,
           0.000017328726244159043,
           0,
           0,
           0
          ],
          [
           0,
           0,
           -0.0014936367515474558,
           -0.0036558271385729313,
           -0.030997438356280327,
           -0.07067248970270157,
           -0.1449398398399353,
           -0.22080940008163452,
           -0.28364503383636475,
           -0.3338683247566223,
           -0.39517390727996826,
           -0.44123777747154236,
           -0.4962875247001648,
           -0.3091661334037781,
           0.33276641368865967,
           0.9388222098350525,
           0.24123841524124146,
           -0.8004127144813538,
           -1.1709237098693848,
           -0.8253564834594727,
           -0.4047451615333557,
           -0.10952165722846985,
           -0.034216731786727905,
           -0.006142019759863615,
           -0.0007051477441564202,
           0,
           0,
           0
          ],
          [
           0,
           0,
           0,
           -0.0035360571928322315,
           -0.014632441103458405,
           -0.03558256849646568,
           -0.08412029594182968,
           -0.13678328692913055,
           -0.19902998208999634,
           -0.23146894574165344,
           -0.28273117542266846,
           -0.32349008321762085,
           -0.2724917531013489,
           -0.0008145570755004883,
           0.7109549045562744,
           1.0462958812713623,
           0.22622054815292358,
           -0.8203278183937073,
           -1.1182842254638672,
           -0.8254638314247131,
           -0.3985094726085663,
           -0.11186640709638596,
           -0.03687642514705658,
           -0.005629965104162693,
           -0.002898231614381075,
           0,
           0,
           0
          ],
          [
           0,
           0,
           0,
           -0.0027146944776177406,
           -0.009448228403925896,
           -0.016948718577623367,
           -0.06027158349752426,
           -0.10360027104616165,
           -0.11389298737049103,
           -0.13595163822174072,
           -0.18059203028678894,
           -0.19295305013656616,
           -0.07800108194351196,
           0.2499147653579712,
           0.8900499939918518,
           1.0572938919067383,
           0.1417422741651535,
           -0.829106330871582,
           -1.061826467514038,
           -0.8170673251152039,
           -0.4046160578727722,
           -0.1394350826740265,
           -0.04931517690420151,
           -0.004131205379962921,
           -0.0052006179466843605,
           0,
           0,
           0
          ],
          [
           0,
           0,
           0,
           -0.00023666583001613617,
           -0.002410045824944973,
           -0.008417785167694092,
           -0.044001415371894836,
           -0.08089333027601242,
           -0.0939578264951706,
           -0.12915924191474915,
           -0.16711564362049103,
           -0.1330297589302063,
           0.03322447091341019,
           0.4077214300632477,
           0.9323055744171143,
           0.924970269203186,
           0.04788990318775177,
           -0.8203780651092529,
           -0.9969133734703064,
           -0.773237943649292,
           -0.4508662819862366,
           -0.18529555201530457,
           -0.062063299119472504,
           -0.016509126871824265,
           -0.004250811878591776,
           0,
           0,
           0
          ],
          [
           0,
           0,
           0,
           0,
           0.00006478495197370648,
           0.0003745967405848205,
           -0.016198813915252686,
           -0.059877097606658936,
           -0.10738956928253174,
           -0.16268198192119598,
           -0.2051439881324768,
           -0.10645846277475357,
           0.11596912890672684,
           0.4699993133544922,
           0.8990710973739624,
           0.8082537651062012,
           0.004246711730957031,
           -0.7750018835067749,
           -0.9095467925071716,
           -0.7539538145065308,
           -0.48686158657073975,
           -0.2540305256843567,
           -0.08169331401586533,
           -0.026399817317724228,
           -0.0034795517567545176,
           0,
           0,
           0
          ],
          [
           0,
           0,
           0,
           0,
           -0.00031671911710873246,
           -0.0035497851204127073,
           -0.015225529670715332,
           -0.05392807349562645,
           -0.11806274205446243,
           -0.14610342681407928,
           -0.14199873805046082,
           -0.03154964745044708,
           0.22106552124023438,
           0.49831250309944153,
           0.8816111087799072,
           0.6910889148712158,
           0.010163500905036926,
           -0.6403040885925293,
           -0.8628898859024048,
           -0.7621097564697266,
           -0.511150598526001,
           -0.30238744616508484,
           -0.12347808480262756,
           -0.036661915481090546,
           -0.005125605501234531,
           0,
           0,
           0
          ],
          [
           0,
           0,
           0,
           0,
           -0.0011436764616519213,
           -0.011400229297578335,
           -0.023779189214110374,
           -0.050487447530031204,
           -0.09291939437389374,
           -0.0923013687133789,
           -0.06851734220981598,
           0.07259774953126907,
           0.3171784281730652,
           0.5704224705696106,
           0.860809326171875,
           0.6568492650985718,
           0.10908803343772888,
           -0.4773324131965637,
           -0.7376956939697266,
           -0.6600106954574585,
           -0.5087462067604065,
           -0.3132646679878235,
           -0.14951848983764648,
           -0.04871401563286781,
           -0.00562499463558197,
           0,
           0,
           0
          ],
          [
           0,
           0,
           0,
           0,
           -0.0016579113435000181,
           -0.016178768128156662,
           -0.020639006048440933,
           -0.04485198110342026,
           -0.05890467017889023,
           -0.018761545419692993,
           0.03036445379257202,
           0.13869406282901764,
           0.3890518844127655,
           0.5885828733444214,
           0.6764305830001831,
           0.5914679765701294,
           0.21281768381595612,
           -0.22349756956100464,
           -0.46175628900527954,
           -0.4567427635192871,
           -0.3436834216117859,
           -0.2138870507478714,
           -0.08948668092489243,
           -0.03502809256315231,
           -0.010242551565170288,
           0,
           0,
           0
          ],
          [
           0,
           0,
           0,
           -0.0003676968044601381,
           -0.001872836146503687,
           -0.000021832092897966504,
           0.0032148431055247784,
           -0.0018654200248420238,
           0.02532338723540306,
           0.0652320608496666,
           0.09769780933856964,
           0.13927263021469116,
           0.17127060890197754,
           0.21773090958595276,
           0.2549206614494324,
           0.1915084719657898,
           0.14965206384658813,
           0.039369381964206696,
           -0.07287479192018509,
           -0.10404710471630096,
           -0.0921475887298584,
           -0.0465671643614769,
           -0.02093222737312317,
           -0.005079150199890137,
           0,
           0,
           0,
           0
          ],
          [
           0,
           0,
           0,
           0,
           0,
           0,
           0,
           0,
           0,
           0,
           0,
           0,
           0.004397105425596237,
           0.005870494060218334,
           0.011050808243453503,
           0.0017760138725861907,
           0.00013609384768642485,
           0.00019665644504129887,
           -0.002873161109164357,
           -0.003806577529758215,
           -0.0019767761696130037,
           -0.0003695723135024309,
           -0.004786953795701265,
           0,
           0,
           0,
           0,
           0
          ]
         ]
        }
       ],
       "layout": {
        "coloraxis": {
         "cmid": 0,
         "colorscale": [
          [
           0,
           "rgb(103,0,31)"
          ],
          [
           0.1,
           "rgb(178,24,43)"
          ],
          [
           0.2,
           "rgb(214,96,77)"
          ],
          [
           0.3,
           "rgb(244,165,130)"
          ],
          [
           0.4,
           "rgb(253,219,199)"
          ],
          [
           0.5,
           "rgb(247,247,247)"
          ],
          [
           0.6,
           "rgb(209,229,240)"
          ],
          [
           0.7,
           "rgb(146,197,222)"
          ],
          [
           0.8,
           "rgb(67,147,195)"
          ],
          [
           0.9,
           "rgb(33,102,172)"
          ],
          [
           1,
           "rgb(5,48,97)"
          ]
         ]
        },
        "margin": {
         "t": 60
        },
        "template": {
         "data": {
          "bar": [
           {
            "error_x": {
             "color": "#2a3f5f"
            },
            "error_y": {
             "color": "#2a3f5f"
            },
            "marker": {
             "line": {
              "color": "#E5ECF6",
              "width": 0.5
             },
             "pattern": {
              "fillmode": "overlay",
              "size": 10,
              "solidity": 0.2
             }
            },
            "type": "bar"
           }
          ],
          "barpolar": [
           {
            "marker": {
             "line": {
              "color": "#E5ECF6",
              "width": 0.5
             },
             "pattern": {
              "fillmode": "overlay",
              "size": 10,
              "solidity": 0.2
             }
            },
            "type": "barpolar"
           }
          ],
          "carpet": [
           {
            "aaxis": {
             "endlinecolor": "#2a3f5f",
             "gridcolor": "white",
             "linecolor": "white",
             "minorgridcolor": "white",
             "startlinecolor": "#2a3f5f"
            },
            "baxis": {
             "endlinecolor": "#2a3f5f",
             "gridcolor": "white",
             "linecolor": "white",
             "minorgridcolor": "white",
             "startlinecolor": "#2a3f5f"
            },
            "type": "carpet"
           }
          ],
          "choropleth": [
           {
            "colorbar": {
             "outlinewidth": 0,
             "ticks": ""
            },
            "type": "choropleth"
           }
          ],
          "contour": [
           {
            "colorbar": {
             "outlinewidth": 0,
             "ticks": ""
            },
            "colorscale": [
             [
              0,
              "#0d0887"
             ],
             [
              0.1111111111111111,
              "#46039f"
             ],
             [
              0.2222222222222222,
              "#7201a8"
             ],
             [
              0.3333333333333333,
              "#9c179e"
             ],
             [
              0.4444444444444444,
              "#bd3786"
             ],
             [
              0.5555555555555556,
              "#d8576b"
             ],
             [
              0.6666666666666666,
              "#ed7953"
             ],
             [
              0.7777777777777778,
              "#fb9f3a"
             ],
             [
              0.8888888888888888,
              "#fdca26"
             ],
             [
              1,
              "#f0f921"
             ]
            ],
            "type": "contour"
           }
          ],
          "contourcarpet": [
           {
            "colorbar": {
             "outlinewidth": 0,
             "ticks": ""
            },
            "type": "contourcarpet"
           }
          ],
          "heatmap": [
           {
            "colorbar": {
             "outlinewidth": 0,
             "ticks": ""
            },
            "colorscale": [
             [
              0,
              "#0d0887"
             ],
             [
              0.1111111111111111,
              "#46039f"
             ],
             [
              0.2222222222222222,
              "#7201a8"
             ],
             [
              0.3333333333333333,
              "#9c179e"
             ],
             [
              0.4444444444444444,
              "#bd3786"
             ],
             [
              0.5555555555555556,
              "#d8576b"
             ],
             [
              0.6666666666666666,
              "#ed7953"
             ],
             [
              0.7777777777777778,
              "#fb9f3a"
             ],
             [
              0.8888888888888888,
              "#fdca26"
             ],
             [
              1,
              "#f0f921"
             ]
            ],
            "type": "heatmap"
           }
          ],
          "heatmapgl": [
           {
            "colorbar": {
             "outlinewidth": 0,
             "ticks": ""
            },
            "colorscale": [
             [
              0,
              "#0d0887"
             ],
             [
              0.1111111111111111,
              "#46039f"
             ],
             [
              0.2222222222222222,
              "#7201a8"
             ],
             [
              0.3333333333333333,
              "#9c179e"
             ],
             [
              0.4444444444444444,
              "#bd3786"
             ],
             [
              0.5555555555555556,
              "#d8576b"
             ],
             [
              0.6666666666666666,
              "#ed7953"
             ],
             [
              0.7777777777777778,
              "#fb9f3a"
             ],
             [
              0.8888888888888888,
              "#fdca26"
             ],
             [
              1,
              "#f0f921"
             ]
            ],
            "type": "heatmapgl"
           }
          ],
          "histogram": [
           {
            "marker": {
             "pattern": {
              "fillmode": "overlay",
              "size": 10,
              "solidity": 0.2
             }
            },
            "type": "histogram"
           }
          ],
          "histogram2d": [
           {
            "colorbar": {
             "outlinewidth": 0,
             "ticks": ""
            },
            "colorscale": [
             [
              0,
              "#0d0887"
             ],
             [
              0.1111111111111111,
              "#46039f"
             ],
             [
              0.2222222222222222,
              "#7201a8"
             ],
             [
              0.3333333333333333,
              "#9c179e"
             ],
             [
              0.4444444444444444,
              "#bd3786"
             ],
             [
              0.5555555555555556,
              "#d8576b"
             ],
             [
              0.6666666666666666,
              "#ed7953"
             ],
             [
              0.7777777777777778,
              "#fb9f3a"
             ],
             [
              0.8888888888888888,
              "#fdca26"
             ],
             [
              1,
              "#f0f921"
             ]
            ],
            "type": "histogram2d"
           }
          ],
          "histogram2dcontour": [
           {
            "colorbar": {
             "outlinewidth": 0,
             "ticks": ""
            },
            "colorscale": [
             [
              0,
              "#0d0887"
             ],
             [
              0.1111111111111111,
              "#46039f"
             ],
             [
              0.2222222222222222,
              "#7201a8"
             ],
             [
              0.3333333333333333,
              "#9c179e"
             ],
             [
              0.4444444444444444,
              "#bd3786"
             ],
             [
              0.5555555555555556,
              "#d8576b"
             ],
             [
              0.6666666666666666,
              "#ed7953"
             ],
             [
              0.7777777777777778,
              "#fb9f3a"
             ],
             [
              0.8888888888888888,
              "#fdca26"
             ],
             [
              1,
              "#f0f921"
             ]
            ],
            "type": "histogram2dcontour"
           }
          ],
          "mesh3d": [
           {
            "colorbar": {
             "outlinewidth": 0,
             "ticks": ""
            },
            "type": "mesh3d"
           }
          ],
          "parcoords": [
           {
            "line": {
             "colorbar": {
              "outlinewidth": 0,
              "ticks": ""
             }
            },
            "type": "parcoords"
           }
          ],
          "pie": [
           {
            "automargin": true,
            "type": "pie"
           }
          ],
          "scatter": [
           {
            "marker": {
             "colorbar": {
              "outlinewidth": 0,
              "ticks": ""
             }
            },
            "type": "scatter"
           }
          ],
          "scatter3d": [
           {
            "line": {
             "colorbar": {
              "outlinewidth": 0,
              "ticks": ""
             }
            },
            "marker": {
             "colorbar": {
              "outlinewidth": 0,
              "ticks": ""
             }
            },
            "type": "scatter3d"
           }
          ],
          "scattercarpet": [
           {
            "marker": {
             "colorbar": {
              "outlinewidth": 0,
              "ticks": ""
             }
            },
            "type": "scattercarpet"
           }
          ],
          "scattergeo": [
           {
            "marker": {
             "colorbar": {
              "outlinewidth": 0,
              "ticks": ""
             }
            },
            "type": "scattergeo"
           }
          ],
          "scattergl": [
           {
            "marker": {
             "colorbar": {
              "outlinewidth": 0,
              "ticks": ""
             }
            },
            "type": "scattergl"
           }
          ],
          "scattermapbox": [
           {
            "marker": {
             "colorbar": {
              "outlinewidth": 0,
              "ticks": ""
             }
            },
            "type": "scattermapbox"
           }
          ],
          "scatterpolar": [
           {
            "marker": {
             "colorbar": {
              "outlinewidth": 0,
              "ticks": ""
             }
            },
            "type": "scatterpolar"
           }
          ],
          "scatterpolargl": [
           {
            "marker": {
             "colorbar": {
              "outlinewidth": 0,
              "ticks": ""
             }
            },
            "type": "scatterpolargl"
           }
          ],
          "scatterternary": [
           {
            "marker": {
             "colorbar": {
              "outlinewidth": 0,
              "ticks": ""
             }
            },
            "type": "scatterternary"
           }
          ],
          "surface": [
           {
            "colorbar": {
             "outlinewidth": 0,
             "ticks": ""
            },
            "colorscale": [
             [
              0,
              "#0d0887"
             ],
             [
              0.1111111111111111,
              "#46039f"
             ],
             [
              0.2222222222222222,
              "#7201a8"
             ],
             [
              0.3333333333333333,
              "#9c179e"
             ],
             [
              0.4444444444444444,
              "#bd3786"
             ],
             [
              0.5555555555555556,
              "#d8576b"
             ],
             [
              0.6666666666666666,
              "#ed7953"
             ],
             [
              0.7777777777777778,
              "#fb9f3a"
             ],
             [
              0.8888888888888888,
              "#fdca26"
             ],
             [
              1,
              "#f0f921"
             ]
            ],
            "type": "surface"
           }
          ],
          "table": [
           {
            "cells": {
             "fill": {
              "color": "#EBF0F8"
             },
             "line": {
              "color": "white"
             }
            },
            "header": {
             "fill": {
              "color": "#C8D4E3"
             },
             "line": {
              "color": "white"
             }
            },
            "type": "table"
           }
          ]
         },
         "layout": {
          "annotationdefaults": {
           "arrowcolor": "#2a3f5f",
           "arrowhead": 0,
           "arrowwidth": 1
          },
          "autotypenumbers": "strict",
          "coloraxis": {
           "colorbar": {
            "outlinewidth": 0,
            "ticks": ""
           }
          },
          "colorscale": {
           "diverging": [
            [
             0,
             "#8e0152"
            ],
            [
             0.1,
             "#c51b7d"
            ],
            [
             0.2,
             "#de77ae"
            ],
            [
             0.3,
             "#f1b6da"
            ],
            [
             0.4,
             "#fde0ef"
            ],
            [
             0.5,
             "#f7f7f7"
            ],
            [
             0.6,
             "#e6f5d0"
            ],
            [
             0.7,
             "#b8e186"
            ],
            [
             0.8,
             "#7fbc41"
            ],
            [
             0.9,
             "#4d9221"
            ],
            [
             1,
             "#276419"
            ]
           ],
           "sequential": [
            [
             0,
             "#0d0887"
            ],
            [
             0.1111111111111111,
             "#46039f"
            ],
            [
             0.2222222222222222,
             "#7201a8"
            ],
            [
             0.3333333333333333,
             "#9c179e"
            ],
            [
             0.4444444444444444,
             "#bd3786"
            ],
            [
             0.5555555555555556,
             "#d8576b"
            ],
            [
             0.6666666666666666,
             "#ed7953"
            ],
            [
             0.7777777777777778,
             "#fb9f3a"
            ],
            [
             0.8888888888888888,
             "#fdca26"
            ],
            [
             1,
             "#f0f921"
            ]
           ],
           "sequentialminus": [
            [
             0,
             "#0d0887"
            ],
            [
             0.1111111111111111,
             "#46039f"
            ],
            [
             0.2222222222222222,
             "#7201a8"
            ],
            [
             0.3333333333333333,
             "#9c179e"
            ],
            [
             0.4444444444444444,
             "#bd3786"
            ],
            [
             0.5555555555555556,
             "#d8576b"
            ],
            [
             0.6666666666666666,
             "#ed7953"
            ],
            [
             0.7777777777777778,
             "#fb9f3a"
            ],
            [
             0.8888888888888888,
             "#fdca26"
            ],
            [
             1,
             "#f0f921"
            ]
           ]
          },
          "colorway": [
           "#636efa",
           "#EF553B",
           "#00cc96",
           "#ab63fa",
           "#FFA15A",
           "#19d3f3",
           "#FF6692",
           "#B6E880",
           "#FF97FF",
           "#FECB52"
          ],
          "font": {
           "color": "#2a3f5f"
          },
          "geo": {
           "bgcolor": "white",
           "lakecolor": "white",
           "landcolor": "#E5ECF6",
           "showlakes": true,
           "showland": true,
           "subunitcolor": "white"
          },
          "hoverlabel": {
           "align": "left"
          },
          "hovermode": "closest",
          "mapbox": {
           "style": "light"
          },
          "paper_bgcolor": "white",
          "plot_bgcolor": "#E5ECF6",
          "polar": {
           "angularaxis": {
            "gridcolor": "white",
            "linecolor": "white",
            "ticks": ""
           },
           "bgcolor": "#E5ECF6",
           "radialaxis": {
            "gridcolor": "white",
            "linecolor": "white",
            "ticks": ""
           }
          },
          "scene": {
           "xaxis": {
            "backgroundcolor": "#E5ECF6",
            "gridcolor": "white",
            "gridwidth": 2,
            "linecolor": "white",
            "showbackground": true,
            "ticks": "",
            "zerolinecolor": "white"
           },
           "yaxis": {
            "backgroundcolor": "#E5ECF6",
            "gridcolor": "white",
            "gridwidth": 2,
            "linecolor": "white",
            "showbackground": true,
            "ticks": "",
            "zerolinecolor": "white"
           },
           "zaxis": {
            "backgroundcolor": "#E5ECF6",
            "gridcolor": "white",
            "gridwidth": 2,
            "linecolor": "white",
            "showbackground": true,
            "ticks": "",
            "zerolinecolor": "white"
           }
          },
          "shapedefaults": {
           "line": {
            "color": "#2a3f5f"
           }
          },
          "ternary": {
           "aaxis": {
            "gridcolor": "white",
            "linecolor": "white",
            "ticks": ""
           },
           "baxis": {
            "gridcolor": "white",
            "linecolor": "white",
            "ticks": ""
           },
           "bgcolor": "#E5ECF6",
           "caxis": {
            "gridcolor": "white",
            "linecolor": "white",
            "ticks": ""
           }
          },
          "title": {
           "x": 0.05
          },
          "xaxis": {
           "automargin": true,
           "gridcolor": "white",
           "linecolor": "white",
           "ticks": "",
           "title": {
            "standoff": 15
           },
           "zerolinecolor": "white",
           "zerolinewidth": 2
          },
          "yaxis": {
           "automargin": true,
           "gridcolor": "white",
           "linecolor": "white",
           "ticks": "",
           "title": {
            "standoff": 15
           },
           "zerolinecolor": "white",
           "zerolinewidth": 2
          }
         }
        },
        "xaxis": {
         "anchor": "y",
         "constrain": "domain",
         "domain": [
          0,
          1
         ],
         "scaleanchor": "y"
        },
        "yaxis": {
         "anchor": "x",
         "autorange": "reversed",
         "constrain": "domain",
         "domain": [
          0,
          1
         ]
        }
       }
      }
     },
     "metadata": {},
     "output_type": "display_data"
    }
   ],
   "source": [
    "px.imshow((cov @ X[0]).reshape(28, 28), color_continuous_scale='RdBu', color_continuous_midpoint=0)"
   ]
  },
  {
   "cell_type": "code",
   "execution_count": 197,
   "metadata": {},
   "outputs": [
    {
     "data": {
      "text/plain": [
       "(784, 784)"
      ]
     },
     "execution_count": 197,
     "metadata": {},
     "output_type": "execute_result"
    }
   ],
   "source": [
    "num_eigenvectors = 5\n",
    "U,S,V = np.linalg.svd(cov)\n",
    "\n",
    "U.shape"
   ]
  },
  {
   "cell_type": "code",
   "execution_count": 198,
   "metadata": {},
   "outputs": [],
   "source": [
    "U_reduced = U[:,:num_eigenvectors].T # get the first 5 eigenvectors"
   ]
  },
  {
   "cell_type": "code",
   "execution_count": 110,
   "metadata": {},
   "outputs": [
    {
     "data": {
      "text/plain": [
       "array([6.6365595, 3.7891724, 3.230307 , 1.9516282, 1.7772009],\n",
       "      dtype=float32)"
      ]
     },
     "execution_count": 110,
     "metadata": {},
     "output_type": "execute_result"
    }
   ],
   "source": [
    "S[:num_eigenvectors]"
   ]
  },
  {
   "cell_type": "code",
   "execution_count": 199,
   "metadata": {},
   "outputs": [
    {
     "data": {
      "application/vnd.plotly.v1+json": {
       "config": {
        "plotlyServerURL": "https://plot.ly"
       },
       "data": [
        {
         "coloraxis": "coloraxis",
         "hovertemplate": "x: %{x}<br>y: %{y}<br>color: %{z}<extra></extra>",
         "name": "0",
         "type": "heatmap",
         "xaxis": "x",
         "yaxis": "y",
         "z": [
          [
           0,
           0,
           0,
           0,
           0,
           0,
           0,
           0,
           0,
           0,
           0,
           0,
           0,
           0,
           0,
           0,
           0,
           0,
           0,
           0,
           0,
           0,
           0,
           0,
           0,
           0,
           0,
           0
          ],
          [
           0,
           0,
           0,
           0,
           0,
           0,
           0,
           0,
           0,
           0,
           0,
           0,
           0,
           0,
           0,
           0,
           0,
           0,
           0,
           0,
           0,
           0,
           0,
           0,
           0,
           0,
           0,
           0
          ],
          [
           0,
           0,
           0,
           0,
           0,
           0,
           0,
           0,
           0,
           0,
           0,
           0,
           0,
           0,
           0,
           0,
           0,
           0,
           0,
           0,
           0,
           0,
           0,
           0,
           0,
           0,
           0,
           0
          ],
          [
           0,
           0,
           0,
           0,
           0,
           0,
           0,
           0,
           0,
           0,
           0,
           0,
           0,
           0,
           0,
           0,
           0,
           0,
           0,
           0,
           0,
           0,
           0,
           0,
           0,
           0,
           0,
           0
          ],
          [
           0,
           0,
           0,
           0,
           0,
           0,
           0,
           0,
           0,
           0,
           -0.00007572249160148203,
           -0.00033259965130127966,
           -0.0004678145342040807,
           -0.0004256645333953202,
           -0.0005737245664931834,
           -0.000570460397284478,
           -0.0003379250701982528,
           -0.00008343400986632332,
           -0.0000031909214612824144,
           0,
           0,
           0,
           0,
           0,
           0,
           0,
           0,
           0
          ],
          [
           0,
           0,
           0,
           0,
           0,
           0,
           0,
           -0.00013032903370913118,
           -0.0007202199194580317,
           -0.0011917997617274523,
           -0.0022738021798431873,
           -0.005672454833984375,
           -0.009351743385195732,
           -0.010368513874709606,
           -0.00985623151063919,
           -0.007856260985136032,
           -0.004311254248023033,
           -0.0010426633525639772,
           0.0008794693858362734,
           0.0016814986011013389,
           0.0013416827423498034,
           0.0006332869525067508,
           0.00005567930929828435,
           0,
           0,
           0,
           0,
           0
          ],
          [
           0,
           0,
           0,
           0,
           0,
           -0.00001288134171772981,
           -0.0010829699458554387,
           -0.0023915364872664213,
           -0.0060027725994586945,
           -0.015455374494194984,
           -0.029085423797369003,
           -0.045593664050102234,
           -0.06075527146458626,
           -0.056604307144880295,
           -0.03120984137058258,
           0.002970801666378975,
           0.036792200058698654,
           0.0588211715221405,
           0.05501798912882805,
           0.03674766421318054,
           0.017883099615573883,
           0.005995524115860462,
           0.0007897735922597349,
           -0.00010669083712855354,
           0.00001027647977025481,
           0,
           0,
           0
          ],
          [
           0,
           0,
           0,
           -0.000019763552700169384,
           -0.00008193607209250331,
           -0.000982418074272573,
           -0.004701825324445963,
           -0.012236235663294792,
           -0.03103228472173214,
           -0.05824211239814758,
           -0.08810168504714966,
           -0.09921502321958542,
           -0.08092235773801804,
           -0.04494807869195938,
           -0.00932386051863432,
           0.017090465873479843,
           0.0425509549677372,
           0.06814651191234589,
           0.07863397896289825,
           0.06728116422891617,
           0.04010770097374916,
           0.01806451752781868,
           0.004550323821604252,
           0.0002870530588552356,
           0.00023811255232430995,
           0,
           0,
           0
          ],
          [
           0,
           0,
           0,
           -0.000019314333258080296,
           -0.0008640372543595731,
           -0.003503700252622366,
           -0.013497423380613327,
           -0.035251010209321976,
           -0.07023818045854568,
           -0.1031828224658966,
           -0.10427369922399521,
           -0.0674796774983406,
           -0.010658212006092072,
           0.01919359341263771,
           0.016655337065458298,
           -0.004056503996253014,
           -0.014670814387500286,
           -0.0035722313914448023,
           0.03409149497747421,
           0.06059766188263893,
           0.04432922601699829,
           0.022618751972913742,
           0.008654290810227394,
           0.0013496174942702055,
           0.0002114522794727236,
           0,
           0,
           0
          ],
          [
           0,
           0,
           0,
           0.000004289472144591855,
           -0.0008014565100893378,
           -0.00893308687955141,
           -0.03116382472217083,
           -0.06543775647878647,
           -0.10012661665678024,
           -0.10649740695953369,
           -0.052015580236911774,
           0.025746740400791168,
           0.0671740248799324,
           0.055117618292570114,
           0.0160232987254858,
           -0.02605516090989113,
           -0.055469121783971786,
           -0.0522872656583786,
           -0.003084347816184163,
           0.03732779622077942,
           0.034210387617349625,
           0.018295234069228172,
           0.007429995108395815,
           0.0013433753047138453,
           0.0003618137852754444,
           0,
           0,
           0
          ],
          [
           0,
           0,
           0,
           -0.000140818563522771,
           -0.002201711991801858,
           -0.02064451575279236,
           -0.051758550107479095,
           -0.08756185322999954,
           -0.10529062151908875,
           -0.06024562940001488,
           0.03343327343463898,
           0.09131155908107758,
           0.08007147163152695,
           0.03394484892487526,
           -0.004709082655608654,
           -0.033386945724487305,
           -0.052535898983478546,
           -0.04273514077067375,
           -0.00421225605532527,
           0.023936688899993896,
           0.02506721019744873,
           0.010546274483203888,
           0.005110608413815498,
           0.0002603086759336293,
           0.0005089766927994788,
           0.00002041013794951141,
           0,
           0
          ],
          [
           0,
           0,
           0,
           -0.0003962180926464498,
           -0.00624583475291729,
           -0.032676100730895996,
           -0.06656470149755478,
           -0.09604246914386749,
           -0.0874556452035904,
           -0.0013907746179029346,
           0.08418037742376328,
           0.09689587354660034,
           0.0476345457136631,
           0.007928918115794659,
           -0.012587900273501873,
           -0.02918635495007038,
           -0.02345026284456253,
           -0.004343599081039429,
           0.012998756021261215,
           0.01621505245566368,
           0.011547952890396118,
           0.001185718341730535,
           -0.0004904646193608642,
           -0.0006443870952352881,
           -0.0002288666000822559,
           0.00005977254477329552,
           0,
           0
          ],
          [
           0,
           0,
           0,
           -0.0016373218968510628,
           -0.0108038866892457,
           -0.03898809850215912,
           -0.07535222917795181,
           -0.09452833235263824,
           -0.06558641791343689,
           0.02613637037575245,
           0.09254945069551468,
           0.07866553217172623,
           0.032491859048604965,
           0.011389955878257751,
           0.005170280579477549,
           0.001954225357621908,
           0.017781134694814682,
           0.024516712874174118,
           0.019137535244226456,
           -0.00008558479021303356,
           -0.011265218257904053,
           -0.011255992576479912,
           -0.004349748138338327,
           -0.0012256769696250558,
           -0.0001954886974999681,
           0.00002277222301927395,
           0,
           0
          ],
          [
           0,
           0,
           0,
           -0.0022563075181096792,
           -0.012279077433049679,
           -0.038987528532743454,
           -0.0750245749950409,
           -0.0920611023902893,
           -0.0574660561978817,
           0.024920344352722168,
           0.08177781850099564,
           0.0748613104224205,
           0.05169190093874931,
           0.04199958220124245,
           0.040353722870349884,
           0.04013795033097267,
           0.04192090779542923,
           0.026271039620041847,
           0.00099321105517447,
           -0.029749371111392975,
           -0.03145396709442139,
           -0.018337810412049294,
           -0.006911871489137411,
           -0.001621657400391996,
           -0.0001570015592733398,
           0.00022121594520285726,
           0.00005638836955768056,
           0
          ],
          [
           0,
           0,
           0,
           -0.0021931782830506563,
           -0.011700998991727829,
           -0.03410445153713226,
           -0.0663333386182785,
           -0.08595877885818481,
           -0.0685667097568512,
           -0.004366896580904722,
           0.04888337478041649,
           0.06324981153011322,
           0.06196478381752968,
           0.05323181673884392,
           0.046999815851449966,
           0.0438818521797657,
           0.04120926186442375,
           0.011064012534916401,
           -0.032546330243349075,
           -0.05595816671848297,
           -0.04199676215648651,
           -0.01928124576807022,
           -0.006454029120504856,
           -0.001746228663250804,
           -0.000006249162652238738,
           0.00024507238413207233,
           0.00006723228580085561,
           0
          ],
          [
           0,
           0,
           0,
           -0.001032577594742179,
           -0.009100689552724361,
           -0.025813709944486618,
           -0.05301709473133087,
           -0.07544760406017303,
           -0.07861868292093277,
           -0.04901198297739029,
           -0.013497601263225079,
           0.008288690820336342,
           0.011352917179465294,
           0.006841192487627268,
           0.010302521288394928,
           0.03848259896039963,
           0.03757032752037048,
           -0.017508558928966522,
           -0.07082435488700867,
           -0.07395295053720474,
           -0.042516496032476425,
           -0.015986617654561996,
           -0.004991570953279734,
           -0.000923081417568028,
           0.00014958395331632346,
           0.00024507238413207233,
           0.0001218998950207606,
           0
          ],
          [
           0,
           0,
           0,
           -0.0005794841563329101,
           -0.00528810964897275,
           -0.016182634979486465,
           -0.03493737801909447,
           -0.0558798611164093,
           -0.0724194273352623,
           -0.07600968331098557,
           -0.06674543023109436,
           -0.057147469371557236,
           -0.05079753324389458,
           -0.03726282715797424,
           0.00596363702788949,
           0.06175284832715988,
           0.032074134796857834,
           -0.052480630576610565,
           -0.10159733146429062,
           -0.07940049469470978,
           -0.0398629829287529,
           -0.013842375949025154,
           -0.004484015051275492,
           -0.0008074597571976483,
           0.00015122773766051978,
           0.00005964145384496078,
           0.000037953701394144446,
           0
          ],
          [
           0,
           0,
           0.00008283404895337299,
           -0.0003796469245571643,
           -0.0024839742109179497,
           -0.007560435216873884,
           -0.01798936165869236,
           -0.03059849515557289,
           -0.04498535394668579,
           -0.058343514800071716,
           -0.06455578655004501,
           -0.06302786618471146,
           -0.05268976464867592,
           -0.018639830872416496,
           0.05341992899775505,
           0.08671950548887253,
           0.017874758690595627,
           -0.08366339653730392,
           -0.11565034836530685,
           -0.07910139858722687,
           -0.03661981225013733,
           -0.010883878916501999,
           -0.0037059730384498835,
           -0.0006897310959175229,
           0.00014958395331632346,
           0,
           0,
           0
          ],
          [
           0,
           0,
           0.0001912715524667874,
           -0.00037171653821133077,
           -0.0017199505819007754,
           -0.0037481843028217554,
           -0.008384745568037033,
           -0.014281248673796654,
           -0.019675584509968758,
           -0.026651231572031975,
           -0.03464396670460701,
           -0.03410070016980171,
           -0.014353722333908081,
           0.04208563268184662,
           0.1087617501616478,
           0.09625737369060516,
           -0.009785590693354607,
           -0.10515538603067398,
           -0.1169092208147049,
           -0.07774502784013748,
           -0.035907354205846786,
           -0.011177289299666882,
           -0.00360283674672246,
           -0.0004658504039980471,
           0.00010387286602053791,
           0,
           0,
           0
          ],
          [
           0,
           0,
           0,
           -0.0003837600233964622,
           -0.0008031608304008842,
           -0.0019712825305759907,
           -0.004431650973856449,
           -0.007421531714498997,
           -0.010476171970367432,
           -0.011967416852712631,
           -0.01131372433155775,
           0.0009313542977906764,
           0.03666021302342415,
           0.09997901320457458,
           0.12702499330043793,
           0.07255155593156815,
           -0.03894934058189392,
           -0.11008495092391968,
           -0.11105145514011383,
           -0.0770336389541626,
           -0.03545379638671875,
           -0.011654999107122421,
           -0.00403713108971715,
           -0.0005835035117343068,
           -0.00007039275806164369,
           0,
           0,
           0
          ],
          [
           0,
           0,
           0,
           -0.0002946188615169376,
           -0.0005970910424366593,
           -0.0009099718299694359,
           -0.0027794144116342068,
           -0.004873998463153839,
           -0.0049894023686647415,
           -0.00247815134935081,
           0.006844845600426197,
           0.03143537417054176,
           0.08179470896720886,
           0.12373025715351105,
           0.11192391067743301,
           0.03594540059566498,
           -0.059558190405368805,
           -0.1095895990729332,
           -0.10493812710046768,
           -0.07617097347974777,
           -0.035033632069826126,
           -0.01336941309273243,
           -0.005246551241725683,
           -0.000661821395624429,
           -0.00038004975067451596,
           0,
           0,
           0
          ],
          [
           0,
           0,
           0,
           -0.000025684730644570664,
           -0.00024025951279327273,
           -0.00020116787345614284,
           -0.001440281281247735,
           -0.002655601594597101,
           -0.0007967833080329001,
           0.007646434474736452,
           0.02729637920856476,
           0.0606708824634552,
           0.10684245079755783,
           0.12019429355859756,
           0.07905557751655579,
           0.003043984994292259,
           -0.06989835202693939,
           -0.1051638051867485,
           -0.09910344332456589,
           -0.07135919481515884,
           -0.037544891238212585,
           -0.01670956425368786,
           -0.006059802602976561,
           -0.00198869570158422,
           -0.00024630053667351604,
           0,
           0,
           0
          ],
          [
           0,
           0,
           0,
           0,
           0.000017433301763958298,
           0.00015785297728143632,
           0.0004635727673303336,
           0.0012064342154189944,
           0.007391957100480795,
           0.02142469771206379,
           0.04592868313193321,
           0.08732233941555023,
           0.11181441694498062,
           0.09675595164299011,
           0.046516597270965576,
           -0.018158569931983948,
           -0.07213088124990463,
           -0.098183274269104,
           -0.09094028174877167,
           -0.06956405192613602,
           -0.0410088486969471,
           -0.02121921069920063,
           -0.006891079246997833,
           -0.0027916820254176855,
           -0.0001626429584575817,
           0,
           0,
           0
          ],
          [
           0,
           0,
           0,
           0,
           0.00010130887676496059,
           0.0008442761027254164,
           0.0019980082288384438,
           0.006784422323107719,
           0.017118316143751144,
           0.03720395267009735,
           0.06865180283784866,
           0.09865204989910126,
           0.10101606696844101,
           0.06986609846353531,
           0.02252385765314102,
           -0.030614595860242844,
           -0.06910175085067749,
           -0.08813390880823135,
           -0.08767227828502655,
           -0.07081813365221024,
           -0.04443260654807091,
           -0.024061746895313263,
           -0.009265671484172344,
           -0.003235827898606658,
           -0.0006846716860309243,
           0,
           0,
           0
          ],
          [
           0,
           0,
           0,
           0,
           0.00018915219698101282,
           0.001596580259501934,
           0.004122419282793999,
           0.012198729440569878,
           0.02673259563744068,
           0.049649614840745926,
           0.0824114978313446,
           0.09469445794820786,
           0.08379370719194412,
           0.048209674656391144,
           0.009278073906898499,
           -0.030535463243722916,
           -0.061036501079797745,
           -0.07956255972385406,
           -0.0803011804819107,
           -0.0637587234377861,
           -0.04442445933818817,
           -0.025545386597514153,
           -0.011912473477423191,
           -0.004105203319340944,
           -0.0007497018086723983,
           0,
           0,
           0
          ],
          [
           0,
           0,
           0,
           0,
           0.00020134620717726648,
           0.0019859049934893847,
           0.0044571468606591225,
           0.010842029936611652,
           0.026019642129540443,
           0.0491395965218544,
           0.07024764269590378,
           0.07383187860250473,
           0.05960657447576523,
           0.03224693238735199,
           0.0024689636193215847,
           -0.022149574011564255,
           -0.04453783109784126,
           -0.05849616602063179,
           -0.058078449219465256,
           -0.047511402517557144,
           -0.032889217138290405,
           -0.0188363678753376,
           -0.00785380881279707,
           -0.0029415704775601625,
           -0.0006728991866111755,
           0,
           0,
           0
          ],
          [
           0,
           0,
           0,
           0.0000380486853828188,
           0.00037215379416011274,
           0.0004783694166690111,
           0.0015920790610834956,
           0.003683685790747404,
           0.008452089503407478,
           0.013981536962091923,
           0.016748717054724693,
           0.015480002388358116,
           0.010715775191783905,
           0.005056236870586872,
           -0.0013116755289956927,
           -0.0064428639598190784,
           -0.009165306575596333,
           -0.015113749541342258,
           -0.017482656985521317,
           -0.014444832690060139,
           -0.009922345168888569,
           -0.004342624451965094,
           -0.0016807735664770007,
           -0.000396188028389588,
           0,
           0,
           0,
           0
          ],
          [
           0,
           0,
           0,
           0,
           0,
           0,
           0,
           0,
           0,
           0,
           0,
           0,
           0.00009210736607201397,
           0.0001229704066645354,
           -0.00016221862460952252,
           -0.00024023193691391498,
           -0.00002752587533905171,
           -0.0002048466558335349,
           -0.000564820074941963,
           -0.0005341332871466875,
           -0.00033011651248671114,
           -0.000017527623640489765,
           -0.00018074877152685076,
           0,
           0,
           0,
           0,
           0
          ]
         ]
        }
       ],
       "layout": {
        "coloraxis": {
         "cmid": 0,
         "colorscale": [
          [
           0,
           "rgb(103,0,31)"
          ],
          [
           0.1,
           "rgb(178,24,43)"
          ],
          [
           0.2,
           "rgb(214,96,77)"
          ],
          [
           0.3,
           "rgb(244,165,130)"
          ],
          [
           0.4,
           "rgb(253,219,199)"
          ],
          [
           0.5,
           "rgb(247,247,247)"
          ],
          [
           0.6,
           "rgb(209,229,240)"
          ],
          [
           0.7,
           "rgb(146,197,222)"
          ],
          [
           0.8,
           "rgb(67,147,195)"
          ],
          [
           0.9,
           "rgb(33,102,172)"
          ],
          [
           1,
           "rgb(5,48,97)"
          ]
         ]
        },
        "margin": {
         "t": 60
        },
        "template": {
         "data": {
          "bar": [
           {
            "error_x": {
             "color": "#2a3f5f"
            },
            "error_y": {
             "color": "#2a3f5f"
            },
            "marker": {
             "line": {
              "color": "#E5ECF6",
              "width": 0.5
             },
             "pattern": {
              "fillmode": "overlay",
              "size": 10,
              "solidity": 0.2
             }
            },
            "type": "bar"
           }
          ],
          "barpolar": [
           {
            "marker": {
             "line": {
              "color": "#E5ECF6",
              "width": 0.5
             },
             "pattern": {
              "fillmode": "overlay",
              "size": 10,
              "solidity": 0.2
             }
            },
            "type": "barpolar"
           }
          ],
          "carpet": [
           {
            "aaxis": {
             "endlinecolor": "#2a3f5f",
             "gridcolor": "white",
             "linecolor": "white",
             "minorgridcolor": "white",
             "startlinecolor": "#2a3f5f"
            },
            "baxis": {
             "endlinecolor": "#2a3f5f",
             "gridcolor": "white",
             "linecolor": "white",
             "minorgridcolor": "white",
             "startlinecolor": "#2a3f5f"
            },
            "type": "carpet"
           }
          ],
          "choropleth": [
           {
            "colorbar": {
             "outlinewidth": 0,
             "ticks": ""
            },
            "type": "choropleth"
           }
          ],
          "contour": [
           {
            "colorbar": {
             "outlinewidth": 0,
             "ticks": ""
            },
            "colorscale": [
             [
              0,
              "#0d0887"
             ],
             [
              0.1111111111111111,
              "#46039f"
             ],
             [
              0.2222222222222222,
              "#7201a8"
             ],
             [
              0.3333333333333333,
              "#9c179e"
             ],
             [
              0.4444444444444444,
              "#bd3786"
             ],
             [
              0.5555555555555556,
              "#d8576b"
             ],
             [
              0.6666666666666666,
              "#ed7953"
             ],
             [
              0.7777777777777778,
              "#fb9f3a"
             ],
             [
              0.8888888888888888,
              "#fdca26"
             ],
             [
              1,
              "#f0f921"
             ]
            ],
            "type": "contour"
           }
          ],
          "contourcarpet": [
           {
            "colorbar": {
             "outlinewidth": 0,
             "ticks": ""
            },
            "type": "contourcarpet"
           }
          ],
          "heatmap": [
           {
            "colorbar": {
             "outlinewidth": 0,
             "ticks": ""
            },
            "colorscale": [
             [
              0,
              "#0d0887"
             ],
             [
              0.1111111111111111,
              "#46039f"
             ],
             [
              0.2222222222222222,
              "#7201a8"
             ],
             [
              0.3333333333333333,
              "#9c179e"
             ],
             [
              0.4444444444444444,
              "#bd3786"
             ],
             [
              0.5555555555555556,
              "#d8576b"
             ],
             [
              0.6666666666666666,
              "#ed7953"
             ],
             [
              0.7777777777777778,
              "#fb9f3a"
             ],
             [
              0.8888888888888888,
              "#fdca26"
             ],
             [
              1,
              "#f0f921"
             ]
            ],
            "type": "heatmap"
           }
          ],
          "heatmapgl": [
           {
            "colorbar": {
             "outlinewidth": 0,
             "ticks": ""
            },
            "colorscale": [
             [
              0,
              "#0d0887"
             ],
             [
              0.1111111111111111,
              "#46039f"
             ],
             [
              0.2222222222222222,
              "#7201a8"
             ],
             [
              0.3333333333333333,
              "#9c179e"
             ],
             [
              0.4444444444444444,
              "#bd3786"
             ],
             [
              0.5555555555555556,
              "#d8576b"
             ],
             [
              0.6666666666666666,
              "#ed7953"
             ],
             [
              0.7777777777777778,
              "#fb9f3a"
             ],
             [
              0.8888888888888888,
              "#fdca26"
             ],
             [
              1,
              "#f0f921"
             ]
            ],
            "type": "heatmapgl"
           }
          ],
          "histogram": [
           {
            "marker": {
             "pattern": {
              "fillmode": "overlay",
              "size": 10,
              "solidity": 0.2
             }
            },
            "type": "histogram"
           }
          ],
          "histogram2d": [
           {
            "colorbar": {
             "outlinewidth": 0,
             "ticks": ""
            },
            "colorscale": [
             [
              0,
              "#0d0887"
             ],
             [
              0.1111111111111111,
              "#46039f"
             ],
             [
              0.2222222222222222,
              "#7201a8"
             ],
             [
              0.3333333333333333,
              "#9c179e"
             ],
             [
              0.4444444444444444,
              "#bd3786"
             ],
             [
              0.5555555555555556,
              "#d8576b"
             ],
             [
              0.6666666666666666,
              "#ed7953"
             ],
             [
              0.7777777777777778,
              "#fb9f3a"
             ],
             [
              0.8888888888888888,
              "#fdca26"
             ],
             [
              1,
              "#f0f921"
             ]
            ],
            "type": "histogram2d"
           }
          ],
          "histogram2dcontour": [
           {
            "colorbar": {
             "outlinewidth": 0,
             "ticks": ""
            },
            "colorscale": [
             [
              0,
              "#0d0887"
             ],
             [
              0.1111111111111111,
              "#46039f"
             ],
             [
              0.2222222222222222,
              "#7201a8"
             ],
             [
              0.3333333333333333,
              "#9c179e"
             ],
             [
              0.4444444444444444,
              "#bd3786"
             ],
             [
              0.5555555555555556,
              "#d8576b"
             ],
             [
              0.6666666666666666,
              "#ed7953"
             ],
             [
              0.7777777777777778,
              "#fb9f3a"
             ],
             [
              0.8888888888888888,
              "#fdca26"
             ],
             [
              1,
              "#f0f921"
             ]
            ],
            "type": "histogram2dcontour"
           }
          ],
          "mesh3d": [
           {
            "colorbar": {
             "outlinewidth": 0,
             "ticks": ""
            },
            "type": "mesh3d"
           }
          ],
          "parcoords": [
           {
            "line": {
             "colorbar": {
              "outlinewidth": 0,
              "ticks": ""
             }
            },
            "type": "parcoords"
           }
          ],
          "pie": [
           {
            "automargin": true,
            "type": "pie"
           }
          ],
          "scatter": [
           {
            "marker": {
             "colorbar": {
              "outlinewidth": 0,
              "ticks": ""
             }
            },
            "type": "scatter"
           }
          ],
          "scatter3d": [
           {
            "line": {
             "colorbar": {
              "outlinewidth": 0,
              "ticks": ""
             }
            },
            "marker": {
             "colorbar": {
              "outlinewidth": 0,
              "ticks": ""
             }
            },
            "type": "scatter3d"
           }
          ],
          "scattercarpet": [
           {
            "marker": {
             "colorbar": {
              "outlinewidth": 0,
              "ticks": ""
             }
            },
            "type": "scattercarpet"
           }
          ],
          "scattergeo": [
           {
            "marker": {
             "colorbar": {
              "outlinewidth": 0,
              "ticks": ""
             }
            },
            "type": "scattergeo"
           }
          ],
          "scattergl": [
           {
            "marker": {
             "colorbar": {
              "outlinewidth": 0,
              "ticks": ""
             }
            },
            "type": "scattergl"
           }
          ],
          "scattermapbox": [
           {
            "marker": {
             "colorbar": {
              "outlinewidth": 0,
              "ticks": ""
             }
            },
            "type": "scattermapbox"
           }
          ],
          "scatterpolar": [
           {
            "marker": {
             "colorbar": {
              "outlinewidth": 0,
              "ticks": ""
             }
            },
            "type": "scatterpolar"
           }
          ],
          "scatterpolargl": [
           {
            "marker": {
             "colorbar": {
              "outlinewidth": 0,
              "ticks": ""
             }
            },
            "type": "scatterpolargl"
           }
          ],
          "scatterternary": [
           {
            "marker": {
             "colorbar": {
              "outlinewidth": 0,
              "ticks": ""
             }
            },
            "type": "scatterternary"
           }
          ],
          "surface": [
           {
            "colorbar": {
             "outlinewidth": 0,
             "ticks": ""
            },
            "colorscale": [
             [
              0,
              "#0d0887"
             ],
             [
              0.1111111111111111,
              "#46039f"
             ],
             [
              0.2222222222222222,
              "#7201a8"
             ],
             [
              0.3333333333333333,
              "#9c179e"
             ],
             [
              0.4444444444444444,
              "#bd3786"
             ],
             [
              0.5555555555555556,
              "#d8576b"
             ],
             [
              0.6666666666666666,
              "#ed7953"
             ],
             [
              0.7777777777777778,
              "#fb9f3a"
             ],
             [
              0.8888888888888888,
              "#fdca26"
             ],
             [
              1,
              "#f0f921"
             ]
            ],
            "type": "surface"
           }
          ],
          "table": [
           {
            "cells": {
             "fill": {
              "color": "#EBF0F8"
             },
             "line": {
              "color": "white"
             }
            },
            "header": {
             "fill": {
              "color": "#C8D4E3"
             },
             "line": {
              "color": "white"
             }
            },
            "type": "table"
           }
          ]
         },
         "layout": {
          "annotationdefaults": {
           "arrowcolor": "#2a3f5f",
           "arrowhead": 0,
           "arrowwidth": 1
          },
          "autotypenumbers": "strict",
          "coloraxis": {
           "colorbar": {
            "outlinewidth": 0,
            "ticks": ""
           }
          },
          "colorscale": {
           "diverging": [
            [
             0,
             "#8e0152"
            ],
            [
             0.1,
             "#c51b7d"
            ],
            [
             0.2,
             "#de77ae"
            ],
            [
             0.3,
             "#f1b6da"
            ],
            [
             0.4,
             "#fde0ef"
            ],
            [
             0.5,
             "#f7f7f7"
            ],
            [
             0.6,
             "#e6f5d0"
            ],
            [
             0.7,
             "#b8e186"
            ],
            [
             0.8,
             "#7fbc41"
            ],
            [
             0.9,
             "#4d9221"
            ],
            [
             1,
             "#276419"
            ]
           ],
           "sequential": [
            [
             0,
             "#0d0887"
            ],
            [
             0.1111111111111111,
             "#46039f"
            ],
            [
             0.2222222222222222,
             "#7201a8"
            ],
            [
             0.3333333333333333,
             "#9c179e"
            ],
            [
             0.4444444444444444,
             "#bd3786"
            ],
            [
             0.5555555555555556,
             "#d8576b"
            ],
            [
             0.6666666666666666,
             "#ed7953"
            ],
            [
             0.7777777777777778,
             "#fb9f3a"
            ],
            [
             0.8888888888888888,
             "#fdca26"
            ],
            [
             1,
             "#f0f921"
            ]
           ],
           "sequentialminus": [
            [
             0,
             "#0d0887"
            ],
            [
             0.1111111111111111,
             "#46039f"
            ],
            [
             0.2222222222222222,
             "#7201a8"
            ],
            [
             0.3333333333333333,
             "#9c179e"
            ],
            [
             0.4444444444444444,
             "#bd3786"
            ],
            [
             0.5555555555555556,
             "#d8576b"
            ],
            [
             0.6666666666666666,
             "#ed7953"
            ],
            [
             0.7777777777777778,
             "#fb9f3a"
            ],
            [
             0.8888888888888888,
             "#fdca26"
            ],
            [
             1,
             "#f0f921"
            ]
           ]
          },
          "colorway": [
           "#636efa",
           "#EF553B",
           "#00cc96",
           "#ab63fa",
           "#FFA15A",
           "#19d3f3",
           "#FF6692",
           "#B6E880",
           "#FF97FF",
           "#FECB52"
          ],
          "font": {
           "color": "#2a3f5f"
          },
          "geo": {
           "bgcolor": "white",
           "lakecolor": "white",
           "landcolor": "#E5ECF6",
           "showlakes": true,
           "showland": true,
           "subunitcolor": "white"
          },
          "hoverlabel": {
           "align": "left"
          },
          "hovermode": "closest",
          "mapbox": {
           "style": "light"
          },
          "paper_bgcolor": "white",
          "plot_bgcolor": "#E5ECF6",
          "polar": {
           "angularaxis": {
            "gridcolor": "white",
            "linecolor": "white",
            "ticks": ""
           },
           "bgcolor": "#E5ECF6",
           "radialaxis": {
            "gridcolor": "white",
            "linecolor": "white",
            "ticks": ""
           }
          },
          "scene": {
           "xaxis": {
            "backgroundcolor": "#E5ECF6",
            "gridcolor": "white",
            "gridwidth": 2,
            "linecolor": "white",
            "showbackground": true,
            "ticks": "",
            "zerolinecolor": "white"
           },
           "yaxis": {
            "backgroundcolor": "#E5ECF6",
            "gridcolor": "white",
            "gridwidth": 2,
            "linecolor": "white",
            "showbackground": true,
            "ticks": "",
            "zerolinecolor": "white"
           },
           "zaxis": {
            "backgroundcolor": "#E5ECF6",
            "gridcolor": "white",
            "gridwidth": 2,
            "linecolor": "white",
            "showbackground": true,
            "ticks": "",
            "zerolinecolor": "white"
           }
          },
          "shapedefaults": {
           "line": {
            "color": "#2a3f5f"
           }
          },
          "ternary": {
           "aaxis": {
            "gridcolor": "white",
            "linecolor": "white",
            "ticks": ""
           },
           "baxis": {
            "gridcolor": "white",
            "linecolor": "white",
            "ticks": ""
           },
           "bgcolor": "#E5ECF6",
           "caxis": {
            "gridcolor": "white",
            "linecolor": "white",
            "ticks": ""
           }
          },
          "title": {
           "x": 0.05
          },
          "xaxis": {
           "automargin": true,
           "gridcolor": "white",
           "linecolor": "white",
           "ticks": "",
           "title": {
            "standoff": 15
           },
           "zerolinecolor": "white",
           "zerolinewidth": 2
          },
          "yaxis": {
           "automargin": true,
           "gridcolor": "white",
           "linecolor": "white",
           "ticks": "",
           "title": {
            "standoff": 15
           },
           "zerolinecolor": "white",
           "zerolinewidth": 2
          }
         }
        },
        "xaxis": {
         "anchor": "y",
         "constrain": "domain",
         "domain": [
          0,
          1
         ],
         "scaleanchor": "y"
        },
        "yaxis": {
         "anchor": "x",
         "autorange": "reversed",
         "constrain": "domain",
         "domain": [
          0,
          1
         ]
        }
       }
      }
     },
     "metadata": {},
     "output_type": "display_data"
    }
   ],
   "source": [
    "px.imshow(U_reduced[0].reshape(28, 28), color_continuous_scale='RdBu', color_continuous_midpoint=0)"
   ]
  },
  {
   "cell_type": "code",
   "execution_count": 200,
   "metadata": {},
   "outputs": [
    {
     "data": {
      "application/vnd.plotly.v1+json": {
       "config": {
        "plotlyServerURL": "https://plot.ly"
       },
       "data": [
        {
         "coloraxis": "coloraxis",
         "hovertemplate": "x: %{x}<br>y: %{y}<br>color: %{z}<extra></extra>",
         "name": "0",
         "type": "heatmap",
         "xaxis": "x",
         "yaxis": "y",
         "z": [
          [
           0,
           0,
           0,
           0,
           0,
           0,
           0,
           0,
           0,
           0,
           0,
           0,
           0,
           0,
           0,
           0,
           0,
           0,
           0,
           0,
           0,
           0,
           0,
           0,
           0,
           0,
           0,
           0
          ],
          [
           0,
           0,
           0,
           0,
           0,
           0,
           0,
           0,
           0,
           0,
           0,
           0,
           0,
           0,
           0,
           0,
           0,
           0,
           0,
           0,
           0,
           0,
           0,
           0,
           0,
           0,
           0,
           0
          ],
          [
           0,
           0,
           0,
           0,
           0,
           0,
           0,
           0,
           0,
           0,
           0,
           0,
           0,
           0,
           0,
           0,
           0,
           0,
           0,
           0,
           0,
           0,
           0,
           0,
           0,
           0,
           0,
           0
          ],
          [
           0,
           0,
           0,
           0,
           0,
           0,
           0,
           0,
           0,
           0,
           0,
           0,
           0,
           0,
           0,
           0,
           0,
           0,
           0,
           0,
           0,
           0,
           0,
           0,
           0,
           0,
           0,
           0
          ],
          [
           0,
           0,
           0,
           0,
           0,
           0,
           0,
           0,
           0,
           0,
           -0.00005855279232491739,
           -0.00042269917321391404,
           -0.0006262829410843551,
           -0.0005845759296789765,
           -0.0005590093205682933,
           -0.0005103510338813066,
           -0.00019230243924539536,
           -0.00002719454096222762,
           -8.015196613087028e-7,
           0,
           0,
           0,
           0,
           0,
           0,
           0,
           0,
           0
          ],
          [
           0,
           0,
           0,
           0,
           0,
           0,
           0,
           0.000042667070374591276,
           -0.00006786164158256724,
           -0.0002617090940475464,
           -0.00013141533418092877,
           -0.0007468604599125683,
           -0.0018986178329214454,
           -0.004020560998469591,
           -0.0014049450401216745,
           0.0024260946083813906,
           0.005974218714982271,
           0.008728627115488052,
           0.008296335116028786,
           0.005781284999102354,
           0.003499015001580119,
           0.001465174718759954,
           0.00017405982362106442,
           0,
           0,
           0,
           0,
           0
          ],
          [
           0,
           0,
           0,
           0,
           0,
           0.000044514676119433716,
           0.0005479202372953296,
           0.0006919496227055788,
           0.0010032871505245566,
           0.003902916796505451,
           0.0015449426136910915,
           -0.010381544940173626,
           -0.019231019541621208,
           -0.020638521760702133,
           -0.008118749596178532,
           0.021211620420217514,
           0.05897296965122223,
           0.08568628132343292,
           0.09018190950155258,
           0.066360242664814,
           0.03610587865114212,
           0.014045421965420246,
           0.004190335050225258,
           0.0005461989203467965,
           -0.000003472331854936783,
           0,
           0,
           0
          ],
          [
           0,
           0,
           0,
           0.00004122812970308587,
           0.0000658762946841307,
           0.0005735996528528631,
           0.0017142263241112232,
           0.00505024753510952,
           0.009959612973034382,
           0.007407433819025755,
           -0.006039602681994438,
           -0.018463635817170143,
           -0.021506784483790398,
           -0.008674871176481247,
           0.011032680980861187,
           0.027782313525676727,
           0.0465623214840889,
           0.07926478981971741,
           0.11818061769008636,
           0.12059558928012848,
           0.09257716685533524,
           0.044376492500305176,
           0.014069543220102787,
           0.003460454987362027,
           -0.00007570470188511536,
           0,
           0,
           0
          ],
          [
           0,
           0,
           0,
           0.00004029110277770087,
           0.0008775100577622652,
           0.0023884482216089964,
           0.0070272753946483135,
           0.014178059995174408,
           0.013834022916853428,
           0.009062602184712887,
           -0.0034094154834747314,
           -0.0017202200833708048,
           0.02089996077120304,
           0.045203644782304764,
           0.05095634609460831,
           0.029895007610321045,
           0.007370075210928917,
           0.01606632024049759,
           0.07407471537590027,
           0.12871159613132477,
           0.12165705114603043,
           0.0749746710062027,
           0.028384992852807045,
           0.0063810572028160095,
           -0.00004983009057468735,
           0,
           0,
           0
          ],
          [
           0,
           0,
           0,
           0.0000025799431568884756,
           0.0009078693110495806,
           0.007000480778515339,
           0.017549553886055946,
           0.023487810045480728,
           0.024806998670101166,
           0.017764216288924217,
           0.015807492658495903,
           0.033503904938697815,
           0.060134269297122955,
           0.06588246673345566,
           0.039760228246450424,
           -0.003827079199254513,
           -0.049117475748062134,
           -0.051732659339904785,
           0.024061573669314384,
           0.11468595266342163,
           0.1324373334646225,
           0.0921127200126648,
           0.03987714275717735,
           0.010702869854867458,
           0.00037056757719255984,
           0,
           0,
           0
          ],
          [
           0,
           0,
           0,
           0.00022811698727309704,
           0.002450742991641164,
           0.015441058203577995,
           0.02917814627289772,
           0.03809892758727074,
           0.03745174780488014,
           0.02865254320204258,
           0.027074648067355156,
           0.03701137751340866,
           0.04121964052319527,
           0.02794666402041912,
           -0.002506168792024255,
           -0.044959817081689835,
           -0.09245937317609787,
           -0.08853080868721008,
           0.01011727750301361,
           0.1188921332359314,
           0.14093734323978424,
           0.09833264350891113,
           0.04283599555492401,
           0.011532925069332123,
           0.0010029599070549011,
           -0.0000035705973004951375,
           0,
           0
          ],
          [
           0,
           0,
           0,
           0.0004950559814460576,
           0.005764015018939972,
           0.02390022948384285,
           0.041597623378038406,
           0.06047692149877548,
           0.047375161200761795,
           0.02838483639061451,
           0.012412614189088345,
           0.008797628805041313,
           0.00566825782880187,
           -0.010238663293421268,
           -0.03561900928616524,
           -0.07818250358104706,
           -0.12082847952842712,
           -0.08654551953077316,
           0.03458613529801369,
           0.13800859451293945,
           0.15464042127132416,
           0.09509176760911942,
           0.03635083884000778,
           0.009777866303920746,
           0.0005365253891795874,
           -0.000010456744348630309,
           0,
           0
          ],
          [
           0,
           0,
           0,
           0.0019660047255456448,
           0.01129868533462286,
           0.03065735101699829,
           0.05783509835600853,
           0.07662200927734375,
           0.048275236040353775,
           0.007711584679782391,
           -0.02268623188138008,
           -0.02739514783024788,
           -0.027412964031100273,
           -0.04053093492984772,
           -0.06709738820791245,
           -0.10296808183193207,
           -0.10866191983222961,
           -0.0491962656378746,
           0.07189509272575378,
           0.15992555022239685,
           0.14453335106372833,
           0.07443367689847946,
           0.022416964173316956,
           0.0072272764518857,
           0.0007288905908353627,
           0.00006175530143082142,
           0,
           0
          ],
          [
           0,
           0,
           0,
           0.002272937912493944,
           0.013933898881077766,
           0.03757413476705551,
           0.07236477732658386,
           0.0930665135383606,
           0.055474113672971725,
           -0.011575816199183464,
           -0.04591275379061699,
           -0.05265895277261734,
           -0.054522253572940826,
           -0.059913285076618195,
           -0.06921900063753128,
           -0.07430249452590942,
           -0.06439398974180222,
           -0.009026543237268925,
           0.10879243165254593,
           0.16208039224147797,
           0.11648506671190262,
           0.05111915245652199,
           0.01429770328104496,
           0.004843543749302626,
           0.00027862912975251675,
           0.0005999081768095493,
           0.000152917840750888,
           0
          ],
          [
           0,
           0,
           0,
           0.001788607332855463,
           0.013950658962130547,
           0.04065880924463272,
           0.07893835753202438,
           0.10318166762590408,
           0.07343016564846039,
           0.007659872528165579,
           -0.03311693295836449,
           -0.03864651918411255,
           -0.037364374846220016,
           -0.03354204446077347,
           -0.017945628613233566,
           -0.013867851346731186,
           -0.023487677797675133,
           0.02565060369670391,
           0.12901420891284943,
           0.1428476870059967,
           0.08595822006464005,
           0.032572608441114426,
           0.009648780338466167,
           0.003574674716219306,
           0.000013656278497364838,
           0.0006646038382314146,
           0.00018232499132864177,
           0
          ],
          [
           0,
           0,
           0,
           0.000795428641140461,
           0.011097247712314129,
           0.035928238183259964,
           0.07340409606695175,
           0.10132935643196106,
           0.09152042865753174,
           0.05110226199030876,
           0.020549030974507332,
           0.014095972292125225,
           0.01693885587155819,
           0.031597740948200226,
           0.05000924691557884,
           0.0263323113322258,
           -0.0030110173393040895,
           0.04555222764611244,
           0.11909065395593643,
           0.10793274641036987,
           0.05919519066810608,
           0.02105535939335823,
           0.006848589051514864,
           0.0017456214409321547,
           0.000005961444003332872,
           0.0006646038382314146,
           0.00021114206174388528,
           0
          ],
          [
           0,
           0,
           0,
           0.0003629313432611525,
           0.007210729643702507,
           0.025104762986302376,
           0.05564292520284653,
           0.0876346081495285,
           0.09480410814285278,
           0.08259773999452591,
           0.06730658560991287,
           0.06426814943552017,
           0.07020442932844162,
           0.08250268548727036,
           0.08670683950185776,
           0.04057031124830246,
           0.008612023666501045,
           0.04473528265953064,
           0.08693151921033859,
           0.07625585049390793,
           0.042598433792591095,
           0.016316458582878113,
           0.005682490300387144,
           0.0012210863642394543,
           0.000006026978098816471,
           0.0001617399393580854,
           0.0001029254199238494,
           0
          ],
          [
           0,
           0,
           0.00003889023355441168,
           0.0003854157985188067,
           0.0041945017874240875,
           0.014416814781725407,
           0.031866054981946945,
           0.05908540263772011,
           0.07591832429170609,
           0.0811079740524292,
           0.079554982483387,
           0.079273521900177,
           0.07992091774940491,
           0.08786705881357193,
           0.08712208271026611,
           0.037800706923007965,
           0.0057209087535738945,
           0.029301518574357033,
           0.05672744661569595,
           0.05775706097483635,
           0.03535602241754532,
           0.012347386218607426,
           0.00481745321303606,
           0.0009818405378609896,
           0.000005961444003332872,
           0,
           0,
           0
          ],
          [
           0,
           0,
           0.00008980086568044499,
           0.0005323190707713366,
           0.0036461367271840572,
           0.00786922499537468,
           0.01755211316049099,
           0.029718924313783646,
           0.04188091307878494,
           0.04978446662425995,
           0.05477018281817436,
           0.05517664924263954,
           0.060686495155096054,
           0.07754190266132355,
           0.06964437663555145,
           0.025791501626372337,
           -0.009276479482650757,
           0.005798203870654106,
           0.03461065888404846,
           0.04648682847619057,
           0.03195003420114517,
           0.011093256995081902,
           0.004059955012053251,
           0.0006095474236644804,
           0.000001476870124861307,
           0,
           0,
           0
          ],
          [
           0,
           0,
           0,
           0.0005238921148702502,
           0.0019736201502382755,
           0.0047603994607925415,
           0.009644745849072933,
           0.014280368573963642,
           0.02041928470134735,
           0.023397864773869514,
           0.027065087109804153,
           0.03260039910674095,
           0.0515633225440979,
           0.07037712633609772,
           0.056768350303173065,
           0.008171210065484047,
           -0.02896888740360737,
           -0.01365653146058321,
           0.021413583308458328,
           0.04096658155322075,
           0.029264336451888084,
           0.010896185413002968,
           0.003947391640394926,
           0.0004888287512585521,
           0.0002689364191610366,
           0,
           0,
           0
          ],
          [
           0,
           0,
           0,
           0.0004022010543849319,
           0.001350722392089665,
           0.002404701430350542,
           0.006272242404520512,
           0.008580278605222702,
           0.009808074682950974,
           0.010021395049989223,
           0.014861821196973324,
           0.032057907432317734,
           0.05806228891015053,
           0.07124345749616623,
           0.044629789888858795,
           -0.011838316917419434,
           -0.042893748730421066,
           -0.024871109053492546,
           0.01461411826312542,
           0.037045158445835114,
           0.024424968287348747,
           0.011070633307099342,
           0.00455733947455883,
           0.0007195457583293319,
           0.0004107200657017529,
           0,
           0,
           0
          ],
          [
           0,
           0,
           0,
           0.00003506369102979079,
           0.00035462406231090426,
           0.0009177751489914954,
           0.003069451777264476,
           0.005236589349806309,
           0.006609558127820492,
           0.010363684967160225,
           0.023265304043889046,
           0.04445282369852066,
           0.06845390051603317,
           0.06809817999601364,
           0.025495832785964012,
           -0.025714091956615448,
           -0.05337067320942879,
           -0.03308132663369179,
           0.008450882509350777,
           0.028302054852247238,
           0.0238217543810606,
           0.011210402473807335,
           0.005124686285853386,
           0.0008246188517659903,
           0.0004268043558113277,
           0,
           0,
           0
          ],
          [
           0,
           0,
           0,
           0,
           -0.000013738454981648829,
           -0.00009070183295989409,
           0.0011507724411785603,
           0.003405878320336342,
           0.00731370784342289,
           0.01894250698387623,
           0.03648460656404495,
           0.06272640079259872,
           0.07288047671318054,
           0.05427303537726402,
           0.005744007416069508,
           -0.039312105625867844,
           -0.057710614055395126,
           -0.03689441829919815,
           0.001590208848938346,
           0.02268863096833229,
           0.022978080436587334,
           0.01347422692924738,
           0.005686933174729347,
           0.0018674108432605863,
           0.0004297410196159035,
           0,
           0,
           0
          ],
          [
           0,
           0,
           0,
           0,
           0.00003667283817776479,
           0.0003045830817427486,
           0.0013696616515517235,
           0.004386134445667267,
           0.014341829344630241,
           0.030055221170186996,
           0.05015727877616882,
           0.06915310770273209,
           0.06299488246440887,
           0.033649954944849014,
           -0.01505646388977766,
           -0.04857077822089195,
           -0.058158598840236664,
           -0.04087628424167633,
           -0.005083245690912008,
           0.018923254683613777,
           0.02204117923974991,
           0.015155154280364513,
           0.0069131567142903805,
           0.002725424012169242,
           0.0007033170550130308,
           0,
           0,
           0
          ],
          [
           0,
           0,
           0,
           0,
           0.00011287064262432978,
           0.0009636990143917501,
           0.002562406938523054,
           0.008073266595602036,
           0.02204405702650547,
           0.03862476721405983,
           0.056010473519563675,
           0.06701400876045227,
           0.050321515649557114,
           0.016315335407853127,
           -0.023993810638785362,
           -0.048851802945137024,
           -0.05731078237295151,
           -0.04262053966522217,
           -0.015300239436328411,
           0.012806913815438747,
           0.02229858934879303,
           0.016920296475291252,
           0.008689800277352333,
           0.003482235362753272,
           0.0007610922330059111,
           0,
           0,
           0
          ],
          [
           0,
           0,
           0,
           0,
           0.0001318370341323316,
           0.0016784018371254206,
           0.0029368866235017776,
           0.008695123717188835,
           0.02277904376387596,
           0.03709148243069649,
           0.04950131103396416,
           0.05125897750258446,
           0.02971077710390091,
           0.002352515235543251,
           -0.021435720846056938,
           -0.038667354732751846,
           -0.046296898275613785,
           -0.039075933396816254,
           -0.021278848871588707,
           0.00551496772095561,
           0.015186775475740433,
           0.012785065919160843,
           0.005391753278672695,
           0.0027369942981749773,
           0.0009229028364643455,
           0,
           0,
           0
          ],
          [
           0,
           0,
           0,
           0.000004079239261045586,
           0.00006275299529079348,
           0.000044414078729460016,
           0.0009337908122688532,
           0.0028077755123376846,
           0.006112224422395229,
           0.00917607918381691,
           0.007969656027853489,
           0.0035601332783699036,
           -0.0021770321764051914,
           -0.009641810320317745,
           -0.014571165665984154,
           -0.013420356437563896,
           -0.01628347672522068,
           -0.018218668177723885,
           -0.010861646384000778,
           -0.0010060665663331747,
           0.0025539889466017485,
           0.0022185940761119127,
           0.0005560616264119744,
           0.000017389063941664062,
           0,
           0,
           0,
           0
          ],
          [
           0,
           0,
           0,
           0,
           0,
           0,
           0,
           0,
           0,
           0,
           0,
           0,
           -0.0001103424874600023,
           -0.00014731592091266066,
           -0.000806851836387068,
           -0.0006399475387297571,
           -0.00013834986020810902,
           -0.000011031968824681826,
           -0.0002645378408487886,
           0.0000030913352020434104,
           0.00012560506002046168,
           0.000011189975339220837,
           0.00013206599396653473,
           0,
           0,
           0,
           0,
           0
          ]
         ]
        }
       ],
       "layout": {
        "coloraxis": {
         "cmid": 0,
         "colorscale": [
          [
           0,
           "rgb(103,0,31)"
          ],
          [
           0.1,
           "rgb(178,24,43)"
          ],
          [
           0.2,
           "rgb(214,96,77)"
          ],
          [
           0.3,
           "rgb(244,165,130)"
          ],
          [
           0.4,
           "rgb(253,219,199)"
          ],
          [
           0.5,
           "rgb(247,247,247)"
          ],
          [
           0.6,
           "rgb(209,229,240)"
          ],
          [
           0.7,
           "rgb(146,197,222)"
          ],
          [
           0.8,
           "rgb(67,147,195)"
          ],
          [
           0.9,
           "rgb(33,102,172)"
          ],
          [
           1,
           "rgb(5,48,97)"
          ]
         ]
        },
        "margin": {
         "t": 60
        },
        "template": {
         "data": {
          "bar": [
           {
            "error_x": {
             "color": "#2a3f5f"
            },
            "error_y": {
             "color": "#2a3f5f"
            },
            "marker": {
             "line": {
              "color": "#E5ECF6",
              "width": 0.5
             },
             "pattern": {
              "fillmode": "overlay",
              "size": 10,
              "solidity": 0.2
             }
            },
            "type": "bar"
           }
          ],
          "barpolar": [
           {
            "marker": {
             "line": {
              "color": "#E5ECF6",
              "width": 0.5
             },
             "pattern": {
              "fillmode": "overlay",
              "size": 10,
              "solidity": 0.2
             }
            },
            "type": "barpolar"
           }
          ],
          "carpet": [
           {
            "aaxis": {
             "endlinecolor": "#2a3f5f",
             "gridcolor": "white",
             "linecolor": "white",
             "minorgridcolor": "white",
             "startlinecolor": "#2a3f5f"
            },
            "baxis": {
             "endlinecolor": "#2a3f5f",
             "gridcolor": "white",
             "linecolor": "white",
             "minorgridcolor": "white",
             "startlinecolor": "#2a3f5f"
            },
            "type": "carpet"
           }
          ],
          "choropleth": [
           {
            "colorbar": {
             "outlinewidth": 0,
             "ticks": ""
            },
            "type": "choropleth"
           }
          ],
          "contour": [
           {
            "colorbar": {
             "outlinewidth": 0,
             "ticks": ""
            },
            "colorscale": [
             [
              0,
              "#0d0887"
             ],
             [
              0.1111111111111111,
              "#46039f"
             ],
             [
              0.2222222222222222,
              "#7201a8"
             ],
             [
              0.3333333333333333,
              "#9c179e"
             ],
             [
              0.4444444444444444,
              "#bd3786"
             ],
             [
              0.5555555555555556,
              "#d8576b"
             ],
             [
              0.6666666666666666,
              "#ed7953"
             ],
             [
              0.7777777777777778,
              "#fb9f3a"
             ],
             [
              0.8888888888888888,
              "#fdca26"
             ],
             [
              1,
              "#f0f921"
             ]
            ],
            "type": "contour"
           }
          ],
          "contourcarpet": [
           {
            "colorbar": {
             "outlinewidth": 0,
             "ticks": ""
            },
            "type": "contourcarpet"
           }
          ],
          "heatmap": [
           {
            "colorbar": {
             "outlinewidth": 0,
             "ticks": ""
            },
            "colorscale": [
             [
              0,
              "#0d0887"
             ],
             [
              0.1111111111111111,
              "#46039f"
             ],
             [
              0.2222222222222222,
              "#7201a8"
             ],
             [
              0.3333333333333333,
              "#9c179e"
             ],
             [
              0.4444444444444444,
              "#bd3786"
             ],
             [
              0.5555555555555556,
              "#d8576b"
             ],
             [
              0.6666666666666666,
              "#ed7953"
             ],
             [
              0.7777777777777778,
              "#fb9f3a"
             ],
             [
              0.8888888888888888,
              "#fdca26"
             ],
             [
              1,
              "#f0f921"
             ]
            ],
            "type": "heatmap"
           }
          ],
          "heatmapgl": [
           {
            "colorbar": {
             "outlinewidth": 0,
             "ticks": ""
            },
            "colorscale": [
             [
              0,
              "#0d0887"
             ],
             [
              0.1111111111111111,
              "#46039f"
             ],
             [
              0.2222222222222222,
              "#7201a8"
             ],
             [
              0.3333333333333333,
              "#9c179e"
             ],
             [
              0.4444444444444444,
              "#bd3786"
             ],
             [
              0.5555555555555556,
              "#d8576b"
             ],
             [
              0.6666666666666666,
              "#ed7953"
             ],
             [
              0.7777777777777778,
              "#fb9f3a"
             ],
             [
              0.8888888888888888,
              "#fdca26"
             ],
             [
              1,
              "#f0f921"
             ]
            ],
            "type": "heatmapgl"
           }
          ],
          "histogram": [
           {
            "marker": {
             "pattern": {
              "fillmode": "overlay",
              "size": 10,
              "solidity": 0.2
             }
            },
            "type": "histogram"
           }
          ],
          "histogram2d": [
           {
            "colorbar": {
             "outlinewidth": 0,
             "ticks": ""
            },
            "colorscale": [
             [
              0,
              "#0d0887"
             ],
             [
              0.1111111111111111,
              "#46039f"
             ],
             [
              0.2222222222222222,
              "#7201a8"
             ],
             [
              0.3333333333333333,
              "#9c179e"
             ],
             [
              0.4444444444444444,
              "#bd3786"
             ],
             [
              0.5555555555555556,
              "#d8576b"
             ],
             [
              0.6666666666666666,
              "#ed7953"
             ],
             [
              0.7777777777777778,
              "#fb9f3a"
             ],
             [
              0.8888888888888888,
              "#fdca26"
             ],
             [
              1,
              "#f0f921"
             ]
            ],
            "type": "histogram2d"
           }
          ],
          "histogram2dcontour": [
           {
            "colorbar": {
             "outlinewidth": 0,
             "ticks": ""
            },
            "colorscale": [
             [
              0,
              "#0d0887"
             ],
             [
              0.1111111111111111,
              "#46039f"
             ],
             [
              0.2222222222222222,
              "#7201a8"
             ],
             [
              0.3333333333333333,
              "#9c179e"
             ],
             [
              0.4444444444444444,
              "#bd3786"
             ],
             [
              0.5555555555555556,
              "#d8576b"
             ],
             [
              0.6666666666666666,
              "#ed7953"
             ],
             [
              0.7777777777777778,
              "#fb9f3a"
             ],
             [
              0.8888888888888888,
              "#fdca26"
             ],
             [
              1,
              "#f0f921"
             ]
            ],
            "type": "histogram2dcontour"
           }
          ],
          "mesh3d": [
           {
            "colorbar": {
             "outlinewidth": 0,
             "ticks": ""
            },
            "type": "mesh3d"
           }
          ],
          "parcoords": [
           {
            "line": {
             "colorbar": {
              "outlinewidth": 0,
              "ticks": ""
             }
            },
            "type": "parcoords"
           }
          ],
          "pie": [
           {
            "automargin": true,
            "type": "pie"
           }
          ],
          "scatter": [
           {
            "marker": {
             "colorbar": {
              "outlinewidth": 0,
              "ticks": ""
             }
            },
            "type": "scatter"
           }
          ],
          "scatter3d": [
           {
            "line": {
             "colorbar": {
              "outlinewidth": 0,
              "ticks": ""
             }
            },
            "marker": {
             "colorbar": {
              "outlinewidth": 0,
              "ticks": ""
             }
            },
            "type": "scatter3d"
           }
          ],
          "scattercarpet": [
           {
            "marker": {
             "colorbar": {
              "outlinewidth": 0,
              "ticks": ""
             }
            },
            "type": "scattercarpet"
           }
          ],
          "scattergeo": [
           {
            "marker": {
             "colorbar": {
              "outlinewidth": 0,
              "ticks": ""
             }
            },
            "type": "scattergeo"
           }
          ],
          "scattergl": [
           {
            "marker": {
             "colorbar": {
              "outlinewidth": 0,
              "ticks": ""
             }
            },
            "type": "scattergl"
           }
          ],
          "scattermapbox": [
           {
            "marker": {
             "colorbar": {
              "outlinewidth": 0,
              "ticks": ""
             }
            },
            "type": "scattermapbox"
           }
          ],
          "scatterpolar": [
           {
            "marker": {
             "colorbar": {
              "outlinewidth": 0,
              "ticks": ""
             }
            },
            "type": "scatterpolar"
           }
          ],
          "scatterpolargl": [
           {
            "marker": {
             "colorbar": {
              "outlinewidth": 0,
              "ticks": ""
             }
            },
            "type": "scatterpolargl"
           }
          ],
          "scatterternary": [
           {
            "marker": {
             "colorbar": {
              "outlinewidth": 0,
              "ticks": ""
             }
            },
            "type": "scatterternary"
           }
          ],
          "surface": [
           {
            "colorbar": {
             "outlinewidth": 0,
             "ticks": ""
            },
            "colorscale": [
             [
              0,
              "#0d0887"
             ],
             [
              0.1111111111111111,
              "#46039f"
             ],
             [
              0.2222222222222222,
              "#7201a8"
             ],
             [
              0.3333333333333333,
              "#9c179e"
             ],
             [
              0.4444444444444444,
              "#bd3786"
             ],
             [
              0.5555555555555556,
              "#d8576b"
             ],
             [
              0.6666666666666666,
              "#ed7953"
             ],
             [
              0.7777777777777778,
              "#fb9f3a"
             ],
             [
              0.8888888888888888,
              "#fdca26"
             ],
             [
              1,
              "#f0f921"
             ]
            ],
            "type": "surface"
           }
          ],
          "table": [
           {
            "cells": {
             "fill": {
              "color": "#EBF0F8"
             },
             "line": {
              "color": "white"
             }
            },
            "header": {
             "fill": {
              "color": "#C8D4E3"
             },
             "line": {
              "color": "white"
             }
            },
            "type": "table"
           }
          ]
         },
         "layout": {
          "annotationdefaults": {
           "arrowcolor": "#2a3f5f",
           "arrowhead": 0,
           "arrowwidth": 1
          },
          "autotypenumbers": "strict",
          "coloraxis": {
           "colorbar": {
            "outlinewidth": 0,
            "ticks": ""
           }
          },
          "colorscale": {
           "diverging": [
            [
             0,
             "#8e0152"
            ],
            [
             0.1,
             "#c51b7d"
            ],
            [
             0.2,
             "#de77ae"
            ],
            [
             0.3,
             "#f1b6da"
            ],
            [
             0.4,
             "#fde0ef"
            ],
            [
             0.5,
             "#f7f7f7"
            ],
            [
             0.6,
             "#e6f5d0"
            ],
            [
             0.7,
             "#b8e186"
            ],
            [
             0.8,
             "#7fbc41"
            ],
            [
             0.9,
             "#4d9221"
            ],
            [
             1,
             "#276419"
            ]
           ],
           "sequential": [
            [
             0,
             "#0d0887"
            ],
            [
             0.1111111111111111,
             "#46039f"
            ],
            [
             0.2222222222222222,
             "#7201a8"
            ],
            [
             0.3333333333333333,
             "#9c179e"
            ],
            [
             0.4444444444444444,
             "#bd3786"
            ],
            [
             0.5555555555555556,
             "#d8576b"
            ],
            [
             0.6666666666666666,
             "#ed7953"
            ],
            [
             0.7777777777777778,
             "#fb9f3a"
            ],
            [
             0.8888888888888888,
             "#fdca26"
            ],
            [
             1,
             "#f0f921"
            ]
           ],
           "sequentialminus": [
            [
             0,
             "#0d0887"
            ],
            [
             0.1111111111111111,
             "#46039f"
            ],
            [
             0.2222222222222222,
             "#7201a8"
            ],
            [
             0.3333333333333333,
             "#9c179e"
            ],
            [
             0.4444444444444444,
             "#bd3786"
            ],
            [
             0.5555555555555556,
             "#d8576b"
            ],
            [
             0.6666666666666666,
             "#ed7953"
            ],
            [
             0.7777777777777778,
             "#fb9f3a"
            ],
            [
             0.8888888888888888,
             "#fdca26"
            ],
            [
             1,
             "#f0f921"
            ]
           ]
          },
          "colorway": [
           "#636efa",
           "#EF553B",
           "#00cc96",
           "#ab63fa",
           "#FFA15A",
           "#19d3f3",
           "#FF6692",
           "#B6E880",
           "#FF97FF",
           "#FECB52"
          ],
          "font": {
           "color": "#2a3f5f"
          },
          "geo": {
           "bgcolor": "white",
           "lakecolor": "white",
           "landcolor": "#E5ECF6",
           "showlakes": true,
           "showland": true,
           "subunitcolor": "white"
          },
          "hoverlabel": {
           "align": "left"
          },
          "hovermode": "closest",
          "mapbox": {
           "style": "light"
          },
          "paper_bgcolor": "white",
          "plot_bgcolor": "#E5ECF6",
          "polar": {
           "angularaxis": {
            "gridcolor": "white",
            "linecolor": "white",
            "ticks": ""
           },
           "bgcolor": "#E5ECF6",
           "radialaxis": {
            "gridcolor": "white",
            "linecolor": "white",
            "ticks": ""
           }
          },
          "scene": {
           "xaxis": {
            "backgroundcolor": "#E5ECF6",
            "gridcolor": "white",
            "gridwidth": 2,
            "linecolor": "white",
            "showbackground": true,
            "ticks": "",
            "zerolinecolor": "white"
           },
           "yaxis": {
            "backgroundcolor": "#E5ECF6",
            "gridcolor": "white",
            "gridwidth": 2,
            "linecolor": "white",
            "showbackground": true,
            "ticks": "",
            "zerolinecolor": "white"
           },
           "zaxis": {
            "backgroundcolor": "#E5ECF6",
            "gridcolor": "white",
            "gridwidth": 2,
            "linecolor": "white",
            "showbackground": true,
            "ticks": "",
            "zerolinecolor": "white"
           }
          },
          "shapedefaults": {
           "line": {
            "color": "#2a3f5f"
           }
          },
          "ternary": {
           "aaxis": {
            "gridcolor": "white",
            "linecolor": "white",
            "ticks": ""
           },
           "baxis": {
            "gridcolor": "white",
            "linecolor": "white",
            "ticks": ""
           },
           "bgcolor": "#E5ECF6",
           "caxis": {
            "gridcolor": "white",
            "linecolor": "white",
            "ticks": ""
           }
          },
          "title": {
           "x": 0.05
          },
          "xaxis": {
           "automargin": true,
           "gridcolor": "white",
           "linecolor": "white",
           "ticks": "",
           "title": {
            "standoff": 15
           },
           "zerolinecolor": "white",
           "zerolinewidth": 2
          },
          "yaxis": {
           "automargin": true,
           "gridcolor": "white",
           "linecolor": "white",
           "ticks": "",
           "title": {
            "standoff": 15
           },
           "zerolinecolor": "white",
           "zerolinewidth": 2
          }
         }
        },
        "xaxis": {
         "anchor": "y",
         "constrain": "domain",
         "domain": [
          0,
          1
         ],
         "scaleanchor": "y"
        },
        "yaxis": {
         "anchor": "x",
         "autorange": "reversed",
         "constrain": "domain",
         "domain": [
          0,
          1
         ]
        }
       }
      }
     },
     "metadata": {},
     "output_type": "display_data"
    }
   ],
   "source": [
    "px.imshow(U_reduced[1].reshape(28, 28), color_continuous_scale='RdBu', color_continuous_midpoint=0)"
   ]
  },
  {
   "attachments": {},
   "cell_type": "markdown",
   "metadata": {},
   "source": [
    "## Toy Dataset"
   ]
  },
  {
   "cell_type": "code",
   "execution_count": 156,
   "metadata": {},
   "outputs": [],
   "source": [
    "# Set the random seed for reproducibility\n",
    "np.random.seed(123)\n",
    "\n",
    "# Generate a random dataset of size 1000 with 3 variables\n",
    "n = 1000\n",
    "age = np.random.normal(loc=0.5, scale=0.2, size=n)\n",
    "smoke = np.random.normal(loc=0.5, scale=0.2, size=n)\n",
    "cancer = 0.3 * (age / 100) + 0.6 * smoke + np.random.normal(loc=0, scale=0.1, size=n)\n",
    "\n",
    "# Ensure that age and how much they smoke are between the desired range\n",
    "# age = np.clip(age, 15, 100)\n",
    "# smoke = np.clip(smoke, 0, 1)\n",
    "# cancer = np.clip(cancer, 0, 1)\n",
    "\n",
    "data = pd.DataFrame({'age': age, 'smoke': smoke, 'cancer': cancer})"
   ]
  },
  {
   "cell_type": "code",
   "execution_count": 187,
   "metadata": {},
   "outputs": [
    {
     "data": {
      "application/vnd.plotly.v1+json": {
       "config": {
        "plotlyServerURL": "https://plot.ly"
       },
       "data": [
        {
         "hovertemplate": "age=%{x}<br>smoke=%{y}<br>cancer=%{z}<extra></extra>",
         "legendgroup": "",
         "marker": {
          "color": "#636efa",
          "symbol": "circle"
         },
         "mode": "markers",
         "name": "",
         "scene": "scene",
         "showlegend": false,
         "type": "scatter3d",
         "x": [
          0.2828738793398877,
          0.6994690893167171,
          0.5565956996103985,
          0.19874105721638158,
          0.38427994960629275,
          0.8302873074194302,
          0.014664151321385155,
          0.41421747422876454,
          0.7531872517411069,
          0.32665191954697964,
          0.3642227696755891,
          0.4810582062126218,
          0.7982779252248575,
          0.3722196006630698,
          0.41120360807078693,
          0.4131297448762965,
          0.9411860165450912,
          0.9373572177947573,
          0.7008107795757754,
          0.5772372798349712,
          0.6474737151792485,
          0.7981464056301598,
          0.3128332263195217,
          0.7351658089564207,
          0.2492238664501975,
          0.37244969950931794,
          0.6814210391600602,
          0.21426385995480618,
          0.4719862559622668,
          0.3276490208280629,
          0.4488761258938806,
          -0.05971782109214485,
          0.1456933790980306,
          0.36002455308041653,
          0.6854924863517164,
          0.46527286344195684,
          0.5005691831793622,
          0.637644542220457,
          0.3240927313981896,
          0.5567254647614582,
          0.33892669638687684,
          0.15446610117587856,
          0.4218200412489798,
          0.6147611724810116,
          0.5677178101999603,
          0.49763390110423605,
          0.9784730531875452,
          0.5825824320617558,
          0.6957472011874694,
          0.9476286676995906,
          0.2411829353677502,
          0.2922423579590093,
          0.8487424450245862,
          0.3403874529517875,
          0.505936646060666,
          0.7138631938848697,
          0.6781412782586341,
          0.8509772363962219,
          0.7991288274066939,
          0.7138785339411473,
          0.34545825715056167,
          0.6589725335586436,
          0.5628543989013735,
          0.23474690801190878,
          0.7834598092953705,
          0.6614473069157133,
          0.5090980161262194,
          0.4533815878031173,
          0.26033977105984263,
          0.5399048147117265,
          0.5936878238891289,
          0.33376900315134417,
          0.7324408098199059,
          0.28055939070339314,
          0.07537992999151166,
          0.7079454181785401,
          0.4193267923795785,
          0.474794082937397,
          0.3324966554349893,
          0.17880744785651942,
          0.7510474749448437,
          0.3622262032306157,
          0.832190497629588,
          0.6614616372421458,
          0.43704837065650803,
          0.2828195197746267,
          0.3535076026559086,
          0.2574953737809661,
          0.917422671917637,
          0.532888246045965,
          0.7300411085093265,
          0.2465295901979545,
          0.5362070259194007,
          0.7355723877617156,
          0.4329978476133968,
          0.7062228917843485,
          0.2830864175988467,
          0.22730569107628312,
          0.5758801224156272,
          0.42416471308548953,
          0.6284109378543663,
          0.10442241369591021,
          0.6424529270941036,
          1.0196607854538629,
          0.4950748037137039,
          0.5068284257819683,
          0.5359098969277358,
          0.12760485784164255,
          0.585229327938062,
          0.17891805119680704,
          0.41446408037523913,
          0.7485739099207473,
          0.3529566087799847,
          0.60024979791348,
          0.7025478107912742,
          0.5557481712192,
          0.22581030598107843,
          0.4335049449297172,
          0.8918822684776573,
          0.09499084740050578,
          0.4448427972267649,
          0.38957838570237846,
          0.5241494726194278,
          0.6496431234374461,
          0.8217381936044107,
          0.44595352159816837,
          0.6624682659953641,
          0.5999480289730346,
          0.5948694595743601,
          0.3872152136947055,
          0.30053570624481984,
          0.27999137747586056,
          0.3487125581201753,
          0.5643373151732454,
          0.6521898786256659,
          0.5646937695713791,
          0.3902089807608518,
          0.8611940219864951,
          0.803773124726308,
          0.4291999774499653,
          0.3353137188028668,
          0.5260429908315939,
          0.7534597290108707,
          0.5665529954508234,
          0.6113097409820089,
          0.45758397554487484,
          0.5912541790404462,
          0.8089088902912277,
          0.45206624370445786,
          0.5286615465015745,
          0.5507632953099255,
          0.5567450711542075,
          0.2176222247857545,
          0.1246262688252211,
          0.2960689858156321,
          0.5335884590803336,
          0.6107712332006423,
          0.3938650880452752,
          0.7754514965734614,
          0.4713648051347626,
          0.5040631996469249,
          0.4612072258894675,
          0.5268053585493331,
          0.6408948148087207,
          0.6331306875824663,
          0.320315411878082,
          0.8047327552957055,
          0.2809947085146165,
          0.5158454028181225,
          0.4451206852955295,
          0.29020166453630253,
          0.4849758824052337,
          0.3518372453415203,
          0.5145814486552105,
          0.5806171922438734,
          0.7943858737946543,
          0.5614768437254829,
          0.37775493193903503,
          0.42167603785607966,
          0.5279956212229128,
          0.5186921658924303,
          0.7919178536456841,
          0.7790705859513909,
          0.4282128147515477,
          0.39027157436276033,
          -0.011410920813571646,
          0.390215917335556,
          0.30438845878314325,
          0.42903510838103626,
          0.5783168484700222,
          0.5354384658397976,
          0.49400639859049156,
          0.5399164222177028,
          0.47477644535380165,
          0.5394037865086952,
          -0.14621100158386247,
          0.44614130204984914,
          0.4778298557893986,
          0.4317476567586828,
          0.45641074757941164,
          0.640662023561346,
          0.3803789337318349,
          0.9401404198434256,
          0.6376593860444177,
          0.49873854981722554,
          0.4586675393604867,
          0.48269554272357296,
          0.3169385860112043,
          0.4809594921483981,
          0.5557367033454109,
          0.6159083231146459,
          0.6159379558288667,
          0.44502449068681305,
          0.2167835494956139,
          0.3661794747533109,
          0.8224386085624776,
          0.6792116626819895,
          0.5739239172608348,
          0.3477411510479752,
          0.5007290309947556,
          0.24886626286750363,
          0.3896126248607853,
          0.450959331662961,
          0.4276720136269574,
          0.6913203862112024,
          0.2162548171929095,
          0.3269135456969692,
          0.22506240579555614,
          0.2525293574624292,
          0.5248111792893297,
          0.17991189338874564,
          0.6507737557675274,
          0.4506368446117849,
          0.5137576665051955,
          0.5645153475994408,
          0.4131666959496818,
          0.7064959431506755,
          0.46113145465447297,
          0.618814051047814,
          0.46017752344854956,
          0.5581748774849846,
          0.5559325340315923,
          0.5499939878911062,
          0.3051384300758161,
          0.5871751541094881,
          0.43620860218008084,
          0.6260976060979836,
          0.06950131111753916,
          0.2069767555890098,
          0.5726891124270057,
          0.8725855170210457,
          0.6670117493622474,
          0.36350981316000386,
          0.16158951692440882,
          0.6485372442323236,
          0.4838833555914098,
          0.6181408435788771,
          0.5230597444421582,
          0.5059285850240991,
          1.0917250891786354,
          0.4987740077908842,
          0.46815095814934704,
          0.4757102649191956,
          0.3832926566584686,
          0.6980265789430625,
          0.42924913324373015,
          0.6271885411289179,
          0.5569206059627113,
          0.7437971724264852,
          0.5840359193976723,
          0.25732304381047055,
          0.23470244298921183,
          0.7816738292153803,
          0.37825783934711166,
          0.23587948404206954,
          0.3660762800260483,
          0.7529250573936015,
          0.21595740021029758,
          0.32670095924807807,
          0.3666384982406961,
          0.24976202530536096,
          0.26313453229766726,
          0.19637840494726827,
          0.40776251737265556,
          0.429018233651983,
          0.3634923691593388,
          0.16926043220647174,
          0.7506671893711991,
          0.23418423416556788,
          0.5556067424045742,
          0.2850466813762249,
          0.6336633733483056,
          0.6911664710334329,
          0.32447728267446896,
          0.11525685406057479,
          0.6391574638279216,
          0.875160109342727,
          0.5831389079784868,
          0.5321088842959436,
          0.6639521219220379,
          0.6530109691994036,
          0.33420223324779796,
          0.3681697378606704,
          0.6222247100111822,
          0.47119733050394147,
          0.7633211191727105,
          0.3591315705742483,
          0.6501219833736962,
          0.5685275962738455,
          0.47471248725807313,
          0.7351821543669215,
          0.636014306573486,
          0.29900656932357916,
          0.6280437360839695,
          0.7749981262988399,
          0.4739110622030753,
          0.4502688299230053,
          0.3660705704712951,
          0.4972792228649298,
          0.637240137210582,
          0.33646634008425047,
          0.230728487852552,
          0.42485001780361475,
          0.22405500426824998,
          0.6046436882565264,
          0.4146620460012398,
          0.14891963108983863,
          0.43027849705229804,
          0.46147700284118187,
          0.5898271226719434,
          0.47092729136915795,
          0.8737452913679618,
          0.3962592296922001,
          0.4875202902835387,
          0.47941787714746587,
          0.4434743231185953,
          0.528485117002588,
          0.6082462594395346,
          0.768019740707287,
          0.18614877452110729,
          0.39793142523877584,
          0.41044571492955134,
          0.6875700594723412,
          0.4286673877853312,
          0.12096488138413619,
          0.5175460927733153,
          0.49326215369181214,
          0.535950313154263,
          0.29196742380410357,
          0.8438069362169007,
          0.43522804324293074,
          0.46234062830126665,
          0.3199982860381678,
          0.3137995992250553,
          0.25545260805024295,
          0.42133782964376865,
          0.30848363224867315,
          0.9112934682450443,
          0.12230152392263693,
          0.2743338903636412,
          0.41971711430859704,
          0.634698255619665,
          0.4172486237239875,
          0.6351926786005955,
          0.3026392221419356,
          0.5118582267789413,
          0.8488082174021667,
          0.3064511208601044,
          0.583913535179079,
          0.541385503856652,
          0.049693002802426,
          0.38220589070586425,
          0.7262303810611979,
          0.5270155344969397,
          0.25754620742078727,
          0.6381554545831286,
          0.40417541093712944,
          0.5720101456161674,
          0.5753840228875261,
          0.2762608797708854,
          0.6579656069468598,
          0.29849823975296474,
          0.238842826731672,
          0.3234342024555926,
          0.4307819932273611,
          0.5218806312882525,
          0.345483253525512,
          0.6489638624790232,
          0.5502928368087189,
          0.36104035697889947,
          0.6777985835189712,
          0.7322136715292967,
          0.4802630606380973,
          0.4570033910072218,
          0.14524572934872965,
          0.4184974815217062,
          0.441698657486927,
          0.5490758814519384,
          0.4663147136739054,
          0.5488053876280989,
          0.8068180578607729,
          0.3940171802732647,
          0.4018055434868306,
          0.23816693713948367,
          0.4982679066516829,
          0.6953625964939221,
          0.14978593016152608,
          0.3668286065961225,
          0.5071881005007837,
          0.6700205767048875,
          0.576574047805373,
          0.5650927256364261,
          0.4551374428058198,
          0.596374851403743,
          0.7028607767066922,
          0.1582016446901593,
          0.6457070801670267,
          0.48024803882665734,
          0.39400222715709715,
          0.011384842824136987,
          0.22392973526914012,
          0.8396117984494502,
          0.36229029350728914,
          0.2830462457493836,
          0.4087148087712815,
          0.35097055562828133,
          0.5248717265237831,
          0.8033947356493223,
          0.38267680982955726,
          0.5308580101103743,
          0.2705525717519529,
          0.8040332884413064,
          0.537808688482822,
          0.283636175341876,
          0.6808612440269285,
          0.7399975297165227,
          0.5322912726815271,
          0.1721206064918448,
          0.8570337627032949,
          0.5620245041253052,
          0.7340908594722907,
          0.38982135897657155,
          0.4202752150532199,
          0.5220906218581131,
          0.722680335607176,
          0.5285980056334323,
          0.24863323749326366,
          0.5523978393566682,
          0.8259068389021533,
          0.5131612564925663,
          0.5258771047552965,
          0.24749125144323603,
          0.21940218245543208,
          0.37246157223735166,
          0.4346964706762553,
          0.520812147002056,
          0.5331913948948354,
          0.8203815302033857,
          0.511737487689982,
          0.7128845376821815,
          0.49213413307101694,
          0.7897807223251523,
          0.12592050425055978,
          0.38025364666431416,
          0.6966066792518482,
          0.4656807989486569,
          0.6863059226775932,
          0.5770132205554542,
          0.6891753967426069,
          0.6226135456057686,
          0.63472978676275,
          0.79849107743031,
          0.697294803740188,
          0.698761341427282,
          0.5040837517571153,
          0.38362995803662553,
          0.36808798234554074,
          0.6501889194379361,
          0.012307887190995237,
          0.23856436233914285,
          0.307349262824242,
          0.4504757242612766,
          -0.026287607361666798,
          0.7517442605178666,
          0.6200350472659187,
          0.8969164796917133,
          0.7124428937845564,
          0.7060758662304056,
          0.9501352062061735,
          0.385808382628514,
          0.19930832015012112,
          0.453528520701452,
          0.3350015892305679,
          0.44863092779511055,
          0.2899562019483819,
          0.6135760134907994,
          0.6025965699197449,
          0.4946154818863455,
          0.562316300676576,
          0.4715898545741634,
          0.6504067336534562,
          0.5139281498970711,
          0.44691087502084537,
          0.6859168939885422,
          0.7521642538453523,
          0.7674907651282425,
          0.3019450621361036,
          0.39311055839166054,
          0.1597007810504616,
          0.45228699635927877,
          0.5832247628955252,
          0.47343976509760505,
          0.8861701734096604,
          0.4188313249777286,
          0.2822982889022142,
          0.6137008413335752,
          0.5299867656996321,
          0.6099285191600771,
          0.5607575861572379,
          0.5487531521061747,
          0.07554022339148164,
          0.3547771944965308,
          0.3819350164094271,
          0.4304071324130147,
          0.41032167230781175,
          0.5825637523375382,
          0.6201765017384039,
          0.27367181464976953,
          0.6373608813589355,
          0.6171536277334142,
          0.5931540132076433,
          0.21642110239406614,
          0.5881164600577998,
          0.516519083907254,
          0.6921760150427688,
          0.8568713590602607,
          0.8176135771188524,
          0.5225288344479856,
          0.4996250616548459,
          0.6263896568018665,
          0.2769920093161119,
          0.2098633716790399,
          0.40549388159500027,
          0.7441137827429055,
          0.43377434034350565,
          0.800516181161887,
          -0.05762257661700054,
          0.18255871464247386,
          0.4752622534288602,
          0.6776389082681751,
          0.48607538025598146,
          0.4808694511013401,
          0.4756517009485816,
          0.14742045311978508,
          0.7316137748879705,
          0.3634470560325257,
          0.7179065314428906,
          0.48589531640753003,
          0.7136320774658163,
          0.5686515961955132,
          0.47866510188835154,
          0.5452523294137405,
          0.20540447817768476,
          0.501205865434207,
          0.8432080644224262,
          0.7616387127977431,
          0.30299528346038557,
          0.6011371702675846,
          0.5495959769495077,
          0.6634376560234816,
          0.5188305771044424,
          0.45329920137398,
          0.7661261552721297,
          0.543279313654402,
          0.7510928643892628,
          0.6948772406688988,
          0.4351025516962184,
          0.46659994512856806,
          0.8859664867998045,
          0.5382964650879825,
          0.34827431532799513,
          0.2599913444029953,
          0.6948264870515514,
          0.5320587442192546,
          0.3415816098942033,
          0.634916966247325,
          0.5319497390111843,
          0.1679049858474086,
          0.6177371109421624,
          0.7666381405686467,
          1.0119700461264942,
          0.5069805128124009,
          0.5465299316421093,
          0.8213193610469609,
          0.5337444533872958,
          0.5550683726159845,
          0.3738763217138848,
          0.2211249774573621,
          0.6825375871639711,
          0.2452859526375512,
          0.7281312485894926,
          0.3423668882224681,
          0.5530467916796598,
          0.4255456537283428,
          0.7349200475914681,
          0.5601692804413162,
          0.8918190705014284,
          0.28326446412808365,
          0.5827726163071514,
          0.5094683761814266,
          0.5559887142513845,
          0.8191842343220898,
          0.6170636060184571,
          0.27049491826455857,
          0.6067021636679658,
          0.41687612476884983,
          0.40532900598584193,
          0.7091714656066738,
          0.3795320033947543,
          0.4240539344839729,
          0.5064814508807741,
          0.6892371793490777,
          0.6163179605722379,
          0.45311701761642575,
          0.44556470686252136,
          0.26797406769329424,
          0.3480329822814674,
          0.36912378283590136,
          0.4701418116505109,
          0.8973526074338324,
          0.3649061132427136,
          0.4408341864188723,
          0.08952031900467883,
          0.6201142188621015,
          0.18451024123459892,
          0.31868209556712856,
          0.7084670736881986,
          0.0790143140842075,
          0.519184082479048,
          0.6601859293330253,
          0.8050888472880555,
          0.3159813783020773,
          0.375195029952027,
          0.8608872646805203,
          0.4949879710836804,
          0.3527472131460656,
          0.3565028325385545,
          0.3054887352865069,
          0.41206555891480146,
          0.7176440952898689,
          0.6775532137146928,
          0.2651459394349311,
          0.542917214940847,
          0.41956805298549643,
          0.6564880808208884,
          0.46872805455414013,
          0.5743049363599534,
          0.46827895860830016,
          0.06258281387235543,
          0.5094004890737289,
          0.24565061009398265,
          0.6494256823353682,
          0.3640344215200424,
          0.3789974687854021,
          0.4982194349975395,
          0.6155587908448761,
          0.46605123644017427,
          0.828436554409004,
          0.8297635722971617,
          0.8430937184339982,
          0.4531362550882465,
          0.20360830877942904,
          0.7440157028476558,
          0.4167309429400448,
          0.5076332624004015,
          0.625664020571034,
          0.17911271989746957,
          0.8258242410664995,
          0.6749924658206615,
          0.5704543164142946,
          0.6781833500957383,
          0.6113905078654696,
          0.5233656231138155,
          0.43844513557108794,
          0.3521715451288435,
          0.5574428561806736,
          0.572240611954335,
          0.7166397605376398,
          0.5401320017438394,
          0.32935969684388783,
          0.18475343052066878,
          0.4744875675980138,
          0.49450832466208583,
          0.48038168344128007,
          0.19389742052887515,
          0.7148930281071015,
          0.7145259492467565,
          0.33534296707710176,
          0.6611964223244309,
          0.6905661723623313,
          0.5076894153295386,
          0.3103002747611846,
          0.8226763070522047,
          0.5761842867544453,
          0.4497925089575915,
          0.6545690791345817,
          0.8244416975700304,
          0.4005679706622269,
          0.6382845090513578,
          0.8886320341449416,
          0.27668703315290405,
          0.39014928225438744,
          0.380428983881559,
          0.468334572590156,
          0.45800525282316107,
          0.5601590878734101,
          0.33592489597305264,
          0.37546730222382135,
          0.5602580967965152,
          0.5309823719467421,
          0.67481596183204,
          0.5818710049851281,
          0.6543693271121527,
          0.2714095920917,
          0.4233167377768434,
          0.8696759901766891,
          0.5784156093103339,
          0.6494785923092633,
          0.5545469474325588,
          0.5850671713857571,
          0.4538191896943653,
          1.2143158436052621,
          0.42076881551806034,
          0.4923357564513697,
          0.015032734908950185,
          0.7212533315189443,
          0.3895494100630146,
          0.48784117879767175,
          0.39439188982363377,
          0.4722634109450309,
          0.443150580315874,
          0.4913916448438703,
          0.48943970346923066,
          0.46915893770282346,
          0.4664245546907441,
          0.7617036904652035,
          0.6762833839518516,
          0.6774884636893179,
          0.35351022377764485,
          0.7513641663696728,
          0.7263289018391775,
          0.389319134239687,
          0.8047704034399608,
          0.3633548114000421,
          0.13159363231898458,
          0.7203051972306345,
          0.47609624391398486,
          0.6953843129149966,
          0.34915956745516175,
          0.24764599765059148,
          0.746374357724794,
          0.21854628732084652,
          0.18779389771252725,
          0.1148826218471295,
          -0.05889445966151574,
          0.292179123347122,
          0.06611840831759269,
          0.49287890307803406,
          0.05271652993507048,
          0.28114531616480204,
          0.9664123992419313,
          0.5690248481224143,
          0.5105611350815453,
          0.1758496039360285,
          0.45088046681024574,
          0.5096217126273234,
          0.1789638408425882,
          0.5252361361761237,
          0.7382464914130198,
          0.43034837623212396,
          0.460552726319143,
          0.0915807169009153,
          0.2201532262780826,
          0.7115390202856432,
          0.36768987068389875,
          0.31405767311151667,
          0.3614833768057286,
          0.488506774599834,
          0.2683168178268417,
          0.5253033011940471,
          0.22799846457538814,
          0.6548000004151571,
          0.28858884453207945,
          0.7640536637864201,
          0.49799346944852335,
          0.33087111432095406,
          0.6822921219164632,
          0.22510062417937748,
          0.3905868709965181,
          0.49998489467787693,
          0.47576663934235824,
          0.09828290632587477,
          0.3158706914773267,
          0.5336468684846865,
          0.23602168812801794,
          0.7532858597331693,
          0.5990361777571973,
          0.39715192185778586,
          0.45594150693998725,
          0.8723128247663636,
          0.6871976901752634,
          0.5760438289732344,
          0.21689624591314477,
          0.8259222637291916,
          0.7104802137747956,
          0.4703189224880258,
          0.39006038615824307,
          0.46241921224464544,
          0.2596126638266052,
          0.4058428884585319,
          0.6526321028309032,
          0.1384757445514856,
          0.43718512515154506,
          0.5227511945759674,
          0.5207136074646657,
          0.2642126091933149,
          0.26356942173458786,
          0.7178330764916767,
          0.2550941814367418,
          0.7017301912616873,
          0.40352693697830166,
          0.7159592700601871,
          0.41578429891899715,
          0.26670573587673896,
          0.6713109712786924,
          0.49652175555396055,
          0.7897153170648903,
          0.6784400170275676,
          0.45411467421124074,
          0.4100664796674052,
          0.5046744686574497,
          0.538042003571838,
          0.32365029465363826,
          0.6683879146049153,
          0.4205273016379205,
          0.4153944509693375,
          0.3918623325254994,
          0.5462034534686743,
          0.36158947965582894,
          0.5269940219980589,
          1.0533206142203744,
          0.48927810798573157,
          0.4131990523402703,
          0.16646215437041978,
          0.5100443849528139,
          0.2781538113500788,
          0.4248883762056854,
          0.5303215187294287,
          0.1538021100355696,
          0.5314925504796917,
          0.5609030350852089,
          0.2405799960666697,
          0.4215381615741825,
          0.13386672756443907,
          0.8151001871684811,
          0.566112655309769,
          0.46408229980417953,
          0.4673128338687675,
          0.7262887216131536,
          0.48116688961587784,
          0.5661633542551506,
          0.8037259120730991,
          0.43076657039956034,
          0.28147293509865356,
          0.3350998850492758,
          0.7857327668878598,
          0.5182856617028114,
          0.39953374234606515,
          0.6947288759598318,
          0.6995914771354321,
          0.4048704464187122,
          0.3056126325829099,
          0.18589427978775797,
          0.14122221581475258,
          0.44700270963080063,
          0.32136081059264143,
          0.8716948819612371,
          0.5117075509390049,
          0.11157009134976792,
          0.7837458551020124,
          0.5323420618835192,
          0.6409958960746212,
          0.636406955366682,
          0.5593113134573079,
          0.6046685260869087,
          0.547752134345941,
          0.2787228188069126,
          0.5733464396284949,
          0.7047811009985081,
          0.4579887174708364,
          0.6102604436139512,
          0.5839178290396123,
          0.8631304127838215,
          0.44944993986004794,
          0.44159916744595173,
          0.4766136519706501,
          0.479521784979262,
          0.04547645780913956,
          0.3714780317066857,
          0.5599770133091546,
          0.49834869706642926,
          0.3401321691605734,
          0.3670441495649238,
          0.4288773743406082,
          0.3396856438395159,
          0.3973898779113199,
          0.3921219761042931,
          0.6790741693214354,
          0.7032782537082154,
          0.6867170188789345,
          0.5853403598350436,
          0.35833550311729034,
          0.6919660899987461,
          0.437149882696114,
          0.5046104416518941,
          0.7676441063861177,
          0.5167985712263281,
          0.5494568060475238,
          0.2174441028006821,
          0.5974018587533707,
          0.3039986705395038,
          0.7023879312735803,
          0.4630801645654299,
          0.052766231596577895,
          0.4283959794873316,
          0.45439309234281655,
          0.5970950452156185,
          0.6341024781294334,
          0.4344471510557623,
          0.7025736389707748,
          -0.13341106573058126,
          0.35720220039495415,
          0.27752714583256266,
          0.24916329788301572,
          0.6919412742695021,
          0.6658340798049698,
          0.3448459959179556,
          0.735611400791992,
          0.5202933784904836,
          0.4156631798449694,
          0.36141544072551257,
          0.34434565470738143,
          0.594554971489907,
          0.6300309801934004,
          0.5477002424375819,
          0.08995646452338057,
          0.5592717312105808,
          0.6130793128077612,
          0.3661588789071102,
          0.5086501085796706,
          0.12722314013985048,
          0.25400618766404537,
          0.43515293035189456,
          0.43804977119677874,
          0.5703358743499203,
          0.262614922694118,
          0.4317587870758654,
          0.4020440439173182,
          0.6056020947958416,
          0.7842085536736663,
          0.8441840639620151,
          0.1863119906337285,
          0.49039716164990854,
          0.27749413795104694,
          0.48705100970275206,
          0.5845838559231898,
          0.5162981797406824,
          0.49019766024110784,
          0.7966078349530603,
          0.6441978783407818,
          0.44546910769244324,
          0.5048422721790587,
          0.6741795613578798,
          0.6219581012078558,
          0.4149847792598357,
          0.1449514317792861,
          0.26306850144546207,
          0.529195845002703,
          0.14269462946419886,
          0.46952110039671446,
          0.40928616476249424,
          0.6998505606094407,
          0.23639123530490885,
          0.11364620421980226,
          0.4160718516779784,
          0.6269526263187045,
          0.7139837197854704,
          0.3181345966880114,
          0.5940527495192373,
          0.27771391044752913
         ],
         "y": [
          0.3502345068861096,
          0.613518945205553,
          0.6436301085103688,
          0.30012385014529624,
          0.5949796645873969,
          0.12630003734988998,
          0.4594682185668892,
          0.27315039474433167,
          0.3384601319605697,
          0.24478452957113006,
          0.610725279067797,
          0.6107748940863735,
          0.3617599109334445,
          0.5751164612887197,
          0.5522545106270751,
          0.4743096491333115,
          0.9316340399167156,
          0.33182427657202795,
          0.5028610181426274,
          0.4235225941408882,
          0.4256439970739157,
          0.5318824008182959,
          0.44112085996207107,
          0.32791464798155234,
          0.5248454995919462,
          0.736466329350797,
          0.6885532759957,
          0.5406088976817421,
          0.35292063724021416,
          0.537285920079894,
          0.7169286046691878,
          0.7382378524653974,
          0.5719374119132792,
          0.42712855996675636,
          0.45944945011342575,
          0.654409185467701,
          0.6372692429742501,
          0.1484600775724032,
          0.6317235129584554,
          0.6422576680059056,
          0.32256171499894537,
          0.3470037767552637,
          0.3485671803764729,
          0.3639474394954305,
          0.21665008256115315,
          0.5626183859103894,
          0.3428561202464979,
          0.48592323278174204,
          0.4004862433902009,
          0.551035504279338,
          0.29787659278560985,
          0.5490530749792932,
          0.5779562031887386,
          0.6655189170397258,
          0.8935538178781315,
          0.08157964594915634,
          0.5640628668746274,
          0.358167431678652,
          0.11498826541776785,
          0.6683261246613311,
          0.7664399767789811,
          0.4216744579001485,
          0.5421832592444021,
          0.4871846519673686,
          0.5868395336186393,
          0.6761071497847194,
          0.5689874671386794,
          0.5691539858920318,
          0.7519473085743268,
          0.46706755556467633,
          0.68461291425979,
          0.3355999155616962,
          0.8214169893433404,
          0.6475650784745812,
          0.41924809322170803,
          0.07709037058206664,
          0.49993785657377,
          0.26363811824585004,
          0.5599269206359494,
          0.7902337645600952,
          0.5320119585592978,
          0.46439747713509527,
          0.5684410807991718,
          0.557130039221975,
          0.027427178309550437,
          0.5481873728141026,
          0.6240554712235393,
          0.44813167314145863,
          0.6957118156281019,
          0.4744650850834007,
          0.653399752496082,
          0.9546210214124309,
          0.48072177419470563,
          0.11157356681635056,
          0.4326816551848783,
          0.1548219990419859,
          0.6222475652880793,
          0.7618701948066182,
          0.6391759323435081,
          0.564061642549254,
          0.3710149084950485,
          0.8151299491932955,
          0.6506552423998637,
          0.55689391134591,
          0.5409720638093141,
          0.5223254717300011,
          0.5904432847918821,
          0.37733456418767924,
          0.8050499868006842,
          0.5304679505747887,
          0.6200108900945002,
          0.4132865444661147,
          0.5749837067146855,
          0.04364951473870399,
          0.27634022430836835,
          0.4937173693627075,
          0.23550537798866655,
          0.9878828127730335,
          0.16638373721812227,
          0.5691801498071876,
          0.8311546306948336,
          0.596257411882417,
          0.4379544893237251,
          0.389571183233443,
          0.6346510977545288,
          0.3399458637914907,
          0.4761027780382491,
          0.638239721143616,
          0.4384241946847398,
          0.5175020020377427,
          0.4391827414901979,
          0.3060404792986266,
          0.7378300969444288,
          0.7786132481165986,
          0.43666000921932885,
          0.4468847682642836,
          0.4644201322040256,
          0.6077606547251563,
          0.3189399469516941,
          0.48229493888948194,
          0.5525918110338292,
          0.6284084298774493,
          -0.05616745497628395,
          0.5806806419137025,
          0.5691693523838167,
          0.7015456473399267,
          0.39474719695586086,
          0.39632935894618665,
          0.7405033173339406,
          0.18736865877015818,
          0.82581805827628,
          1.0111788918455653,
          0.5954903369409771,
          0.6628196947153226,
          0.20208365858013116,
          0.36108804266048544,
          0.7115725094344204,
          0.5723630693964468,
          0.4637145073946458,
          0.5465738264679089,
          0.6013952968640534,
          0.4413808597825932,
          0.49421081100465225,
          0.4927385250402131,
          0.28954420371781214,
          0.5647189255918202,
          0.8607171829226181,
          0.8463924260372384,
          0.20472014082964823,
          0.6141262439753474,
          0.6351007561811546,
          0.41789790743527166,
          0.30715999305752106,
          0.23583713716567034,
          0.41105924422999374,
          0.5700018273214426,
          0.4683883648465487,
          0.37781338234736844,
          0.25016867372982005,
          0.5701432516776593,
          0.7133084893938911,
          0.31461560559310164,
          0.5896857928297448,
          0.12410495121791981,
          0.36850677821175165,
          0.6459208239031523,
          0.27644655812207575,
          0.3791126550375138,
          0.7835933656873398,
          0.35343120394949157,
          0.32921103615414715,
          0.6151696723861344,
          0.8909467126310588,
          0.4520660105411763,
          0.65374717206372,
          0.7691538360230012,
          0.5651104325761144,
          0.44601641976298795,
          0.3247346522749027,
          0.21495780781578705,
          0.7223403490207614,
          0.5361914291483774,
          0.7665601884845866,
          0.6977850632699408,
          0.37660589599447697,
          0.26262266001992907,
          0.5825339165873833,
          0.3734986231317566,
          0.5753378282001443,
          0.3537696124677183,
          0.32775494936054517,
          0.47180183809185716,
          0.6868201240815968,
          0.5613079790627155,
          0.7356750297343564,
          0.25328765938895453,
          0.28858457169354035,
          0.48216726016793693,
          0.9331402766586138,
          0.6348572227124747,
          0.2866774515910542,
          0.4847719094084584,
          0.5441429581602517,
          0.3862628508877983,
          0.6226549982113011,
          0.4687107723670388,
          0.44013385635806584,
          0.7520513574384959,
          0.15806781956794297,
          0.3076389316430613,
          0.33653820371184395,
          0.3304637860002604,
          0.3542493909417249,
          0.5976951915781641,
          0.7193065656820694,
          0.6832082521311778,
          0.2960875746941982,
          0.47851642028602526,
          0.5904530426949648,
          0.5480005904570886,
          0.761149479901847,
          0.364933152891198,
          0.5312638842201646,
          0.4213538570187823,
          0.5502150038179047,
          0.28422061746206073,
          0.314212455808485,
          0.3539778280423026,
          0.38726613776899066,
          0.8095846531265527,
          0.7350803828590863,
          0.45747006585721134,
          0.5345866588419009,
          0.18111279637792038,
          0.46414153068970715,
          0.5319229426623455,
          0.7291368426802448,
          0.565360943934993,
          0.5865780117551105,
          0.5595525779500925,
          0.5538002379344257,
          0.22064816481300487,
          0.4166484663319399,
          0.7869773597083085,
          0.664779288521849,
          0.5988468998130282,
          0.513343061844812,
          0.6318882791491325,
          0.3110221182094375,
          0.1839880875972485,
          0.4235826895530063,
          0.6075846115447556,
          0.5215659764537223,
          0.70279173576899,
          0.5702901033120937,
          0.5089684392428684,
          0.7654969908031275,
          0.7264751556914935,
          0.48038173975611154,
          0.27939002779678446,
          0.3185277015488972,
          0.4677097723431693,
          0.42663772326950977,
          0.8315524659761301,
          0.16397317021107372,
          0.48714844262215745,
          0.28675470252035307,
          0.5233603737826102,
          0.5764529665784022,
          0.41902060511721895,
          0.6060962827363033,
          0.4602746118987412,
          0.46412087744876596,
          0.41642225491621787,
          0.6301648577463166,
          0.5277002927412495,
          0.8146479259565584,
          0.754004975364877,
          0.6107549215141156,
          0.06811167077999047,
          0.2031343375918725,
          0.6972501145579653,
          0.4048722880949885,
          0.5469687515356583,
          0.37390492000005504,
          0.603577326103249,
          0.6915979888189011,
          0.25807445208287655,
          0.3372857149024924,
          0.16725431733365753,
          0.546681462365754,
          0.16694391583403528,
          0.4267836610202719,
          0.6039222293065605,
          0.9116185869349922,
          0.5736836684574904,
          0.7505769483949846,
          0.5518317685119531,
          0.561848681877003,
          0.45781542044536117,
          0.42334597341927305,
          0.7348756303085392,
          0.5749348705649934,
          0.5672592689769113,
          0.3783649479137867,
          0.43099165371431253,
          0.9134980965958119,
          0.4864996339143449,
          0.7652336119183998,
          0.3959496577331841,
          0.6603088343096564,
          0.5579591197691225,
          0.41925737893137294,
          0.6297125797088965,
          0.19131121822150504,
          0.6149242857842336,
          0.657380644382329,
          0.5546146376225385,
          0.7621847393007715,
          0.4863799090612862,
          0.47017216306976883,
          0.5710079058216,
          0.6735412505440347,
          0.6139681028904971,
          0.45467738506748,
          0.30095443096427066,
          0.6326958511892634,
          0.34208574514537193,
          0.3363449264079468,
          0.36907136479146113,
          0.5115417613513968,
          0.34074070714189897,
          0.27286239264299383,
          0.36823161110844305,
          0.4633336379078193,
          0.590856893629015,
          0.5134533821527482,
          0.2839075809502249,
          0.5457324263142113,
          0.5645511042792,
          0.4090073619170896,
          0.3407507882344073,
          0.3406739691875238,
          0.39363753663088935,
          0.9428484072871748,
          0.3221855182418907,
          0.553199833435776,
          0.35717948072541617,
          0.398803376842936,
          0.3587727121207195,
          0.6602404771813144,
          0.5758215657086612,
          0.4741312397718392,
          0.6005869893299539,
          0.648693139054768,
          0.32985699071969876,
          0.6094504826366061,
          0.3564736631156773,
          0.6675870454387044,
          0.6480396958773105,
          0.5807406101393554,
          0.45801473175519286,
          0.39477814737578,
          0.44727426026538103,
          0.6538309528107061,
          0.3635337908664639,
          0.5099342479940685,
          0.15047416613564607,
          0.5520749317048602,
          0.2928943165158099,
          0.23637265363298937,
          0.6037429763881283,
          0.5420675060267619,
          0.4113245020703985,
          0.4395808648461385,
          0.9542067534913388,
          0.4611711413954066,
          0.459756794344482,
          0.6304610558309489,
          0.5174424674536708,
          0.6974856899515147,
          0.5554897603764285,
          0.6522178285076765,
          0.5886660825969666,
          0.6290607529647283,
          0.4914694060307644,
          0.5445055554538207,
          0.44579290135988203,
          0.620833901477268,
          0.23079226308693085,
          0.6452272579776113,
          0.6996050700444417,
          0.648352355582944,
          0.479180456096677,
          0.6010458422213928,
          0.3446842664112483,
          0.6674204427802084,
          0.2801569418816595,
          0.618746224249906,
          0.6065314789226777,
          0.5813455672527391,
          0.41058327115054793,
          0.6520332465935088,
          0.13254702748727176,
          0.6554443624735918,
          0.5382875819065829,
          0.7101917345083708,
          0.5400097969833093,
          0.8676380293519423,
          0.31163613331037077,
          0.6218814637003136,
          0.32279910216885577,
          0.474722763909155,
          0.648474517528535,
          0.6250860652421002,
          0.9159077360715355,
          0.42971865332730014,
          0.7572002688292364,
          0.4491399625739616,
          0.35981998234306023,
          0.17540928771659514,
          0.5325341251804301,
          0.3957388788767744,
          0.6695034739657808,
          0.39431984901311357,
          0.4046796884836111,
          0.5709310552861877,
          0.8442431596278785,
          0.28227002381277033,
          0.7035225609463991,
          0.6748210599590739,
          0.4558108059263132,
          0.6350832570036681,
          0.44314471473450456,
          0.97427769080505,
          0.4775809416489843,
          0.5160828187105329,
          0.43484167816983504,
          0.1613091904976922,
          0.44736932402436214,
          0.5464073943077814,
          0.8001845243313462,
          0.5983914255593132,
          0.4621235624534606,
          0.5119886385495236,
          0.5654680732816597,
          0.4242067882842132,
          0.6364474033605725,
          0.8250176316173363,
          0.42737025230089265,
          0.7415060531700723,
          0.6752652608462641,
          0.6074489722107729,
          0.5223851237113729,
          0.5675567741965422,
          0.45652136522563824,
          0.8673737007453194,
          0.35631936884890736,
          0.7269889388571869,
          0.8099443442531231,
          0.43537313343546,
          0.7331693918584217,
          0.5287962692462022,
          0.5124719577271006,
          0.4850872614327758,
          0.17725377989151575,
          0.6095847916503411,
          0.7887103528703492,
          0.35905591547507887,
          0.669467731615808,
          0.48295892154125564,
          0.28146214500451716,
          0.6995779931439567,
          0.8372073662592489,
          0.34114952822607797,
          0.5431603391065747,
          0.2120528584641298,
          0.49159853628575295,
          0.5972132805686526,
          0.850581921168692,
          0.811514743225225,
          0.8284996683126442,
          0.39458161162559147,
          0.4509669863001968,
          0.16713891501561262,
          0.35696889831620426,
          0.20963415963097848,
          0.5731073793274483,
          0.3606019990417513,
          0.27971554603700544,
          0.4289171128198639,
          0.26302460881411127,
          0.5618033639575266,
          0.5568894988046873,
          0.4368574819884521,
          0.35386490391731473,
          0.2321117250308865,
          0.611071321049608,
          0.5457441479870873,
          0.5928630928244887,
          0.4387129238094706,
          0.45641529888371957,
          0.7883998297552606,
          0.3798830269002126,
          0.43747119548838315,
          0.6487784165730298,
          0.5605822593111259,
          0.09067555858670023,
          0.1624226539936664,
          0.3678337466779811,
          0.6820599328890733,
          0.6343346155365367,
          0.6039046721499971,
          0.6255488192671648,
          0.3062110490754955,
          0.6202094186501108,
          0.3157432606554914,
          0.6894598403544211,
          0.3978869731571853,
          0.556325215621336,
          0.12510031925619658,
          0.23022221755892291,
          0.7181354875775158,
          0.638348774037382,
          0.25641264533584013,
          0.7571183444827999,
          0.28184311423637154,
          0.5039922207808665,
          0.4039798756267695,
          0.31531696067577586,
          0.7335881123077157,
          0.8369962991248536,
          0.5356548434195314,
          0.8051997833725337,
          0.4437569893621208,
          0.5216617196764709,
          0.5262978512789237,
          0.2686582222752556,
          0.5998913784925062,
          0.6419386280324738,
          0.46530527307173464,
          0.1616497663774314,
          0.5735410988742154,
          0.1969972971699434,
          0.3377460332728457,
          0.526284258490063,
          0.34606750713524925,
          0.550735330109035,
          0.45475794902070404,
          0.17390069785178902,
          0.533594312215702,
          0.6173159360573082,
          0.7024800485623762,
          0.42668638504661094,
          0.48770326425295873,
          0.20097826613203984,
          0.8929778810678581,
          0.8010016378699368,
          0.49363319647728976,
          0.47503164547100907,
          -0.08604456887359535,
          0.7070525125825498,
          0.6125722362314575,
          0.6625623740993736,
          0.4189503689401146,
          0.4061142349873267,
          0.25291627083593327,
          0.6556019460370001,
          0.7504307757396927,
          0.7247765753526093,
          0.5374515152016706,
          0.43466965956649456,
          0.28960591532677926,
          0.35964989607382913,
          0.5935100947270044,
          0.44308932491982533,
          0.8282808369471037,
          0.7304712061648655,
          0.3796381735767687,
          0.2568675871329993,
          0.3903163314457665,
          0.713076589287299,
          0.39521551837565616,
          0.6091975970333001,
          0.3868239761545655,
          0.5686328314046888,
          0.605628394670596,
          0.6971666491169093,
          0.78664802611595,
          0.7620457869615871,
          0.3939656981654459,
          0.47059625277119144,
          0.2652949809583305,
          0.45286294249310666,
          0.5048634289729184,
          0.4192080130141138,
          0.3992830863100988,
          0.706416035550492,
          0.6814965890181499,
          0.5798244095704089,
          0.24449787928740951,
          0.5401861799000468,
          0.42315368581199925,
          0.7631454921594183,
          0.13954185066532787,
          0.3882352617400706,
          0.38266993834928664,
          0.40668519360801947,
          0.6915157496994278,
          0.02952831776462972,
          0.45838956475402387,
          0.6701441348234929,
          0.696023501201672,
          0.3901844278919868,
          0.3640443701315826,
          0.5692427146945416,
          0.530207338050144,
          0.5138806230054513,
          -0.26027563937219833,
          0.2745655590193732,
          0.32735538743029857,
          0.6286019723918072,
          0.21184805906618565,
          0.29067448782790994,
          0.46912319881351966,
          0.24248096464402952,
          0.6285707810361931,
          0.42171926403827864,
          0.8665811864588635,
          0.37405625658822234,
          0.38474335936668713,
          0.6608876578538618,
          0.368932614666704,
          0.8023136640884345,
          0.5965829884544516,
          0.43922401211123746,
          0.4678404005845844,
          1.0701415474235179,
          0.5977308717995902,
          0.530095403188286,
          0.47348464896332254,
          0.7074324065360529,
          0.19633473724014638,
          0.4637623954066355,
          -0.0667314912027005,
          0.3933184748176666,
          0.6695853625821389,
          0.7764461677710435,
          0.6211940476360078,
          0.6279937182995483,
          0.15681970200907375,
          0.3643252377210134,
          0.7948810031824246,
          0.3952279979031739,
          0.47280351958137684,
          0.33888760272846363,
          0.3132497029019512,
          0.40594615470405915,
          0.36778880681457016,
          0.6915003591633684,
          0.5430739195778588,
          0.7037767652887035,
          0.22255249933458116,
          0.7450906296408114,
          0.504291244808981,
          0.8678696768251888,
          0.4894447723278702,
          0.2013196370674159,
          0.7568441255747675,
          0.47270235237529357,
          0.0695769840666221,
          0.5290389362739408,
          0.5462456251716239,
          0.7152225486657238,
          -0.21749876624289155,
          0.7297738950222591,
          0.4050806490516066,
          0.8852495815841719,
          0.15634379983186814,
          0.6090677803841438,
          0.5823437661510534,
          0.4155770539478828,
          0.3452388189782644,
          0.4252509944577794,
          0.4306559418875115,
          0.24931239871246214,
          0.698598434010249,
          0.28155993071358054,
          0.7046381955560015,
          0.14221308694981544,
          0.46456204396162504,
          0.46753869339284054,
          0.4968411256112884,
          0.6912591759358616,
          0.4595305560084479,
          0.4084141179432601,
          0.4601344830278554,
          0.6962013711139498,
          0.25887861037306126,
          0.2958663000387075,
          0.10866034951534381,
          0.9054497391772808,
          0.26805105434350907,
          0.12291366882565335,
          0.33822017227091683,
          0.3775089503896291,
          0.7930912002480804,
          0.4070201548849396,
          0.5583538561418752,
          0.1418440390549539,
          0.5415966983563345,
          0.170240751056151,
          0.4372809902334278,
          0.3480258038034134,
          0.5116542994332858,
          0.6268817412277261,
          0.232820809840375,
          0.27271631435551513,
          0.5387178011889164,
          0.6374571421604989,
          0.7834750390189592,
          0.40562165392946364,
          0.20170426501782096,
          0.5373251439121172,
          0.3410712564224086,
          0.3151159604867038,
          0.7816354148730573,
          0.6237433620174248,
          0.3543844271447334,
          0.49625769293166855,
          0.48286460237581824,
          0.5330191235667582,
          0.41881207732841874,
          0.11998749447259066,
          0.3047299649988813,
          0.3936006829490415,
          0.5056223532532448,
          0.28354112756397,
          0.5372569875788162,
          0.4237457077631844,
          0.34810497962203457,
          0.24594477520711472,
          0.5892982832782896,
          0.5848486771645959,
          0.6600441763577962,
          0.6098576451260536,
          0.6248268909589018,
          0.5764157239320263,
          0.14831806427990823,
          0.44417622411072943,
          0.21352350764862033,
          0.7738424150986065,
          0.49719725505871654,
          0.7539511690970383,
          0.2939355416432028,
          0.48162615682146315,
          0.5526748499417786,
          0.43381957087929723,
          0.5375578799499842,
          0.7964326913416764,
          0.2936173154001396,
          -0.027584497457675772,
          0.8201248278666646,
          0.34166755267228777,
          0.7244999392445173,
          0.6303826600541649,
          0.4566626403934557,
          0.576068957928871,
          0.2718931471273015,
          0.5171794308785579,
          0.6188080409570766,
          0.3451334547326945,
          0.42394178057766385,
          0.5625187039502645,
          0.764654741930924,
          0.49936903202544486,
          0.41386803107820613,
          0.47071684509310974,
          0.7320351894010758,
          0.3716975328337089,
          0.439953520578827,
          0.3735478443530289,
          0.4591366930445514,
          0.5427391204675539,
          0.7067756403042236,
          0.07508494305122082,
          0.6110977831524071,
          0.3216820235199702,
          0.6186140010260627,
          0.747926997860241,
          0.699119002399965,
          0.5315917560317855,
          0.6668997867918133,
          0.3113232127218639,
          0.486433982840386,
          0.8038942193361973,
          0.34214889404472826,
          0.539453833007882,
          0.42616492554443985,
          0.46097830595748224,
          0.5812142390293022,
          0.4460962189573188,
          0.4993181706923737,
          0.39908334607750773,
          0.13499433496581414,
          0.5386188256457504,
          0.5878940073302472,
          0.7764346928408101,
          0.47362690737259255,
          0.22105829371812624,
          0.34919836118535147,
          0.6080784690678463,
          0.483094097873385,
          0.555858176831753,
          0.42938397230245706,
          0.8739617828162343,
          0.8455976022562985,
          0.3136808749093424,
          0.6818061986221703,
          0.5608124779629574,
          0.5027119050579343,
          0.3280624021311639,
          0.8243061266895297,
          0.7330516682331452,
          0.2085799894761729,
          0.7766982616518641,
          0.49232434592952307,
          0.3804418851914321,
          0.304684447084447,
          0.6889640623721471,
          0.5799791042871014,
          0.3251707359463219,
          0.33778044233380966,
          0.4224953792772802,
          0.3974987908719234,
          0.6055560624305254,
          0.5757473986167619,
          0.372870019427905,
          0.16849811504501522,
          0.23320014663004845,
          0.67401110176609,
          0.3010379052918059,
          0.5222270397741191,
          0.14736849323958046,
          0.5794119671326009,
          0.8839052811142039,
          0.2343865537995829,
          0.6099394538229446,
          0.5544923866229218,
          0.6835767892308282,
          0.4737519361328676,
          0.554564988413053,
          0.5363948256298938,
          0.6145685637941519,
          0.33217745899527085,
          0.5384897522768988,
          0.6620651194969052,
          0.7335981182849223,
          0.599145783104735,
          0.2736086932077436,
          0.189284364895986,
          0.581725112168122,
          0.29767124936541856,
          0.6688669212171756,
          0.442443127287776,
          0.7023231886785961,
          0.925163324921758,
          0.4875354649616927,
          0.47679992270620525,
          0.7026985898405558,
          0.7127810055579384,
          0.840321633622549,
          0.5393139238632341,
          0.37342660833153507,
          0.5015427314508388,
          0.3752741613760473,
          0.5479619406857418,
          0.3263520624266054,
          0.6804012912636546,
          0.6394980309175882,
          0.5278066607835334,
          0.5051153093511882,
          0.4607114163637749,
          0.7624510407043268,
          0.7374834965379227,
          0.5291433709155556,
          0.3286700245788009,
          0.2646303361620776,
          0.5575241426075471,
          0.3723876125167209,
          0.5951867744752244,
          0.4226608925260478,
          0.6547508718477222,
          0.541483048895774,
          0.6996106123903508,
          0.053218949541141536,
          0.4545899508350268,
          0.943357626653367,
          -0.0006322023473875893,
          0.6685304434570325,
          0.5836007481537884,
          0.7571402108698471,
          0.46528164089487434,
          0.7380708878105758,
          0.7433811608277555,
          0.5393560185402888,
          0.2671976243261034,
          0.6826009068163761,
          0.3053126009429659,
          0.4725246858871174,
          0.6893816488325054,
          0.7184135412981397,
          0.4304082053590049,
          0.625396587274756,
          0.19149267722290575,
          0.405523819746118,
          0.7937837791847557,
          0.768677609569222,
          0.6338427672831575,
          0.47163310283829235,
          0.6694520633292353,
          0.4953543615924425,
          0.5336457214986795,
          0.517676581681222,
          0.34489593878764013,
          0.6451849622638752,
          0.28601054788497815,
          0.6551689708379517,
          0.3078795058856162,
          0.3555848568205029,
          -0.06816947116065508,
          0.46878330965166054,
          0.5378377949858717,
          0.6654145016106934,
          0.7621752019397359,
          0.20195731443411352,
          0.6969654974159791,
          0.40719314927996864,
          0.48558798035847367,
          0.4789463288855156,
          0.41009706583606126,
          0.32201778862341324,
          0.5558433430427976,
          0.6622290089312299,
          0.24804565744800128,
          0.49610824872533554,
          0.37419754906265934,
          0.7191843555637172,
          0.5987159093889358,
          0.8017410228850712,
          0.19024699971017295,
          0.7068393200722322,
          0.5325330820977147,
          0.35496531004094634,
          0.5978406987117406,
          0.813206654565505,
          0.8209228249345832,
          0.6644436408513211,
          0.30167906283582435,
          0.5619726906845068,
          0.5684845152159974,
          0.7484033245287256,
          0.4670249641960249,
          0.5031143566031757,
          0.36929826141378197,
          0.6336174641274099,
          0.4569179021692298,
          0.5371957177511177,
          0.4060899974232215,
          0.5094479227464835,
          0.2839173990046011,
          0.5321778333650895,
          0.3794849551544703,
          0.6398657108856486,
          0.8694906837009053,
          0.6691402484242948,
          0.27601549723327684,
          0.4281406568202993,
          0.17806098317650665,
          0.5027140123783953
         ],
         "z": [
          0.03356697083095786,
          0.25007204382083664,
          0.49747353123895427,
          0.2667742187034601,
          0.20610392620460502,
          0.03352686794768403,
          0.32207364908653807,
          0.20438221507035464,
          0.04261892121072677,
          0.17385164171770312,
          0.30674257266724814,
          0.4877749015650532,
          0.1994328030706375,
          0.38211528261744804,
          0.32167425645234665,
          0.3524696247464337,
          0.48499703989869314,
          0.2687319670644985,
          0.42471532522504135,
          0.4394013331147162,
          0.4157077804856011,
          0.2679116963394872,
          0.32332598800305923,
          0.2797040099809644,
          0.37465945688945396,
          0.5183449934477949,
          0.4575705900741995,
          0.27048258941211956,
          0.23387939645505823,
          0.408033169240407,
          0.4776643305022711,
          0.3331282074982975,
          0.25583769961026925,
          0.21643304796509305,
          0.2572447973726738,
          0.4097686527113321,
          0.2861538030036651,
          0.17048456358073238,
          0.1942499535422693,
          0.43989494582488414,
          0.24520715185053,
          0.27307552977001237,
          -0.09629299494283602,
          0.08528519877308721,
          0.09642360122658963,
          0.35589213703003236,
          0.20050995109893202,
          0.21192702696816695,
          0.3706833863146402,
          0.36586713852964187,
          0.13997401259515121,
          0.2315514190275568,
          0.35614127824004316,
          0.5262025566594912,
          0.5411680834074574,
          0.047884633834003876,
          0.34710038342403965,
          0.22951497748497213,
          0.048071688269435156,
          0.30585180987180277,
          0.6138017917505549,
          0.31873085256673894,
          0.5387118583932466,
          0.34277062610121095,
          0.3313249052487246,
          0.31306496370855036,
          0.3099201971141498,
          0.22755824112372633,
          0.6617334720678947,
          0.28015707683318,
          0.49115447283749025,
          0.29855812192819164,
          0.6031390292818923,
          0.6441677036204344,
          0.24223380606936723,
          0.030191852184096184,
          0.31766872351908115,
          0.23446140607233384,
          0.3548413532795484,
          0.44779155434481893,
          0.2498665780169169,
          0.20229021649837176,
          0.37050848830843147,
          0.23637458345140216,
          -0.16363580775878708,
          0.34128483522311176,
          0.49175679730576616,
          0.33583258506969854,
          0.41839057333441454,
          0.32657789902679657,
          0.22951840452706262,
          0.5045481851723086,
          0.45784855652376355,
          0.18756273201269108,
          0.18975071955012612,
          0.2704430939419688,
          0.3024087092442878,
          0.3754848301100421,
          0.5388249565900894,
          0.4704834850067846,
          0.1656382276502763,
          0.48448235429866704,
          0.35815050607202814,
          0.3876091846743542,
          0.4828076545434521,
          0.3681312225516417,
          0.3444832594070154,
          0.09215355216175825,
          0.5625819932560606,
          0.19652280960355276,
          0.3545366194482629,
          0.3460412127926573,
          0.42717163986998347,
          0.11186178576943996,
          0.23780390153563402,
          0.3124836122696563,
          0.17219612015332025,
          0.6032372289706526,
          0.1507636323585551,
          0.3953167065270051,
          0.5133601560281105,
          0.4103045945329632,
          0.19586303917614195,
          0.2049959715354896,
          0.4063057293358978,
          0.3976566770964429,
          0.3405481560338983,
          0.37127008210007234,
          0.24281673900944062,
          0.3860793977384236,
          0.25468512007859895,
          0.2482023602661635,
          0.4949046014503386,
          0.34425316409547446,
          0.3112310774396418,
          0.3163873236683609,
          0.35948949307524497,
          0.2835316361178573,
          0.3031862975583971,
          0.2739848141370148,
          0.5313884611135151,
          0.5538664823547716,
          -0.09224611296992286,
          0.21318618464487296,
          0.41305978511081937,
          0.34030323696979636,
          0.3533728330184246,
          0.2932105297992954,
          0.30029729001672045,
          0.19221360432094942,
          0.5108682167077747,
          0.6495887327135482,
          0.5103517288188246,
          0.38507347942945697,
          0.19794057524383837,
          0.1584147239393174,
          0.3713953265322431,
          0.32278468553468864,
          0.21851691868500017,
          0.38614454013000105,
          0.23000574113724637,
          0.349166851979115,
          0.22195404394927265,
          0.3353362558501793,
          0.05688258814622031,
          0.38756553896656804,
          0.6272452576138194,
          0.5096555570420815,
          0.2792478445840407,
          0.3558203732469243,
          0.42306783389029,
          0.15964697479861806,
          0.22919459785298266,
          0.08623209737419338,
          0.17633826675576075,
          0.502394614806341,
          0.15569536392172187,
          0.21634444848638623,
          0.22264525875932958,
          0.36707702849188717,
          0.24480847084330148,
          0.25153604388407624,
          0.21824879161497193,
          0.03142241431044511,
          0.19785061639670698,
          0.09551532954799485,
          0.15644852614162572,
          0.2949684981149827,
          0.4544346821341697,
          0.2322866542551672,
          0.42531162246859044,
          0.48312784592928854,
          0.5421263586164743,
          0.5313648185170681,
          0.33022941215784496,
          0.5130213794151266,
          0.18274229316112772,
          0.30887614192758184,
          0.18499500339398606,
          0.13642324361408445,
          0.4723743349810053,
          0.3508563857894521,
          0.3554938101353152,
          0.382249502460698,
          0.22806582464430408,
          0.0160320375265309,
          0.4312253816309301,
          0.41333822061209613,
          0.37699992885427663,
          0.16115766107865548,
          -0.03169175152616388,
          0.1328380910914092,
          0.4473500343225597,
          0.46367879176586657,
          0.42049511936215056,
          0.005715784685105085,
          0.08808585359185807,
          0.2337992530948434,
          0.3676726530833856,
          0.35135989717246685,
          0.2619917455786483,
          0.1238537919479615,
          0.2718746476110731,
          0.030610299027131277,
          0.2937520257567816,
          0.26707082496867673,
          0.3671816757028793,
          0.49747686503867783,
          -0.022746490328052135,
          0.19555592347572032,
          0.1690693167736527,
          0.19894358006267085,
          0.19395206233390472,
          0.39149559472132445,
          0.4513887491141171,
          0.49780779954561455,
          0.19143122131295354,
          0.4574863175956383,
          0.40805088615845986,
          0.4780119203053318,
          0.5303892148832372,
          0.15334911572062243,
          0.44470010220401673,
          0.37214544233628094,
          0.04468466682650968,
          0.11699646176662033,
          0.3346816770024654,
          0.3180340046762764,
          0.08693886201627374,
          0.5733450407370693,
          0.6163894763914719,
          0.3371529170662904,
          0.17425690718316436,
          0.030770912963103886,
          0.3204809676439942,
          0.2990519193446666,
          0.5671027957594948,
          0.4139106191592929,
          0.5497823604621959,
          0.4410684132440541,
          0.3890301995140603,
          0.10235991987895665,
          0.3918623868897171,
          0.4738861281588555,
          0.2983716460193206,
          0.36541296963730985,
          0.300701844897192,
          0.281449710336559,
          0.2716285103908091,
          0.0981021372411675,
          0.29448044514410876,
          0.28716401363250843,
          0.29881748784082046,
          0.5002424312182012,
          0.31819887024143767,
          0.2699451353955319,
          0.679988339898311,
          0.4681524581723463,
          0.3625397995199628,
          0.2433577253781873,
          0.20156227067184349,
          0.3341777297378544,
          0.15927058902502428,
          0.6449756223272822,
          0.22436593294535806,
          0.31240099956794054,
          0.17319619037720305,
          0.19230591879302322,
          0.4495054298184994,
          0.22757550304390778,
          0.4254896005151854,
          0.13399835785604425,
          0.3436914875186038,
          0.23330167933424023,
          0.3796354723984405,
          0.17675647143430623,
          0.5593206655872938,
          0.3928998667311428,
          0.3633481541126873,
          0.12327695897483662,
          0.11527275006749785,
          0.617976971657836,
          0.15414757554749564,
          0.3540964998667916,
          0.26708886033947904,
          0.26253908098778084,
          0.42477708876478243,
          0.13730686149108273,
          0.22665845432492732,
          0.14714152580402962,
          0.4700395070786063,
          0.13089177534328097,
          0.31167412946244755,
          0.5141690654824373,
          0.3908697728541195,
          0.3195122521742276,
          0.455514161880907,
          0.17664123875680493,
          0.3462690938429873,
          0.0410203814054404,
          0.32557075553689413,
          0.29378902007276475,
          0.22111697837472138,
          0.3934621617215573,
          0.06207556505497097,
          0.4652170058229732,
          0.5602058934220151,
          0.28348130771587704,
          0.5808438833658951,
          0.2313683920991008,
          0.4216612015429683,
          0.32180668966319137,
          0.20256149475233495,
          0.4164088592051408,
          0.16872778997705268,
          0.2429711699123242,
          0.307896544497781,
          0.2686520161022395,
          0.45665608129307506,
          0.3269524535085595,
          0.4989056566021113,
          0.371340095760956,
          0.38875309236481465,
          0.2981787864365727,
          0.37169758225555655,
          0.180935049734516,
          0.41527275398983504,
          0.20679138156593757,
          0.2577405923710282,
          0.2718442402527276,
          0.3456150114478654,
          0.20621475479929413,
          0.17402030965861215,
          0.2601123213620124,
          0.08634692207661798,
          0.3523708867844632,
          0.4070764274947904,
          0.12504697784076546,
          0.11879446048499537,
          0.2010501585995437,
          0.2541833221923242,
          0.13427861088548082,
          0.21904862182228935,
          0.2362418832691099,
          0.5197015519488729,
          0.10334710339645706,
          0.35401502019183195,
          0.22212021134130422,
          0.22864481701503653,
          0.30412922748970195,
          0.4164268091396785,
          0.287036403500039,
          0.25079803999892725,
          0.35574014534354276,
          0.40230759937245747,
          0.33347017787116384,
          0.5356905399039378,
          0.16870569710037045,
          0.30033766614462565,
          0.33536444884961364,
          0.3924308891762375,
          0.3589829685912961,
          0.1967719312163539,
          0.1779172006281005,
          0.4318270346493284,
          0.2820452086406025,
          0.4104613690716786,
          0.02845967025747749,
          0.3657820850550223,
          0.013649753934765668,
          0.13328728211507404,
          0.4362938774871571,
          0.4750533619645332,
          0.2783820068024608,
          0.24000924182993444,
          0.4331834511354176,
          0.3008648908361606,
          0.34067719615751135,
          0.48104215364029435,
          0.33643306770057174,
          0.3253647314603746,
          0.38982629188581935,
          0.561524066670725,
          0.3276742929675327,
          0.29868664873919865,
          0.2640000503591846,
          0.3258348266505465,
          0.216228073822537,
          0.4446551892363236,
          0.18355843777241634,
          0.3554335457736453,
          0.4194757959184634,
          0.23647024069036382,
          0.3214228257631563,
          0.2233554233254498,
          0.17955200917182154,
          0.35625494053559015,
          0.21619280931041046,
          0.3280155352431168,
          0.3592572471270845,
          0.49899833293744467,
          0.09192559410835915,
          0.4036169815080283,
          0.1667982823187169,
          0.33171774230038936,
          0.3261177072371571,
          0.29155677000450014,
          0.1655381487599463,
          0.5939417502610952,
          0.15585989400112155,
          0.24267205126514765,
          0.14875366621333225,
          0.34689052436645423,
          0.4450587907645029,
          0.48186764009329897,
          0.5013649490594967,
          0.19668440830630846,
          0.487924662739178,
          0.3720646349992636,
          0.18012220674959808,
          0.20326695923819454,
          0.28734295716095015,
          0.4424493472087624,
          0.23130096586283416,
          0.3922434381026183,
          0.09464558693784939,
          0.4656218689170736,
          0.5167831535737595,
          0.12650544428453686,
          0.33277599644480893,
          0.3136580529136569,
          0.3424045529722425,
          0.4277390821477314,
          0.24815976031959586,
          0.5832122796537187,
          0.2009828816874925,
          0.29799252071207744,
          0.35195026266428964,
          0.007561527214353478,
          0.3226739994716022,
          0.28317615266842244,
          0.32972313014042093,
          0.4655805000364368,
          0.14102018262692737,
          0.26280022983612905,
          0.44760322991327606,
          0.177861911360949,
          0.4778548240600507,
          0.4522279479949934,
          0.2489310741904651,
          0.635262568942856,
          0.5211336958567321,
          0.37517981103115666,
          0.2501283034941247,
          0.3447349427189223,
          0.4400246820089345,
          0.7387335757525091,
          0.1537589846639993,
          0.5806547932250239,
          0.32889952086062724,
          0.3209665686527192,
          0.47868970436219793,
          0.4213085909172168,
          0.22649752484908886,
          0.3075141773739511,
          -0.07713295799967015,
          0.3048816818408333,
          0.4736440810535025,
          0.23773526316258867,
          0.6820351807537743,
          0.23943377852021044,
          0.17232297421051593,
          0.3055515545056401,
          0.31503065273929237,
          0.295395076232299,
          0.41828221510126035,
          -0.008504549193166427,
          0.12746387874824844,
          0.2964267562706478,
          0.678466500949331,
          0.34004593121453464,
          0.5668212712068111,
          0.25123236266230164,
          0.24245619704666208,
          0.04207968157538475,
          0.24098201589912618,
          0.09560682429955945,
          0.3051117194017492,
          0.19608632668598144,
          0.2803484373328748,
          0.28038408550899385,
          0.16613027703558392,
          0.47799840807218585,
          0.3085753479680127,
          0.406245140727042,
          0.1465788152836623,
          0.1939718866515764,
          0.336162249244665,
          0.32227913390573687,
          0.2930401915751505,
          0.23391570382653057,
          0.20485442331334036,
          0.5144708828589939,
          0.14674422271618354,
          0.31736945382561843,
          0.6257213277517855,
          0.18270575577027676,
          -0.1819857871678953,
          0.0005461220770771463,
          0.2968813888082642,
          0.33989942160222975,
          0.43899814139749094,
          0.45902927765187823,
          0.35177103707238094,
          0.2742799825902565,
          0.14774608793363325,
          0.2753520702221721,
          0.4951738280419072,
          0.2302877729002614,
          0.4360279546079021,
          0.2199874560396338,
          0.33204497883754047,
          0.626222703747703,
          0.39079415870222006,
          0.14102719025512422,
          0.4488624266328092,
          -0.09851602821833946,
          0.3727586867095105,
          0.4787492815931361,
          0.24780644801641016,
          0.29946320902951457,
          0.4041712180839725,
          0.22897728761290978,
          0.6492673295173855,
          0.31868841686694016,
          0.3779002363664956,
          0.3532854017532008,
          0.05150474634750678,
          0.2676846524744224,
          0.45494298008773,
          0.2892403138701986,
          -0.08718422512114526,
          0.4233435724639923,
          0.26137496513104197,
          0.20581643227723703,
          0.2864590199695025,
          0.34512872600344136,
          0.3126714333470663,
          0.21312136410976923,
          -0.04751962531079698,
          0.272593198827379,
          0.5584495223898742,
          0.5401668789286067,
          0.26957815087763043,
          0.2942878413922152,
          0.22163552342303572,
          0.5473221765253161,
          0.3556103086568475,
          0.3132670199240316,
          0.30418490216840505,
          -0.04929147278749287,
          0.4507564753433567,
          0.30033774256165274,
          0.41464080892784816,
          0.09206710226753947,
          0.15351014946995234,
          0.12896010137021444,
          0.454118639022255,
          0.4223785380111512,
          0.48118569887390145,
          0.4277745650541853,
          0.5043460643337083,
          0.14608876140322588,
          0.1538807576566014,
          0.3615662037503958,
          0.28736140060613385,
          0.5527024693907495,
          0.520201449401511,
          0.20159124001798384,
          0.22754986764134955,
          0.24457081058277932,
          0.5516102183748502,
          0.21090718802837716,
          0.3808207554158454,
          0.2613247628715837,
          0.45611273293964816,
          0.36564214331698935,
          0.31548939459783437,
          0.30417495363980673,
          0.5621568629035019,
          0.30207483602671115,
          0.45101005706701114,
          0.17027482565917776,
          0.28118902586865535,
          0.32267481296776956,
          0.19917161852788096,
          0.170406086858078,
          0.4698167762068438,
          0.5281209667782588,
          0.4095476433535942,
          0.10011831944923764,
          0.36864427698485214,
          0.27338754841078744,
          0.4029114179756272,
          -0.037189088353616104,
          0.1506842004885073,
          0.3501942425536736,
          0.2704803312836645,
          0.355407547313693,
          0.02806560087840683,
          0.33721330234700775,
          0.3493943052733178,
          0.34138116096994037,
          0.05833084705899924,
          0.32783505695852416,
          0.4012939211941128,
          0.3871887109895335,
          0.36475747905993894,
          -0.357366988055972,
          0.1776807058796673,
          0.24382530676109065,
          0.38518239510565017,
          -0.10689844018153549,
          0.16450671291918437,
          0.25723023731387484,
          0.25029768396091645,
          0.3678189011281153,
          0.20192981905451338,
          0.4691081049726846,
          0.29887136737739894,
          0.30012924688113957,
          0.37593075319000235,
          0.18309998851530432,
          0.25245038261129854,
          0.1557543664026662,
          0.18139558775343137,
          0.26803930052684183,
          0.564393541709358,
          0.20741268673294505,
          0.31590237647432445,
          0.2826473222229765,
          0.5573310699431671,
          0.08302121454838796,
          0.25592808046785753,
          -0.11025266236262493,
          0.4982233291070657,
          0.4676223034074919,
          0.3855177139579449,
          0.17820673268445925,
          0.25044292690955894,
          0.003528100891825467,
          0.0830248513625868,
          0.46729083000231203,
          0.13669820988922898,
          0.12470431342548441,
          0.26896792527495655,
          0.03438162737898873,
          -0.00928516571647886,
          0.3164011967677129,
          0.5956523969086565,
          0.33191293905533553,
          0.49274782270008705,
          0.2022400116405172,
          0.6838932673315431,
          0.20460076684512712,
          0.47698355809827264,
          0.25147714555699946,
          0.1283590251728806,
          0.4349972181154486,
          0.27638397294541484,
          0.05656960976087044,
          0.5166472625855383,
          0.35663409456077433,
          0.5135162353589819,
          -0.06312692788291617,
          0.47565348931240153,
          0.218554402085829,
          0.6126310957430853,
          -0.07927412201904947,
          0.5215014242581002,
          0.41768251481860674,
          0.26032294389752836,
          0.20835036686240735,
          0.2788698196033431,
          0.341105242856514,
          0.1978461061765292,
          0.5581692199820604,
          0.3416357647066047,
          0.5340947576273183,
          -0.0611603577418974,
          0.2274474945548732,
          0.37941736747695237,
          0.5122784489184974,
          0.3574691567001103,
          0.33709760338074685,
          0.36952184797944243,
          0.2876857645988638,
          0.2970406290554893,
          0.35253443825417785,
          0.09229264725884229,
          -0.006787100818560876,
          0.5718527640722807,
          0.1683115229818663,
          -0.017171912776561535,
          0.37183084269274186,
          0.2811811966927148,
          0.568133760374983,
          0.2418401408927205,
          0.33599629077235027,
          0.21914614462168908,
          0.27430288837642663,
          0.07016366105568832,
          0.31025459369583275,
          0.3007273204695964,
          0.3977642645925872,
          0.2840639556160254,
          0.03252484085422751,
          0.08026069225412281,
          0.41280381289455215,
          0.47215044372472054,
          0.5034775957518322,
          0.2745354119587378,
          -0.042648394823686986,
          0.35570543001430693,
          0.04870818983436856,
          0.27392245641751567,
          0.4394850572817359,
          0.40050816393838296,
          0.192350147694259,
          0.2919887068626509,
          0.1805134693094755,
          0.30409967273698973,
          0.24739442932732425,
          0.09374802027015958,
          0.23769753143746572,
          0.28635509045329594,
          0.331765136180632,
          0.10697972560910284,
          0.19345138225097608,
          0.15474876555065775,
          0.1293510168065003,
          0.2328571811713258,
          0.46169573654218565,
          0.2716027345552628,
          0.27984884577784785,
          0.20453624621693098,
          0.3127244240411873,
          0.38889914650243707,
          -0.019615179736352864,
          0.38596282996503617,
          0.1676812020899471,
          0.5726229502459499,
          0.22019719502548607,
          0.5241098327969109,
          0.06678107360137821,
          0.3596855469360486,
          0.47621610663383795,
          0.40448447861979797,
          0.27161894407498693,
          0.3909219192649581,
          0.16097610032272758,
          0.14083107147257806,
          0.35650654021087236,
          0.05580784853833479,
          0.2312510005508013,
          0.38859769850793296,
          0.10515791363686774,
          0.46619690517345347,
          0.32802055005329267,
          0.2981992775541599,
          0.6112767508239696,
          0.23239455407048748,
          0.20474055586810724,
          0.2876707940629446,
          0.6035820916427402,
          0.3798949385448873,
          0.047340589694209595,
          0.09508365167552912,
          0.2934458455151613,
          0.16525772162702618,
          0.13551135008701587,
          0.14796575432558468,
          0.194151034539206,
          0.2151936427197214,
          0.6367253202520488,
          0.18923321801182802,
          0.546452634999372,
          0.36204081340299865,
          0.3654513892785765,
          0.4624380715927596,
          0.32876908173036634,
          0.33552085420202377,
          0.3007646329156089,
          0.02903233489496984,
          0.2172890689511988,
          0.5709620658722774,
          0.2161586558685325,
          0.38534481737730786,
          0.2581873586961247,
          0.18593308535811265,
          0.4026341820980196,
          0.2775563953512866,
          0.43249360189706093,
          0.3765160384210261,
          0.05292693504811928,
          0.3360936657528632,
          0.26399402217452794,
          0.3820368079663552,
          0.2272853718316278,
          0.1839487333797573,
          0.1587092804964468,
          0.5215339912451438,
          0.3384512025264773,
          0.3074603684539492,
          0.36122308789377167,
          0.4523744054614469,
          0.44529241074453657,
          0.32496979308882923,
          0.2797848384283381,
          0.3227534496469186,
          0.26518066606173124,
          0.12509203735268654,
          0.5941361187786334,
          0.5280915168966253,
          0.19413099220077312,
          0.46956690060820705,
          0.36073624035375657,
          0.029683830041106807,
          0.14342309949425333,
          0.41870589844286643,
          0.2921934493527085,
          0.21514778365349113,
          0.4421520011575938,
          0.2652641338496581,
          0.28116356793761577,
          0.3844419174060952,
          0.22691871952012965,
          0.0765078744894972,
          -0.06045785725243431,
          0.16962195556159207,
          0.20215308915807717,
          0.24563095062599521,
          0.2943872830152992,
          0.13401521193943797,
          0.21741937016713256,
          0.6873075491329266,
          0.1361171766337223,
          0.17802908376043852,
          0.4582263273997178,
          0.28426095318693645,
          0.16375568605474566,
          0.2153827737260216,
          0.2920959437406383,
          0.42830900500815544,
          0.2561259245326297,
          0.5775881609175781,
          0.3324544150388087,
          0.3956899905046604,
          0.22520779159787377,
          0.056579928312401065,
          0.22685182072642246,
          0.2996414986069258,
          0.22433408948391015,
          0.4049462236159696,
          0.1617834037000612,
          0.33993807439579166,
          0.37019588677517895,
          0.2737593644042187,
          0.2943291955062506,
          0.39357029984889197,
          0.5286032655696816,
          0.37366042288796475,
          0.330147429502671,
          0.1253522433714521,
          0.3408116990606471,
          0.13713591946354425,
          0.4108703909679907,
          0.26126739524320786,
          0.44362631204448744,
          0.41089646488419773,
          0.34708916580361643,
          0.3381488790605884,
          0.3321969117224268,
          0.4233424055309443,
          0.331733438358406,
          0.3145365562703725,
          0.2499414085779322,
          0.21007445351701245,
          0.5086344476394397,
          0.1751820905326811,
          0.21752874789723434,
          0.20013406648819568,
          0.35169224421123463,
          0.24568075339069723,
          0.316864823049459,
          0.019486384244013753,
          0.26701919010054154,
          0.46422464723185414,
          -0.11271308159593064,
          0.4401747314438961,
          0.39907516433256973,
          0.37349297012683935,
          0.2640443667175375,
          0.49381626827586234,
          0.4606186973124951,
          0.4821746654962459,
          0.027649227145541022,
          0.25553199694883166,
          0.2561228006498274,
          0.3203188438952076,
          0.3597365870067836,
          0.5418811647857362,
          0.19513631402304893,
          0.42658409255202207,
          0.09823657459696226,
          0.16717433485229116,
          0.4356725558980236,
          0.5802613816685374,
          0.34298434079682666,
          0.4359133230589157,
          0.4168138724842934,
          0.2729247518904132,
          0.22059403445519,
          0.379003565082127,
          0.22962774736390004,
          0.381280974628122,
          0.18263164773387672,
          0.38316482242583255,
          0.0666271947851064,
          0.28004708260113986,
          0.1458974796929628,
          0.45210567942444174,
          0.3350401687767478,
          0.3757868335866832,
          0.4674128469323487,
          0.05930487581303992,
          0.447960182096679,
          0.2836039546940295,
          0.17216035450342804,
          0.25600857048908165,
          0.3338600780839539,
          0.2840195658072704,
          0.20898090954406873,
          0.50823704339647,
          0.12196866055662026,
          0.2957822604982553,
          0.20951540640452487,
          0.22134620586353074,
          0.4031536971900276,
          0.3225325646709042,
          0.19968838190837315,
          0.29445274198297233,
          0.4270084090746522,
          0.2369194786668387,
          0.42100450558268765,
          0.417977129977231,
          0.3132046329851728,
          0.3020376063142325,
          0.21548061925621437,
          0.3847937476054011,
          0.2563678612987332,
          0.5830953155358181,
          0.2803337175420785,
          0.13969717625842026,
          0.2497506957952848,
          0.303329907296643,
          0.35715543939060884,
          0.34640036791255546,
          0.2591310706609951,
          0.2781919259155733,
          0.2839015863348948,
          0.23051528746864047,
          0.2620287275040658,
          0.3884551796145238,
          0.4195988558388764,
          0.3958315206846799,
          0.07313134221460366,
          0.4618819973363196,
          0.21021044547647,
          0.13908273230662263
         ]
        }
       ],
       "layout": {
        "legend": {
         "tracegroupgap": 0
        },
        "margin": {
         "t": 60
        },
        "scene": {
         "domain": {
          "x": [
           0,
           1
          ],
          "y": [
           0,
           1
          ]
         },
         "xaxis": {
          "title": {
           "text": "age"
          }
         },
         "yaxis": {
          "title": {
           "text": "smoke"
          }
         },
         "zaxis": {
          "title": {
           "text": "cancer"
          }
         }
        },
        "template": {
         "data": {
          "bar": [
           {
            "error_x": {
             "color": "#2a3f5f"
            },
            "error_y": {
             "color": "#2a3f5f"
            },
            "marker": {
             "line": {
              "color": "#E5ECF6",
              "width": 0.5
             },
             "pattern": {
              "fillmode": "overlay",
              "size": 10,
              "solidity": 0.2
             }
            },
            "type": "bar"
           }
          ],
          "barpolar": [
           {
            "marker": {
             "line": {
              "color": "#E5ECF6",
              "width": 0.5
             },
             "pattern": {
              "fillmode": "overlay",
              "size": 10,
              "solidity": 0.2
             }
            },
            "type": "barpolar"
           }
          ],
          "carpet": [
           {
            "aaxis": {
             "endlinecolor": "#2a3f5f",
             "gridcolor": "white",
             "linecolor": "white",
             "minorgridcolor": "white",
             "startlinecolor": "#2a3f5f"
            },
            "baxis": {
             "endlinecolor": "#2a3f5f",
             "gridcolor": "white",
             "linecolor": "white",
             "minorgridcolor": "white",
             "startlinecolor": "#2a3f5f"
            },
            "type": "carpet"
           }
          ],
          "choropleth": [
           {
            "colorbar": {
             "outlinewidth": 0,
             "ticks": ""
            },
            "type": "choropleth"
           }
          ],
          "contour": [
           {
            "colorbar": {
             "outlinewidth": 0,
             "ticks": ""
            },
            "colorscale": [
             [
              0,
              "#0d0887"
             ],
             [
              0.1111111111111111,
              "#46039f"
             ],
             [
              0.2222222222222222,
              "#7201a8"
             ],
             [
              0.3333333333333333,
              "#9c179e"
             ],
             [
              0.4444444444444444,
              "#bd3786"
             ],
             [
              0.5555555555555556,
              "#d8576b"
             ],
             [
              0.6666666666666666,
              "#ed7953"
             ],
             [
              0.7777777777777778,
              "#fb9f3a"
             ],
             [
              0.8888888888888888,
              "#fdca26"
             ],
             [
              1,
              "#f0f921"
             ]
            ],
            "type": "contour"
           }
          ],
          "contourcarpet": [
           {
            "colorbar": {
             "outlinewidth": 0,
             "ticks": ""
            },
            "type": "contourcarpet"
           }
          ],
          "heatmap": [
           {
            "colorbar": {
             "outlinewidth": 0,
             "ticks": ""
            },
            "colorscale": [
             [
              0,
              "#0d0887"
             ],
             [
              0.1111111111111111,
              "#46039f"
             ],
             [
              0.2222222222222222,
              "#7201a8"
             ],
             [
              0.3333333333333333,
              "#9c179e"
             ],
             [
              0.4444444444444444,
              "#bd3786"
             ],
             [
              0.5555555555555556,
              "#d8576b"
             ],
             [
              0.6666666666666666,
              "#ed7953"
             ],
             [
              0.7777777777777778,
              "#fb9f3a"
             ],
             [
              0.8888888888888888,
              "#fdca26"
             ],
             [
              1,
              "#f0f921"
             ]
            ],
            "type": "heatmap"
           }
          ],
          "heatmapgl": [
           {
            "colorbar": {
             "outlinewidth": 0,
             "ticks": ""
            },
            "colorscale": [
             [
              0,
              "#0d0887"
             ],
             [
              0.1111111111111111,
              "#46039f"
             ],
             [
              0.2222222222222222,
              "#7201a8"
             ],
             [
              0.3333333333333333,
              "#9c179e"
             ],
             [
              0.4444444444444444,
              "#bd3786"
             ],
             [
              0.5555555555555556,
              "#d8576b"
             ],
             [
              0.6666666666666666,
              "#ed7953"
             ],
             [
              0.7777777777777778,
              "#fb9f3a"
             ],
             [
              0.8888888888888888,
              "#fdca26"
             ],
             [
              1,
              "#f0f921"
             ]
            ],
            "type": "heatmapgl"
           }
          ],
          "histogram": [
           {
            "marker": {
             "pattern": {
              "fillmode": "overlay",
              "size": 10,
              "solidity": 0.2
             }
            },
            "type": "histogram"
           }
          ],
          "histogram2d": [
           {
            "colorbar": {
             "outlinewidth": 0,
             "ticks": ""
            },
            "colorscale": [
             [
              0,
              "#0d0887"
             ],
             [
              0.1111111111111111,
              "#46039f"
             ],
             [
              0.2222222222222222,
              "#7201a8"
             ],
             [
              0.3333333333333333,
              "#9c179e"
             ],
             [
              0.4444444444444444,
              "#bd3786"
             ],
             [
              0.5555555555555556,
              "#d8576b"
             ],
             [
              0.6666666666666666,
              "#ed7953"
             ],
             [
              0.7777777777777778,
              "#fb9f3a"
             ],
             [
              0.8888888888888888,
              "#fdca26"
             ],
             [
              1,
              "#f0f921"
             ]
            ],
            "type": "histogram2d"
           }
          ],
          "histogram2dcontour": [
           {
            "colorbar": {
             "outlinewidth": 0,
             "ticks": ""
            },
            "colorscale": [
             [
              0,
              "#0d0887"
             ],
             [
              0.1111111111111111,
              "#46039f"
             ],
             [
              0.2222222222222222,
              "#7201a8"
             ],
             [
              0.3333333333333333,
              "#9c179e"
             ],
             [
              0.4444444444444444,
              "#bd3786"
             ],
             [
              0.5555555555555556,
              "#d8576b"
             ],
             [
              0.6666666666666666,
              "#ed7953"
             ],
             [
              0.7777777777777778,
              "#fb9f3a"
             ],
             [
              0.8888888888888888,
              "#fdca26"
             ],
             [
              1,
              "#f0f921"
             ]
            ],
            "type": "histogram2dcontour"
           }
          ],
          "mesh3d": [
           {
            "colorbar": {
             "outlinewidth": 0,
             "ticks": ""
            },
            "type": "mesh3d"
           }
          ],
          "parcoords": [
           {
            "line": {
             "colorbar": {
              "outlinewidth": 0,
              "ticks": ""
             }
            },
            "type": "parcoords"
           }
          ],
          "pie": [
           {
            "automargin": true,
            "type": "pie"
           }
          ],
          "scatter": [
           {
            "marker": {
             "colorbar": {
              "outlinewidth": 0,
              "ticks": ""
             }
            },
            "type": "scatter"
           }
          ],
          "scatter3d": [
           {
            "line": {
             "colorbar": {
              "outlinewidth": 0,
              "ticks": ""
             }
            },
            "marker": {
             "colorbar": {
              "outlinewidth": 0,
              "ticks": ""
             }
            },
            "type": "scatter3d"
           }
          ],
          "scattercarpet": [
           {
            "marker": {
             "colorbar": {
              "outlinewidth": 0,
              "ticks": ""
             }
            },
            "type": "scattercarpet"
           }
          ],
          "scattergeo": [
           {
            "marker": {
             "colorbar": {
              "outlinewidth": 0,
              "ticks": ""
             }
            },
            "type": "scattergeo"
           }
          ],
          "scattergl": [
           {
            "marker": {
             "colorbar": {
              "outlinewidth": 0,
              "ticks": ""
             }
            },
            "type": "scattergl"
           }
          ],
          "scattermapbox": [
           {
            "marker": {
             "colorbar": {
              "outlinewidth": 0,
              "ticks": ""
             }
            },
            "type": "scattermapbox"
           }
          ],
          "scatterpolar": [
           {
            "marker": {
             "colorbar": {
              "outlinewidth": 0,
              "ticks": ""
             }
            },
            "type": "scatterpolar"
           }
          ],
          "scatterpolargl": [
           {
            "marker": {
             "colorbar": {
              "outlinewidth": 0,
              "ticks": ""
             }
            },
            "type": "scatterpolargl"
           }
          ],
          "scatterternary": [
           {
            "marker": {
             "colorbar": {
              "outlinewidth": 0,
              "ticks": ""
             }
            },
            "type": "scatterternary"
           }
          ],
          "surface": [
           {
            "colorbar": {
             "outlinewidth": 0,
             "ticks": ""
            },
            "colorscale": [
             [
              0,
              "#0d0887"
             ],
             [
              0.1111111111111111,
              "#46039f"
             ],
             [
              0.2222222222222222,
              "#7201a8"
             ],
             [
              0.3333333333333333,
              "#9c179e"
             ],
             [
              0.4444444444444444,
              "#bd3786"
             ],
             [
              0.5555555555555556,
              "#d8576b"
             ],
             [
              0.6666666666666666,
              "#ed7953"
             ],
             [
              0.7777777777777778,
              "#fb9f3a"
             ],
             [
              0.8888888888888888,
              "#fdca26"
             ],
             [
              1,
              "#f0f921"
             ]
            ],
            "type": "surface"
           }
          ],
          "table": [
           {
            "cells": {
             "fill": {
              "color": "#EBF0F8"
             },
             "line": {
              "color": "white"
             }
            },
            "header": {
             "fill": {
              "color": "#C8D4E3"
             },
             "line": {
              "color": "white"
             }
            },
            "type": "table"
           }
          ]
         },
         "layout": {
          "annotationdefaults": {
           "arrowcolor": "#2a3f5f",
           "arrowhead": 0,
           "arrowwidth": 1
          },
          "autotypenumbers": "strict",
          "coloraxis": {
           "colorbar": {
            "outlinewidth": 0,
            "ticks": ""
           }
          },
          "colorscale": {
           "diverging": [
            [
             0,
             "#8e0152"
            ],
            [
             0.1,
             "#c51b7d"
            ],
            [
             0.2,
             "#de77ae"
            ],
            [
             0.3,
             "#f1b6da"
            ],
            [
             0.4,
             "#fde0ef"
            ],
            [
             0.5,
             "#f7f7f7"
            ],
            [
             0.6,
             "#e6f5d0"
            ],
            [
             0.7,
             "#b8e186"
            ],
            [
             0.8,
             "#7fbc41"
            ],
            [
             0.9,
             "#4d9221"
            ],
            [
             1,
             "#276419"
            ]
           ],
           "sequential": [
            [
             0,
             "#0d0887"
            ],
            [
             0.1111111111111111,
             "#46039f"
            ],
            [
             0.2222222222222222,
             "#7201a8"
            ],
            [
             0.3333333333333333,
             "#9c179e"
            ],
            [
             0.4444444444444444,
             "#bd3786"
            ],
            [
             0.5555555555555556,
             "#d8576b"
            ],
            [
             0.6666666666666666,
             "#ed7953"
            ],
            [
             0.7777777777777778,
             "#fb9f3a"
            ],
            [
             0.8888888888888888,
             "#fdca26"
            ],
            [
             1,
             "#f0f921"
            ]
           ],
           "sequentialminus": [
            [
             0,
             "#0d0887"
            ],
            [
             0.1111111111111111,
             "#46039f"
            ],
            [
             0.2222222222222222,
             "#7201a8"
            ],
            [
             0.3333333333333333,
             "#9c179e"
            ],
            [
             0.4444444444444444,
             "#bd3786"
            ],
            [
             0.5555555555555556,
             "#d8576b"
            ],
            [
             0.6666666666666666,
             "#ed7953"
            ],
            [
             0.7777777777777778,
             "#fb9f3a"
            ],
            [
             0.8888888888888888,
             "#fdca26"
            ],
            [
             1,
             "#f0f921"
            ]
           ]
          },
          "colorway": [
           "#636efa",
           "#EF553B",
           "#00cc96",
           "#ab63fa",
           "#FFA15A",
           "#19d3f3",
           "#FF6692",
           "#B6E880",
           "#FF97FF",
           "#FECB52"
          ],
          "font": {
           "color": "#2a3f5f"
          },
          "geo": {
           "bgcolor": "white",
           "lakecolor": "white",
           "landcolor": "#E5ECF6",
           "showlakes": true,
           "showland": true,
           "subunitcolor": "white"
          },
          "hoverlabel": {
           "align": "left"
          },
          "hovermode": "closest",
          "mapbox": {
           "style": "light"
          },
          "paper_bgcolor": "white",
          "plot_bgcolor": "#E5ECF6",
          "polar": {
           "angularaxis": {
            "gridcolor": "white",
            "linecolor": "white",
            "ticks": ""
           },
           "bgcolor": "#E5ECF6",
           "radialaxis": {
            "gridcolor": "white",
            "linecolor": "white",
            "ticks": ""
           }
          },
          "scene": {
           "xaxis": {
            "backgroundcolor": "#E5ECF6",
            "gridcolor": "white",
            "gridwidth": 2,
            "linecolor": "white",
            "showbackground": true,
            "ticks": "",
            "zerolinecolor": "white"
           },
           "yaxis": {
            "backgroundcolor": "#E5ECF6",
            "gridcolor": "white",
            "gridwidth": 2,
            "linecolor": "white",
            "showbackground": true,
            "ticks": "",
            "zerolinecolor": "white"
           },
           "zaxis": {
            "backgroundcolor": "#E5ECF6",
            "gridcolor": "white",
            "gridwidth": 2,
            "linecolor": "white",
            "showbackground": true,
            "ticks": "",
            "zerolinecolor": "white"
           }
          },
          "shapedefaults": {
           "line": {
            "color": "#2a3f5f"
           }
          },
          "ternary": {
           "aaxis": {
            "gridcolor": "white",
            "linecolor": "white",
            "ticks": ""
           },
           "baxis": {
            "gridcolor": "white",
            "linecolor": "white",
            "ticks": ""
           },
           "bgcolor": "#E5ECF6",
           "caxis": {
            "gridcolor": "white",
            "linecolor": "white",
            "ticks": ""
           }
          },
          "title": {
           "x": 0.05
          },
          "xaxis": {
           "automargin": true,
           "gridcolor": "white",
           "linecolor": "white",
           "ticks": "",
           "title": {
            "standoff": 15
           },
           "zerolinecolor": "white",
           "zerolinewidth": 2
          },
          "yaxis": {
           "automargin": true,
           "gridcolor": "white",
           "linecolor": "white",
           "ticks": "",
           "title": {
            "standoff": 15
           },
           "zerolinecolor": "white",
           "zerolinewidth": 2
          }
         }
        }
       }
      }
     },
     "metadata": {},
     "output_type": "display_data"
    }
   ],
   "source": [
    "px.scatter_3d(data, x=\"age\", y=\"smoke\", z=\"cancer\", size_max=0)"
   ]
  },
  {
   "cell_type": "code",
   "execution_count": 158,
   "metadata": {},
   "outputs": [
    {
     "data": {
      "text/plain": [
       "(3, 3)"
      ]
     },
     "execution_count": 158,
     "metadata": {},
     "output_type": "execute_result"
    }
   ],
   "source": [
    "X = np.stack([age, smoke, cancer]).T\n",
    "\n",
    "X = X - X.mean(axis=0)\n",
    "\n",
    "cov = np.dot(X.T, X) / X.shape[0] # get the data covariance matrix\n",
    "\n",
    "cov.shape"
   ]
  },
  {
   "cell_type": "code",
   "execution_count": 159,
   "metadata": {},
   "outputs": [
    {
     "data": {
      "application/vnd.plotly.v1+json": {
       "config": {
        "plotlyServerURL": "https://plot.ly"
       },
       "data": [
        {
         "coloraxis": "coloraxis",
         "hovertemplate": "x: %{x}<br>y: %{y}<br>color: %{z}<extra></extra>",
         "name": "0",
         "type": "heatmap",
         "x": [
          "age",
          "smoke",
          "cancer"
         ],
         "xaxis": "x",
         "y": [
          "age",
          "smoke",
          "cancer"
         ],
         "yaxis": "y",
         "z": [
          [
           0.040063027809912256,
           -0.0011997387662672071,
           -0.0012363157088132485
          ],
          [
           -0.0011997387662672071,
           0.03671129230975217,
           0.021771333940214754
          ],
          [
           -0.0012363157088132485,
           0.021771333940214754,
           0.02253868145746243
          ]
         ]
        }
       ],
       "layout": {
        "coloraxis": {
         "cmid": 0,
         "colorscale": [
          [
           0,
           "rgb(103,0,31)"
          ],
          [
           0.1,
           "rgb(178,24,43)"
          ],
          [
           0.2,
           "rgb(214,96,77)"
          ],
          [
           0.3,
           "rgb(244,165,130)"
          ],
          [
           0.4,
           "rgb(253,219,199)"
          ],
          [
           0.5,
           "rgb(247,247,247)"
          ],
          [
           0.6,
           "rgb(209,229,240)"
          ],
          [
           0.7,
           "rgb(146,197,222)"
          ],
          [
           0.8,
           "rgb(67,147,195)"
          ],
          [
           0.9,
           "rgb(33,102,172)"
          ],
          [
           1,
           "rgb(5,48,97)"
          ]
         ]
        },
        "margin": {
         "t": 60
        },
        "template": {
         "data": {
          "bar": [
           {
            "error_x": {
             "color": "#2a3f5f"
            },
            "error_y": {
             "color": "#2a3f5f"
            },
            "marker": {
             "line": {
              "color": "#E5ECF6",
              "width": 0.5
             },
             "pattern": {
              "fillmode": "overlay",
              "size": 10,
              "solidity": 0.2
             }
            },
            "type": "bar"
           }
          ],
          "barpolar": [
           {
            "marker": {
             "line": {
              "color": "#E5ECF6",
              "width": 0.5
             },
             "pattern": {
              "fillmode": "overlay",
              "size": 10,
              "solidity": 0.2
             }
            },
            "type": "barpolar"
           }
          ],
          "carpet": [
           {
            "aaxis": {
             "endlinecolor": "#2a3f5f",
             "gridcolor": "white",
             "linecolor": "white",
             "minorgridcolor": "white",
             "startlinecolor": "#2a3f5f"
            },
            "baxis": {
             "endlinecolor": "#2a3f5f",
             "gridcolor": "white",
             "linecolor": "white",
             "minorgridcolor": "white",
             "startlinecolor": "#2a3f5f"
            },
            "type": "carpet"
           }
          ],
          "choropleth": [
           {
            "colorbar": {
             "outlinewidth": 0,
             "ticks": ""
            },
            "type": "choropleth"
           }
          ],
          "contour": [
           {
            "colorbar": {
             "outlinewidth": 0,
             "ticks": ""
            },
            "colorscale": [
             [
              0,
              "#0d0887"
             ],
             [
              0.1111111111111111,
              "#46039f"
             ],
             [
              0.2222222222222222,
              "#7201a8"
             ],
             [
              0.3333333333333333,
              "#9c179e"
             ],
             [
              0.4444444444444444,
              "#bd3786"
             ],
             [
              0.5555555555555556,
              "#d8576b"
             ],
             [
              0.6666666666666666,
              "#ed7953"
             ],
             [
              0.7777777777777778,
              "#fb9f3a"
             ],
             [
              0.8888888888888888,
              "#fdca26"
             ],
             [
              1,
              "#f0f921"
             ]
            ],
            "type": "contour"
           }
          ],
          "contourcarpet": [
           {
            "colorbar": {
             "outlinewidth": 0,
             "ticks": ""
            },
            "type": "contourcarpet"
           }
          ],
          "heatmap": [
           {
            "colorbar": {
             "outlinewidth": 0,
             "ticks": ""
            },
            "colorscale": [
             [
              0,
              "#0d0887"
             ],
             [
              0.1111111111111111,
              "#46039f"
             ],
             [
              0.2222222222222222,
              "#7201a8"
             ],
             [
              0.3333333333333333,
              "#9c179e"
             ],
             [
              0.4444444444444444,
              "#bd3786"
             ],
             [
              0.5555555555555556,
              "#d8576b"
             ],
             [
              0.6666666666666666,
              "#ed7953"
             ],
             [
              0.7777777777777778,
              "#fb9f3a"
             ],
             [
              0.8888888888888888,
              "#fdca26"
             ],
             [
              1,
              "#f0f921"
             ]
            ],
            "type": "heatmap"
           }
          ],
          "heatmapgl": [
           {
            "colorbar": {
             "outlinewidth": 0,
             "ticks": ""
            },
            "colorscale": [
             [
              0,
              "#0d0887"
             ],
             [
              0.1111111111111111,
              "#46039f"
             ],
             [
              0.2222222222222222,
              "#7201a8"
             ],
             [
              0.3333333333333333,
              "#9c179e"
             ],
             [
              0.4444444444444444,
              "#bd3786"
             ],
             [
              0.5555555555555556,
              "#d8576b"
             ],
             [
              0.6666666666666666,
              "#ed7953"
             ],
             [
              0.7777777777777778,
              "#fb9f3a"
             ],
             [
              0.8888888888888888,
              "#fdca26"
             ],
             [
              1,
              "#f0f921"
             ]
            ],
            "type": "heatmapgl"
           }
          ],
          "histogram": [
           {
            "marker": {
             "pattern": {
              "fillmode": "overlay",
              "size": 10,
              "solidity": 0.2
             }
            },
            "type": "histogram"
           }
          ],
          "histogram2d": [
           {
            "colorbar": {
             "outlinewidth": 0,
             "ticks": ""
            },
            "colorscale": [
             [
              0,
              "#0d0887"
             ],
             [
              0.1111111111111111,
              "#46039f"
             ],
             [
              0.2222222222222222,
              "#7201a8"
             ],
             [
              0.3333333333333333,
              "#9c179e"
             ],
             [
              0.4444444444444444,
              "#bd3786"
             ],
             [
              0.5555555555555556,
              "#d8576b"
             ],
             [
              0.6666666666666666,
              "#ed7953"
             ],
             [
              0.7777777777777778,
              "#fb9f3a"
             ],
             [
              0.8888888888888888,
              "#fdca26"
             ],
             [
              1,
              "#f0f921"
             ]
            ],
            "type": "histogram2d"
           }
          ],
          "histogram2dcontour": [
           {
            "colorbar": {
             "outlinewidth": 0,
             "ticks": ""
            },
            "colorscale": [
             [
              0,
              "#0d0887"
             ],
             [
              0.1111111111111111,
              "#46039f"
             ],
             [
              0.2222222222222222,
              "#7201a8"
             ],
             [
              0.3333333333333333,
              "#9c179e"
             ],
             [
              0.4444444444444444,
              "#bd3786"
             ],
             [
              0.5555555555555556,
              "#d8576b"
             ],
             [
              0.6666666666666666,
              "#ed7953"
             ],
             [
              0.7777777777777778,
              "#fb9f3a"
             ],
             [
              0.8888888888888888,
              "#fdca26"
             ],
             [
              1,
              "#f0f921"
             ]
            ],
            "type": "histogram2dcontour"
           }
          ],
          "mesh3d": [
           {
            "colorbar": {
             "outlinewidth": 0,
             "ticks": ""
            },
            "type": "mesh3d"
           }
          ],
          "parcoords": [
           {
            "line": {
             "colorbar": {
              "outlinewidth": 0,
              "ticks": ""
             }
            },
            "type": "parcoords"
           }
          ],
          "pie": [
           {
            "automargin": true,
            "type": "pie"
           }
          ],
          "scatter": [
           {
            "marker": {
             "colorbar": {
              "outlinewidth": 0,
              "ticks": ""
             }
            },
            "type": "scatter"
           }
          ],
          "scatter3d": [
           {
            "line": {
             "colorbar": {
              "outlinewidth": 0,
              "ticks": ""
             }
            },
            "marker": {
             "colorbar": {
              "outlinewidth": 0,
              "ticks": ""
             }
            },
            "type": "scatter3d"
           }
          ],
          "scattercarpet": [
           {
            "marker": {
             "colorbar": {
              "outlinewidth": 0,
              "ticks": ""
             }
            },
            "type": "scattercarpet"
           }
          ],
          "scattergeo": [
           {
            "marker": {
             "colorbar": {
              "outlinewidth": 0,
              "ticks": ""
             }
            },
            "type": "scattergeo"
           }
          ],
          "scattergl": [
           {
            "marker": {
             "colorbar": {
              "outlinewidth": 0,
              "ticks": ""
             }
            },
            "type": "scattergl"
           }
          ],
          "scattermapbox": [
           {
            "marker": {
             "colorbar": {
              "outlinewidth": 0,
              "ticks": ""
             }
            },
            "type": "scattermapbox"
           }
          ],
          "scatterpolar": [
           {
            "marker": {
             "colorbar": {
              "outlinewidth": 0,
              "ticks": ""
             }
            },
            "type": "scatterpolar"
           }
          ],
          "scatterpolargl": [
           {
            "marker": {
             "colorbar": {
              "outlinewidth": 0,
              "ticks": ""
             }
            },
            "type": "scatterpolargl"
           }
          ],
          "scatterternary": [
           {
            "marker": {
             "colorbar": {
              "outlinewidth": 0,
              "ticks": ""
             }
            },
            "type": "scatterternary"
           }
          ],
          "surface": [
           {
            "colorbar": {
             "outlinewidth": 0,
             "ticks": ""
            },
            "colorscale": [
             [
              0,
              "#0d0887"
             ],
             [
              0.1111111111111111,
              "#46039f"
             ],
             [
              0.2222222222222222,
              "#7201a8"
             ],
             [
              0.3333333333333333,
              "#9c179e"
             ],
             [
              0.4444444444444444,
              "#bd3786"
             ],
             [
              0.5555555555555556,
              "#d8576b"
             ],
             [
              0.6666666666666666,
              "#ed7953"
             ],
             [
              0.7777777777777778,
              "#fb9f3a"
             ],
             [
              0.8888888888888888,
              "#fdca26"
             ],
             [
              1,
              "#f0f921"
             ]
            ],
            "type": "surface"
           }
          ],
          "table": [
           {
            "cells": {
             "fill": {
              "color": "#EBF0F8"
             },
             "line": {
              "color": "white"
             }
            },
            "header": {
             "fill": {
              "color": "#C8D4E3"
             },
             "line": {
              "color": "white"
             }
            },
            "type": "table"
           }
          ]
         },
         "layout": {
          "annotationdefaults": {
           "arrowcolor": "#2a3f5f",
           "arrowhead": 0,
           "arrowwidth": 1
          },
          "autotypenumbers": "strict",
          "coloraxis": {
           "colorbar": {
            "outlinewidth": 0,
            "ticks": ""
           }
          },
          "colorscale": {
           "diverging": [
            [
             0,
             "#8e0152"
            ],
            [
             0.1,
             "#c51b7d"
            ],
            [
             0.2,
             "#de77ae"
            ],
            [
             0.3,
             "#f1b6da"
            ],
            [
             0.4,
             "#fde0ef"
            ],
            [
             0.5,
             "#f7f7f7"
            ],
            [
             0.6,
             "#e6f5d0"
            ],
            [
             0.7,
             "#b8e186"
            ],
            [
             0.8,
             "#7fbc41"
            ],
            [
             0.9,
             "#4d9221"
            ],
            [
             1,
             "#276419"
            ]
           ],
           "sequential": [
            [
             0,
             "#0d0887"
            ],
            [
             0.1111111111111111,
             "#46039f"
            ],
            [
             0.2222222222222222,
             "#7201a8"
            ],
            [
             0.3333333333333333,
             "#9c179e"
            ],
            [
             0.4444444444444444,
             "#bd3786"
            ],
            [
             0.5555555555555556,
             "#d8576b"
            ],
            [
             0.6666666666666666,
             "#ed7953"
            ],
            [
             0.7777777777777778,
             "#fb9f3a"
            ],
            [
             0.8888888888888888,
             "#fdca26"
            ],
            [
             1,
             "#f0f921"
            ]
           ],
           "sequentialminus": [
            [
             0,
             "#0d0887"
            ],
            [
             0.1111111111111111,
             "#46039f"
            ],
            [
             0.2222222222222222,
             "#7201a8"
            ],
            [
             0.3333333333333333,
             "#9c179e"
            ],
            [
             0.4444444444444444,
             "#bd3786"
            ],
            [
             0.5555555555555556,
             "#d8576b"
            ],
            [
             0.6666666666666666,
             "#ed7953"
            ],
            [
             0.7777777777777778,
             "#fb9f3a"
            ],
            [
             0.8888888888888888,
             "#fdca26"
            ],
            [
             1,
             "#f0f921"
            ]
           ]
          },
          "colorway": [
           "#636efa",
           "#EF553B",
           "#00cc96",
           "#ab63fa",
           "#FFA15A",
           "#19d3f3",
           "#FF6692",
           "#B6E880",
           "#FF97FF",
           "#FECB52"
          ],
          "font": {
           "color": "#2a3f5f"
          },
          "geo": {
           "bgcolor": "white",
           "lakecolor": "white",
           "landcolor": "#E5ECF6",
           "showlakes": true,
           "showland": true,
           "subunitcolor": "white"
          },
          "hoverlabel": {
           "align": "left"
          },
          "hovermode": "closest",
          "mapbox": {
           "style": "light"
          },
          "paper_bgcolor": "white",
          "plot_bgcolor": "#E5ECF6",
          "polar": {
           "angularaxis": {
            "gridcolor": "white",
            "linecolor": "white",
            "ticks": ""
           },
           "bgcolor": "#E5ECF6",
           "radialaxis": {
            "gridcolor": "white",
            "linecolor": "white",
            "ticks": ""
           }
          },
          "scene": {
           "xaxis": {
            "backgroundcolor": "#E5ECF6",
            "gridcolor": "white",
            "gridwidth": 2,
            "linecolor": "white",
            "showbackground": true,
            "ticks": "",
            "zerolinecolor": "white"
           },
           "yaxis": {
            "backgroundcolor": "#E5ECF6",
            "gridcolor": "white",
            "gridwidth": 2,
            "linecolor": "white",
            "showbackground": true,
            "ticks": "",
            "zerolinecolor": "white"
           },
           "zaxis": {
            "backgroundcolor": "#E5ECF6",
            "gridcolor": "white",
            "gridwidth": 2,
            "linecolor": "white",
            "showbackground": true,
            "ticks": "",
            "zerolinecolor": "white"
           }
          },
          "shapedefaults": {
           "line": {
            "color": "#2a3f5f"
           }
          },
          "ternary": {
           "aaxis": {
            "gridcolor": "white",
            "linecolor": "white",
            "ticks": ""
           },
           "baxis": {
            "gridcolor": "white",
            "linecolor": "white",
            "ticks": ""
           },
           "bgcolor": "#E5ECF6",
           "caxis": {
            "gridcolor": "white",
            "linecolor": "white",
            "ticks": ""
           }
          },
          "title": {
           "x": 0.05
          },
          "xaxis": {
           "automargin": true,
           "gridcolor": "white",
           "linecolor": "white",
           "ticks": "",
           "title": {
            "standoff": 15
           },
           "zerolinecolor": "white",
           "zerolinewidth": 2
          },
          "yaxis": {
           "automargin": true,
           "gridcolor": "white",
           "linecolor": "white",
           "ticks": "",
           "title": {
            "standoff": 15
           },
           "zerolinecolor": "white",
           "zerolinewidth": 2
          }
         }
        },
        "xaxis": {
         "anchor": "y",
         "constrain": "domain",
         "domain": [
          0,
          1
         ],
         "scaleanchor": "y"
        },
        "yaxis": {
         "anchor": "x",
         "autorange": "reversed",
         "constrain": "domain",
         "domain": [
          0,
          1
         ]
        }
       }
      }
     },
     "metadata": {},
     "output_type": "display_data"
    }
   ],
   "source": [
    "px.imshow(cov, color_continuous_scale='RdBu', color_continuous_midpoint=0, x = ['age', 'smoke', 'cancer'], y = ['age', 'smoke', 'cancer'])"
   ]
  },
  {
   "cell_type": "code",
   "execution_count": 161,
   "metadata": {},
   "outputs": [],
   "source": [
    "num_eigenvectors = 3\n",
    "U,S,V = np.linalg.svd(cov)\n",
    "\n",
    "U_reduced = U[:,:num_eigenvectors].T # get the first 5 eigenvectors"
   ]
  },
  {
   "cell_type": "code",
   "execution_count": 162,
   "metadata": {},
   "outputs": [
    {
     "data": {
      "text/plain": [
       "array([[ 0.13263883, -0.80151787, -0.58307465],\n",
       "       [ 0.99112467,  0.11252567,  0.07078045],\n",
       "       [ 0.00887907, -0.5872879 ,  0.8093294 ]])"
      ]
     },
     "execution_count": 162,
     "metadata": {},
     "output_type": "execute_result"
    }
   ],
   "source": [
    "U_reduced"
   ]
  },
  {
   "cell_type": "code",
   "execution_count": 163,
   "metadata": {},
   "outputs": [
    {
     "data": {
      "text/plain": [
       "array([0.05274767, 0.03983853, 0.0067268 ])"
      ]
     },
     "execution_count": 163,
     "metadata": {},
     "output_type": "execute_result"
    }
   ],
   "source": [
    "S"
   ]
  },
  {
   "cell_type": "code",
   "execution_count": 191,
   "metadata": {},
   "outputs": [
    {
     "data": {
      "application/vnd.plotly.v1+json": {
       "config": {
        "plotlyServerURL": "https://plot.ly"
       },
       "data": [
        {
         "marker": {
          "color": [
           0.03356697083095786,
           0.25007204382083664,
           0.49747353123895427,
           0.2667742187034601,
           0.20610392620460502,
           0.03352686794768403,
           0.32207364908653807,
           0.20438221507035464,
           0.04261892121072677,
           0.17385164171770312,
           0.30674257266724814,
           0.4877749015650532,
           0.1994328030706375,
           0.38211528261744804,
           0.32167425645234665,
           0.3524696247464337,
           0.48499703989869314,
           0.2687319670644985,
           0.42471532522504135,
           0.4394013331147162,
           0.4157077804856011,
           0.2679116963394872,
           0.32332598800305923,
           0.2797040099809644,
           0.37465945688945396,
           0.5183449934477949,
           0.4575705900741995,
           0.27048258941211956,
           0.23387939645505823,
           0.408033169240407,
           0.4776643305022711,
           0.3331282074982975,
           0.25583769961026925,
           0.21643304796509305,
           0.2572447973726738,
           0.4097686527113321,
           0.2861538030036651,
           0.17048456358073238,
           0.1942499535422693,
           0.43989494582488414,
           0.24520715185053,
           0.27307552977001237,
           -0.09629299494283602,
           0.08528519877308721,
           0.09642360122658963,
           0.35589213703003236,
           0.20050995109893202,
           0.21192702696816695,
           0.3706833863146402,
           0.36586713852964187,
           0.13997401259515121,
           0.2315514190275568,
           0.35614127824004316,
           0.5262025566594912,
           0.5411680834074574,
           0.047884633834003876,
           0.34710038342403965,
           0.22951497748497213,
           0.048071688269435156,
           0.30585180987180277,
           0.6138017917505549,
           0.31873085256673894,
           0.5387118583932466,
           0.34277062610121095,
           0.3313249052487246,
           0.31306496370855036,
           0.3099201971141498,
           0.22755824112372633,
           0.6617334720678947,
           0.28015707683318,
           0.49115447283749025,
           0.29855812192819164,
           0.6031390292818923,
           0.6441677036204344,
           0.24223380606936723,
           0.030191852184096184,
           0.31766872351908115,
           0.23446140607233384,
           0.3548413532795484,
           0.44779155434481893,
           0.2498665780169169,
           0.20229021649837176,
           0.37050848830843147,
           0.23637458345140216,
           -0.16363580775878708,
           0.34128483522311176,
           0.49175679730576616,
           0.33583258506969854,
           0.41839057333441454,
           0.32657789902679657,
           0.22951840452706262,
           0.5045481851723086,
           0.45784855652376355,
           0.18756273201269108,
           0.18975071955012612,
           0.2704430939419688,
           0.3024087092442878,
           0.3754848301100421,
           0.5388249565900894,
           0.4704834850067846,
           0.1656382276502763,
           0.48448235429866704,
           0.35815050607202814,
           0.3876091846743542,
           0.4828076545434521,
           0.3681312225516417,
           0.3444832594070154,
           0.09215355216175825,
           0.5625819932560606,
           0.19652280960355276,
           0.3545366194482629,
           0.3460412127926573,
           0.42717163986998347,
           0.11186178576943996,
           0.23780390153563402,
           0.3124836122696563,
           0.17219612015332025,
           0.6032372289706526,
           0.1507636323585551,
           0.3953167065270051,
           0.5133601560281105,
           0.4103045945329632,
           0.19586303917614195,
           0.2049959715354896,
           0.4063057293358978,
           0.3976566770964429,
           0.3405481560338983,
           0.37127008210007234,
           0.24281673900944062,
           0.3860793977384236,
           0.25468512007859895,
           0.2482023602661635,
           0.4949046014503386,
           0.34425316409547446,
           0.3112310774396418,
           0.3163873236683609,
           0.35948949307524497,
           0.2835316361178573,
           0.3031862975583971,
           0.2739848141370148,
           0.5313884611135151,
           0.5538664823547716,
           -0.09224611296992286,
           0.21318618464487296,
           0.41305978511081937,
           0.34030323696979636,
           0.3533728330184246,
           0.2932105297992954,
           0.30029729001672045,
           0.19221360432094942,
           0.5108682167077747,
           0.6495887327135482,
           0.5103517288188246,
           0.38507347942945697,
           0.19794057524383837,
           0.1584147239393174,
           0.3713953265322431,
           0.32278468553468864,
           0.21851691868500017,
           0.38614454013000105,
           0.23000574113724637,
           0.349166851979115,
           0.22195404394927265,
           0.3353362558501793,
           0.05688258814622031,
           0.38756553896656804,
           0.6272452576138194,
           0.5096555570420815,
           0.2792478445840407,
           0.3558203732469243,
           0.42306783389029,
           0.15964697479861806,
           0.22919459785298266,
           0.08623209737419338,
           0.17633826675576075,
           0.502394614806341,
           0.15569536392172187,
           0.21634444848638623,
           0.22264525875932958,
           0.36707702849188717,
           0.24480847084330148,
           0.25153604388407624,
           0.21824879161497193,
           0.03142241431044511,
           0.19785061639670698,
           0.09551532954799485,
           0.15644852614162572,
           0.2949684981149827,
           0.4544346821341697,
           0.2322866542551672,
           0.42531162246859044,
           0.48312784592928854,
           0.5421263586164743,
           0.5313648185170681,
           0.33022941215784496,
           0.5130213794151266,
           0.18274229316112772,
           0.30887614192758184,
           0.18499500339398606,
           0.13642324361408445,
           0.4723743349810053,
           0.3508563857894521,
           0.3554938101353152,
           0.382249502460698,
           0.22806582464430408,
           0.0160320375265309,
           0.4312253816309301,
           0.41333822061209613,
           0.37699992885427663,
           0.16115766107865548,
           -0.03169175152616388,
           0.1328380910914092,
           0.4473500343225597,
           0.46367879176586657,
           0.42049511936215056,
           0.005715784685105085,
           0.08808585359185807,
           0.2337992530948434,
           0.3676726530833856,
           0.35135989717246685,
           0.2619917455786483,
           0.1238537919479615,
           0.2718746476110731,
           0.030610299027131277,
           0.2937520257567816,
           0.26707082496867673,
           0.3671816757028793,
           0.49747686503867783,
           -0.022746490328052135,
           0.19555592347572032,
           0.1690693167736527,
           0.19894358006267085,
           0.19395206233390472,
           0.39149559472132445,
           0.4513887491141171,
           0.49780779954561455,
           0.19143122131295354,
           0.4574863175956383,
           0.40805088615845986,
           0.4780119203053318,
           0.5303892148832372,
           0.15334911572062243,
           0.44470010220401673,
           0.37214544233628094,
           0.04468466682650968,
           0.11699646176662033,
           0.3346816770024654,
           0.3180340046762764,
           0.08693886201627374,
           0.5733450407370693,
           0.6163894763914719,
           0.3371529170662904,
           0.17425690718316436,
           0.030770912963103886,
           0.3204809676439942,
           0.2990519193446666,
           0.5671027957594948,
           0.4139106191592929,
           0.5497823604621959,
           0.4410684132440541,
           0.3890301995140603,
           0.10235991987895665,
           0.3918623868897171,
           0.4738861281588555,
           0.2983716460193206,
           0.36541296963730985,
           0.300701844897192,
           0.281449710336559,
           0.2716285103908091,
           0.0981021372411675,
           0.29448044514410876,
           0.28716401363250843,
           0.29881748784082046,
           0.5002424312182012,
           0.31819887024143767,
           0.2699451353955319,
           0.679988339898311,
           0.4681524581723463,
           0.3625397995199628,
           0.2433577253781873,
           0.20156227067184349,
           0.3341777297378544,
           0.15927058902502428,
           0.6449756223272822,
           0.22436593294535806,
           0.31240099956794054,
           0.17319619037720305,
           0.19230591879302322,
           0.4495054298184994,
           0.22757550304390778,
           0.4254896005151854,
           0.13399835785604425,
           0.3436914875186038,
           0.23330167933424023,
           0.3796354723984405,
           0.17675647143430623,
           0.5593206655872938,
           0.3928998667311428,
           0.3633481541126873,
           0.12327695897483662,
           0.11527275006749785,
           0.617976971657836,
           0.15414757554749564,
           0.3540964998667916,
           0.26708886033947904,
           0.26253908098778084,
           0.42477708876478243,
           0.13730686149108273,
           0.22665845432492732,
           0.14714152580402962,
           0.4700395070786063,
           0.13089177534328097,
           0.31167412946244755,
           0.5141690654824373,
           0.3908697728541195,
           0.3195122521742276,
           0.455514161880907,
           0.17664123875680493,
           0.3462690938429873,
           0.0410203814054404,
           0.32557075553689413,
           0.29378902007276475,
           0.22111697837472138,
           0.3934621617215573,
           0.06207556505497097,
           0.4652170058229732,
           0.5602058934220151,
           0.28348130771587704,
           0.5808438833658951,
           0.2313683920991008,
           0.4216612015429683,
           0.32180668966319137,
           0.20256149475233495,
           0.4164088592051408,
           0.16872778997705268,
           0.2429711699123242,
           0.307896544497781,
           0.2686520161022395,
           0.45665608129307506,
           0.3269524535085595,
           0.4989056566021113,
           0.371340095760956,
           0.38875309236481465,
           0.2981787864365727,
           0.37169758225555655,
           0.180935049734516,
           0.41527275398983504,
           0.20679138156593757,
           0.2577405923710282,
           0.2718442402527276,
           0.3456150114478654,
           0.20621475479929413,
           0.17402030965861215,
           0.2601123213620124,
           0.08634692207661798,
           0.3523708867844632,
           0.4070764274947904,
           0.12504697784076546,
           0.11879446048499537,
           0.2010501585995437,
           0.2541833221923242,
           0.13427861088548082,
           0.21904862182228935,
           0.2362418832691099,
           0.5197015519488729,
           0.10334710339645706,
           0.35401502019183195,
           0.22212021134130422,
           0.22864481701503653,
           0.30412922748970195,
           0.4164268091396785,
           0.287036403500039,
           0.25079803999892725,
           0.35574014534354276,
           0.40230759937245747,
           0.33347017787116384,
           0.5356905399039378,
           0.16870569710037045,
           0.30033766614462565,
           0.33536444884961364,
           0.3924308891762375,
           0.3589829685912961,
           0.1967719312163539,
           0.1779172006281005,
           0.4318270346493284,
           0.2820452086406025,
           0.4104613690716786,
           0.02845967025747749,
           0.3657820850550223,
           0.013649753934765668,
           0.13328728211507404,
           0.4362938774871571,
           0.4750533619645332,
           0.2783820068024608,
           0.24000924182993444,
           0.4331834511354176,
           0.3008648908361606,
           0.34067719615751135,
           0.48104215364029435,
           0.33643306770057174,
           0.3253647314603746,
           0.38982629188581935,
           0.561524066670725,
           0.3276742929675327,
           0.29868664873919865,
           0.2640000503591846,
           0.3258348266505465,
           0.216228073822537,
           0.4446551892363236,
           0.18355843777241634,
           0.3554335457736453,
           0.4194757959184634,
           0.23647024069036382,
           0.3214228257631563,
           0.2233554233254498,
           0.17955200917182154,
           0.35625494053559015,
           0.21619280931041046,
           0.3280155352431168,
           0.3592572471270845,
           0.49899833293744467,
           0.09192559410835915,
           0.4036169815080283,
           0.1667982823187169,
           0.33171774230038936,
           0.3261177072371571,
           0.29155677000450014,
           0.1655381487599463,
           0.5939417502610952,
           0.15585989400112155,
           0.24267205126514765,
           0.14875366621333225,
           0.34689052436645423,
           0.4450587907645029,
           0.48186764009329897,
           0.5013649490594967,
           0.19668440830630846,
           0.487924662739178,
           0.3720646349992636,
           0.18012220674959808,
           0.20326695923819454,
           0.28734295716095015,
           0.4424493472087624,
           0.23130096586283416,
           0.3922434381026183,
           0.09464558693784939,
           0.4656218689170736,
           0.5167831535737595,
           0.12650544428453686,
           0.33277599644480893,
           0.3136580529136569,
           0.3424045529722425,
           0.4277390821477314,
           0.24815976031959586,
           0.5832122796537187,
           0.2009828816874925,
           0.29799252071207744,
           0.35195026266428964,
           0.007561527214353478,
           0.3226739994716022,
           0.28317615266842244,
           0.32972313014042093,
           0.4655805000364368,
           0.14102018262692737,
           0.26280022983612905,
           0.44760322991327606,
           0.177861911360949,
           0.4778548240600507,
           0.4522279479949934,
           0.2489310741904651,
           0.635262568942856,
           0.5211336958567321,
           0.37517981103115666,
           0.2501283034941247,
           0.3447349427189223,
           0.4400246820089345,
           0.7387335757525091,
           0.1537589846639993,
           0.5806547932250239,
           0.32889952086062724,
           0.3209665686527192,
           0.47868970436219793,
           0.4213085909172168,
           0.22649752484908886,
           0.3075141773739511,
           -0.07713295799967015,
           0.3048816818408333,
           0.4736440810535025,
           0.23773526316258867,
           0.6820351807537743,
           0.23943377852021044,
           0.17232297421051593,
           0.3055515545056401,
           0.31503065273929237,
           0.295395076232299,
           0.41828221510126035,
           -0.008504549193166427,
           0.12746387874824844,
           0.2964267562706478,
           0.678466500949331,
           0.34004593121453464,
           0.5668212712068111,
           0.25123236266230164,
           0.24245619704666208,
           0.04207968157538475,
           0.24098201589912618,
           0.09560682429955945,
           0.3051117194017492,
           0.19608632668598144,
           0.2803484373328748,
           0.28038408550899385,
           0.16613027703558392,
           0.47799840807218585,
           0.3085753479680127,
           0.406245140727042,
           0.1465788152836623,
           0.1939718866515764,
           0.336162249244665,
           0.32227913390573687,
           0.2930401915751505,
           0.23391570382653057,
           0.20485442331334036,
           0.5144708828589939,
           0.14674422271618354,
           0.31736945382561843,
           0.6257213277517855,
           0.18270575577027676,
           -0.1819857871678953,
           0.0005461220770771463,
           0.2968813888082642,
           0.33989942160222975,
           0.43899814139749094,
           0.45902927765187823,
           0.35177103707238094,
           0.2742799825902565,
           0.14774608793363325,
           0.2753520702221721,
           0.4951738280419072,
           0.2302877729002614,
           0.4360279546079021,
           0.2199874560396338,
           0.33204497883754047,
           0.626222703747703,
           0.39079415870222006,
           0.14102719025512422,
           0.4488624266328092,
           -0.09851602821833946,
           0.3727586867095105,
           0.4787492815931361,
           0.24780644801641016,
           0.29946320902951457,
           0.4041712180839725,
           0.22897728761290978,
           0.6492673295173855,
           0.31868841686694016,
           0.3779002363664956,
           0.3532854017532008,
           0.05150474634750678,
           0.2676846524744224,
           0.45494298008773,
           0.2892403138701986,
           -0.08718422512114526,
           0.4233435724639923,
           0.26137496513104197,
           0.20581643227723703,
           0.2864590199695025,
           0.34512872600344136,
           0.3126714333470663,
           0.21312136410976923,
           -0.04751962531079698,
           0.272593198827379,
           0.5584495223898742,
           0.5401668789286067,
           0.26957815087763043,
           0.2942878413922152,
           0.22163552342303572,
           0.5473221765253161,
           0.3556103086568475,
           0.3132670199240316,
           0.30418490216840505,
           -0.04929147278749287,
           0.4507564753433567,
           0.30033774256165274,
           0.41464080892784816,
           0.09206710226753947,
           0.15351014946995234,
           0.12896010137021444,
           0.454118639022255,
           0.4223785380111512,
           0.48118569887390145,
           0.4277745650541853,
           0.5043460643337083,
           0.14608876140322588,
           0.1538807576566014,
           0.3615662037503958,
           0.28736140060613385,
           0.5527024693907495,
           0.520201449401511,
           0.20159124001798384,
           0.22754986764134955,
           0.24457081058277932,
           0.5516102183748502,
           0.21090718802837716,
           0.3808207554158454,
           0.2613247628715837,
           0.45611273293964816,
           0.36564214331698935,
           0.31548939459783437,
           0.30417495363980673,
           0.5621568629035019,
           0.30207483602671115,
           0.45101005706701114,
           0.17027482565917776,
           0.28118902586865535,
           0.32267481296776956,
           0.19917161852788096,
           0.170406086858078,
           0.4698167762068438,
           0.5281209667782588,
           0.4095476433535942,
           0.10011831944923764,
           0.36864427698485214,
           0.27338754841078744,
           0.4029114179756272,
           -0.037189088353616104,
           0.1506842004885073,
           0.3501942425536736,
           0.2704803312836645,
           0.355407547313693,
           0.02806560087840683,
           0.33721330234700775,
           0.3493943052733178,
           0.34138116096994037,
           0.05833084705899924,
           0.32783505695852416,
           0.4012939211941128,
           0.3871887109895335,
           0.36475747905993894,
           -0.357366988055972,
           0.1776807058796673,
           0.24382530676109065,
           0.38518239510565017,
           -0.10689844018153549,
           0.16450671291918437,
           0.25723023731387484,
           0.25029768396091645,
           0.3678189011281153,
           0.20192981905451338,
           0.4691081049726846,
           0.29887136737739894,
           0.30012924688113957,
           0.37593075319000235,
           0.18309998851530432,
           0.25245038261129854,
           0.1557543664026662,
           0.18139558775343137,
           0.26803930052684183,
           0.564393541709358,
           0.20741268673294505,
           0.31590237647432445,
           0.2826473222229765,
           0.5573310699431671,
           0.08302121454838796,
           0.25592808046785753,
           -0.11025266236262493,
           0.4982233291070657,
           0.4676223034074919,
           0.3855177139579449,
           0.17820673268445925,
           0.25044292690955894,
           0.003528100891825467,
           0.0830248513625868,
           0.46729083000231203,
           0.13669820988922898,
           0.12470431342548441,
           0.26896792527495655,
           0.03438162737898873,
           -0.00928516571647886,
           0.3164011967677129,
           0.5956523969086565,
           0.33191293905533553,
           0.49274782270008705,
           0.2022400116405172,
           0.6838932673315431,
           0.20460076684512712,
           0.47698355809827264,
           0.25147714555699946,
           0.1283590251728806,
           0.4349972181154486,
           0.27638397294541484,
           0.05656960976087044,
           0.5166472625855383,
           0.35663409456077433,
           0.5135162353589819,
           -0.06312692788291617,
           0.47565348931240153,
           0.218554402085829,
           0.6126310957430853,
           -0.07927412201904947,
           0.5215014242581002,
           0.41768251481860674,
           0.26032294389752836,
           0.20835036686240735,
           0.2788698196033431,
           0.341105242856514,
           0.1978461061765292,
           0.5581692199820604,
           0.3416357647066047,
           0.5340947576273183,
           -0.0611603577418974,
           0.2274474945548732,
           0.37941736747695237,
           0.5122784489184974,
           0.3574691567001103,
           0.33709760338074685,
           0.36952184797944243,
           0.2876857645988638,
           0.2970406290554893,
           0.35253443825417785,
           0.09229264725884229,
           -0.006787100818560876,
           0.5718527640722807,
           0.1683115229818663,
           -0.017171912776561535,
           0.37183084269274186,
           0.2811811966927148,
           0.568133760374983,
           0.2418401408927205,
           0.33599629077235027,
           0.21914614462168908,
           0.27430288837642663,
           0.07016366105568832,
           0.31025459369583275,
           0.3007273204695964,
           0.3977642645925872,
           0.2840639556160254,
           0.03252484085422751,
           0.08026069225412281,
           0.41280381289455215,
           0.47215044372472054,
           0.5034775957518322,
           0.2745354119587378,
           -0.042648394823686986,
           0.35570543001430693,
           0.04870818983436856,
           0.27392245641751567,
           0.4394850572817359,
           0.40050816393838296,
           0.192350147694259,
           0.2919887068626509,
           0.1805134693094755,
           0.30409967273698973,
           0.24739442932732425,
           0.09374802027015958,
           0.23769753143746572,
           0.28635509045329594,
           0.331765136180632,
           0.10697972560910284,
           0.19345138225097608,
           0.15474876555065775,
           0.1293510168065003,
           0.2328571811713258,
           0.46169573654218565,
           0.2716027345552628,
           0.27984884577784785,
           0.20453624621693098,
           0.3127244240411873,
           0.38889914650243707,
           -0.019615179736352864,
           0.38596282996503617,
           0.1676812020899471,
           0.5726229502459499,
           0.22019719502548607,
           0.5241098327969109,
           0.06678107360137821,
           0.3596855469360486,
           0.47621610663383795,
           0.40448447861979797,
           0.27161894407498693,
           0.3909219192649581,
           0.16097610032272758,
           0.14083107147257806,
           0.35650654021087236,
           0.05580784853833479,
           0.2312510005508013,
           0.38859769850793296,
           0.10515791363686774,
           0.46619690517345347,
           0.32802055005329267,
           0.2981992775541599,
           0.6112767508239696,
           0.23239455407048748,
           0.20474055586810724,
           0.2876707940629446,
           0.6035820916427402,
           0.3798949385448873,
           0.047340589694209595,
           0.09508365167552912,
           0.2934458455151613,
           0.16525772162702618,
           0.13551135008701587,
           0.14796575432558468,
           0.194151034539206,
           0.2151936427197214,
           0.6367253202520488,
           0.18923321801182802,
           0.546452634999372,
           0.36204081340299865,
           0.3654513892785765,
           0.4624380715927596,
           0.32876908173036634,
           0.33552085420202377,
           0.3007646329156089,
           0.02903233489496984,
           0.2172890689511988,
           0.5709620658722774,
           0.2161586558685325,
           0.38534481737730786,
           0.2581873586961247,
           0.18593308535811265,
           0.4026341820980196,
           0.2775563953512866,
           0.43249360189706093,
           0.3765160384210261,
           0.05292693504811928,
           0.3360936657528632,
           0.26399402217452794,
           0.3820368079663552,
           0.2272853718316278,
           0.1839487333797573,
           0.1587092804964468,
           0.5215339912451438,
           0.3384512025264773,
           0.3074603684539492,
           0.36122308789377167,
           0.4523744054614469,
           0.44529241074453657,
           0.32496979308882923,
           0.2797848384283381,
           0.3227534496469186,
           0.26518066606173124,
           0.12509203735268654,
           0.5941361187786334,
           0.5280915168966253,
           0.19413099220077312,
           0.46956690060820705,
           0.36073624035375657,
           0.029683830041106807,
           0.14342309949425333,
           0.41870589844286643,
           0.2921934493527085,
           0.21514778365349113,
           0.4421520011575938,
           0.2652641338496581,
           0.28116356793761577,
           0.3844419174060952,
           0.22691871952012965,
           0.0765078744894972,
           -0.06045785725243431,
           0.16962195556159207,
           0.20215308915807717,
           0.24563095062599521,
           0.2943872830152992,
           0.13401521193943797,
           0.21741937016713256,
           0.6873075491329266,
           0.1361171766337223,
           0.17802908376043852,
           0.4582263273997178,
           0.28426095318693645,
           0.16375568605474566,
           0.2153827737260216,
           0.2920959437406383,
           0.42830900500815544,
           0.2561259245326297,
           0.5775881609175781,
           0.3324544150388087,
           0.3956899905046604,
           0.22520779159787377,
           0.056579928312401065,
           0.22685182072642246,
           0.2996414986069258,
           0.22433408948391015,
           0.4049462236159696,
           0.1617834037000612,
           0.33993807439579166,
           0.37019588677517895,
           0.2737593644042187,
           0.2943291955062506,
           0.39357029984889197,
           0.5286032655696816,
           0.37366042288796475,
           0.330147429502671,
           0.1253522433714521,
           0.3408116990606471,
           0.13713591946354425,
           0.4108703909679907,
           0.26126739524320786,
           0.44362631204448744,
           0.41089646488419773,
           0.34708916580361643,
           0.3381488790605884,
           0.3321969117224268,
           0.4233424055309443,
           0.331733438358406,
           0.3145365562703725,
           0.2499414085779322,
           0.21007445351701245,
           0.5086344476394397,
           0.1751820905326811,
           0.21752874789723434,
           0.20013406648819568,
           0.35169224421123463,
           0.24568075339069723,
           0.316864823049459,
           0.019486384244013753,
           0.26701919010054154,
           0.46422464723185414,
           -0.11271308159593064,
           0.4401747314438961,
           0.39907516433256973,
           0.37349297012683935,
           0.2640443667175375,
           0.49381626827586234,
           0.4606186973124951,
           0.4821746654962459,
           0.027649227145541022,
           0.25553199694883166,
           0.2561228006498274,
           0.3203188438952076,
           0.3597365870067836,
           0.5418811647857362,
           0.19513631402304893,
           0.42658409255202207,
           0.09823657459696226,
           0.16717433485229116,
           0.4356725558980236,
           0.5802613816685374,
           0.34298434079682666,
           0.4359133230589157,
           0.4168138724842934,
           0.2729247518904132,
           0.22059403445519,
           0.379003565082127,
           0.22962774736390004,
           0.381280974628122,
           0.18263164773387672,
           0.38316482242583255,
           0.0666271947851064,
           0.28004708260113986,
           0.1458974796929628,
           0.45210567942444174,
           0.3350401687767478,
           0.3757868335866832,
           0.4674128469323487,
           0.05930487581303992,
           0.447960182096679,
           0.2836039546940295,
           0.17216035450342804,
           0.25600857048908165,
           0.3338600780839539,
           0.2840195658072704,
           0.20898090954406873,
           0.50823704339647,
           0.12196866055662026,
           0.2957822604982553,
           0.20951540640452487,
           0.22134620586353074,
           0.4031536971900276,
           0.3225325646709042,
           0.19968838190837315,
           0.29445274198297233,
           0.4270084090746522,
           0.2369194786668387,
           0.42100450558268765,
           0.417977129977231,
           0.3132046329851728,
           0.3020376063142325,
           0.21548061925621437,
           0.3847937476054011,
           0.2563678612987332,
           0.5830953155358181,
           0.2803337175420785,
           0.13969717625842026,
           0.2497506957952848,
           0.303329907296643,
           0.35715543939060884,
           0.34640036791255546,
           0.2591310706609951,
           0.2781919259155733,
           0.2839015863348948,
           0.23051528746864047,
           0.2620287275040658,
           0.3884551796145238,
           0.4195988558388764,
           0.3958315206846799,
           0.07313134221460366,
           0.4618819973363196,
           0.21021044547647,
           0.13908273230662263
          ],
          "colorscale": [
           [
            0,
            "#440154"
           ],
           [
            0.1111111111111111,
            "#482878"
           ],
           [
            0.2222222222222222,
            "#3e4989"
           ],
           [
            0.3333333333333333,
            "#31688e"
           ],
           [
            0.4444444444444444,
            "#26828e"
           ],
           [
            0.5555555555555556,
            "#1f9e89"
           ],
           [
            0.6666666666666666,
            "#35b779"
           ],
           [
            0.7777777777777778,
            "#6ece58"
           ],
           [
            0.8888888888888888,
            "#b5de2b"
           ],
           [
            1,
            "#fde725"
           ]
          ],
          "size": 5
         },
         "mode": "markers",
         "type": "scatter3d",
         "x": [
          -0.20921329344395395,
          0.20738191653287547,
          0.06450852682655678,
          -0.2933461155674601,
          -0.10780722317754893,
          0.33820013463558857,
          -0.4774230214624565,
          -0.07786969855507714,
          0.2611000789572652,
          -0.16543525323686203,
          -0.1278644031082526,
          -0.011028966571219878,
          0.30619075244101585,
          -0.11986757212077187,
          -0.08088356471305475,
          -0.07895742790754517,
          0.4490988437612495,
          0.44527004501091566,
          0.20872360679193375,
          0.08515010705112952,
          0.15538654239540678,
          0.30605923284631814,
          -0.17925394646431997,
          0.24307863617257902,
          -0.24286330633364417,
          -0.11963747327452373,
          0.18933386637621857,
          -0.2778233128290355,
          -0.020100916821574888,
          -0.16443815195577877,
          -0.04321104688996108,
          -0.5518049938759866,
          -0.3463937936858111,
          -0.13206261970342514,
          0.19340531356787477,
          -0.026814309341884834,
          0.00848201039552049,
          0.1455573694366153,
          -0.16799444138565206,
          0.06463829197761656,
          -0.15316047639696484,
          -0.3376210716079631,
          -0.07026713153486186,
          0.12267399969716991,
          0.07563063741611858,
          0.0055467283203943785,
          0.4863858804037035,
          0.09049525927791408,
          0.20366002840362768,
          0.45554149491574897,
          -0.25090423741609147,
          -0.19984481482483235,
          0.3566552722407445,
          -0.15169971983205416,
          0.013849473276824342,
          0.22177602110102806,
          0.18605410547479245,
          0.35889006361238024,
          0.3070416546228522,
          0.22179136115730563,
          -0.14662891563328,
          0.16688536077480193,
          0.07076722611753178,
          -0.2573402647719329,
          0.29137263651152884,
          0.16936013413187162,
          0.017010843342377735,
          -0.03870558498072435,
          -0.23174740172399905,
          0.04781764192788479,
          0.10160065110528721,
          -0.1583181696324975,
          0.24035363703606422,
          -0.21152778208044853,
          -0.41670724279233,
          0.2158582453946984,
          -0.07276038040426319,
          -0.017293089846444676,
          -0.15959051734885238,
          -0.31327972492732226,
          0.258960302161002,
          -0.12986096955322596,
          0.3401033248457463,
          0.16937446445830412,
          -0.05503880212733364,
          -0.20926765300921496,
          -0.1385795701279331,
          -0.23459179900287558,
          0.42533549913379537,
          0.04080107326212329,
          0.2379539357254848,
          -0.24555758258588717,
          0.04411985313555905,
          0.24348521497787395,
          -0.05908932517044485,
          0.21413571900050682,
          -0.209000755184995,
          -0.26478148170755855,
          0.08379294963178557,
          -0.06792245969835214,
          0.13632376507052463,
          -0.38766475908793147,
          0.15036575431026195,
          0.5275736126700212,
          0.002987630929862206,
          0.01474125299812662,
          0.043822724143894154,
          -0.3644823149421991,
          0.09314215515422036,
          -0.31316912158703464,
          -0.07762309240860255,
          0.2564867371369057,
          -0.13913056400385698,
          0.10816262512963831,
          0.21046063800743248,
          0.06366099843535827,
          -0.26627686680276325,
          -0.05858222785412448,
          0.3997950956938156,
          -0.3970963253833359,
          -0.04724437555707678,
          -0.10250878708146322,
          0.03206229983558612,
          0.15755595065360445,
          0.329651020820569,
          -0.04613365118567331,
          0.17038109321152245,
          0.10786085618919289,
          0.10278228679051843,
          -0.10487195908913616,
          -0.19155146653902183,
          -0.21209579530798112,
          -0.14337461466366636,
          0.0722501423894037,
          0.16010270584182423,
          0.07260659678753739,
          -0.10187819202298987,
          0.3691068492026534,
          0.31168595194246634,
          -0.06288719533387638,
          -0.15677345398097486,
          0.03395581804775222,
          0.261372556227029,
          0.0744658226669817,
          0.11922256819816718,
          -0.03450319723896683,
          0.09916700625660452,
          0.316821717507386,
          -0.040020929079383816,
          0.03657437371773281,
          0.05867612252608384,
          0.06465789837036579,
          -0.2744649479980872,
          -0.3674609039586206,
          -0.19601818696820955,
          0.04150128629649191,
          0.11868406041680063,
          -0.09822208473856647,
          0.2833643237896197,
          -0.020722367649079088,
          0.011976026863083244,
          -0.030879946894374177,
          0.034718185765491405,
          0.148807642024879,
          0.1410435147986246,
          -0.17177176090575969,
          0.31264558251186386,
          -0.21109246426922518,
          0.023758230034280847,
          -0.04696648748831217,
          -0.20188550824753915,
          -0.007111290378607971,
          -0.1402499274423214,
          0.02249427587136882,
          0.08853001946003175,
          0.30229870101081263,
          0.06938967094164122,
          -0.11433224084480664,
          -0.07041113492776202,
          0.035908448439071095,
          0.026604993108588604,
          0.29983068086184245,
          0.2869834131675492,
          -0.06387435803229397,
          -0.10181559842108134,
          -0.5034980935974134,
          -0.10187125544828568,
          -0.18769871400069843,
          -0.06305206440280542,
          0.0862296756861805,
          0.04335129305595592,
          0.0019192258066498824,
          0.047829249433861076,
          -0.01731072743004003,
          0.04731661372485357,
          -0.6382981743677041,
          -0.04594587073399253,
          -0.014257316994443048,
          -0.06033951602515886,
          -0.03567642520443004,
          0.14857485077750437,
          -0.11170823905200677,
          0.4480532470595839,
          0.14557221326057607,
          0.006651377033383865,
          -0.033419633423354966,
          -0.009391630060268719,
          -0.1751485867726374,
          -0.01112768063544356,
          0.06364953056156925,
          0.12382115033080426,
          0.123850783045025,
          -0.04706268209702863,
          -0.2753036232882278,
          -0.12590769803053076,
          0.33035143577863596,
          0.18712448989814784,
          0.08183674447699313,
          -0.14434602173586647,
          0.008641858210913955,
          -0.24322090991633805,
          -0.10247454792305638,
          -0.04112784112088069,
          -0.06441515915688428,
          0.19923321342736072,
          -0.27583235559093217,
          -0.1651736270868725,
          -0.26702476698828553,
          -0.23955781532141246,
          0.03272400650548807,
          -0.31217527939509604,
          0.1586865829836857,
          -0.041450328172056794,
          0.021670493721353823,
          0.0724281748155991,
          -0.07892047683415987,
          0.21440877036683387,
          -0.030955718129368703,
          0.12672687826397228,
          -0.03190964933529211,
          0.06608770470114295,
          0.06384536124775059,
          0.05790681510726453,
          -0.18694874270802558,
          0.09508798132564639,
          -0.055878570603760835,
          0.13401043331414192,
          -0.4225858616663025,
          -0.2851104171948319,
          0.08060193964316403,
          0.380498344237204,
          0.1749245765784057,
          -0.12857735962383782,
          -0.33049765585943286,
          0.15645007144848194,
          -0.00820381719243185,
          0.12605367079503543,
          0.030972571658316517,
          0.013841412240257422,
          0.5996379163947938,
          0.006686835007042535,
          -0.023936214634494635,
          -0.016376907864646073,
          -0.10879451612537305,
          0.20593940615922085,
          -0.06283803954011152,
          0.1351013683450762,
          0.06483343317886964,
          0.25170999964264357,
          0.09194874661383062,
          -0.23476412897337112,
          -0.25738472979462984,
          0.28958665643153864,
          -0.11382933343673002,
          -0.25620768874177213,
          -0.12601089275779337,
          0.2608378846097598,
          -0.2761297725735441,
          -0.1653862135357636,
          -0.12544867454314557,
          -0.24232514747848072,
          -0.22895264048617442,
          -0.2957087678365734,
          -0.08432465541118611,
          -0.06306893913185868,
          -0.12859480362450287,
          -0.32282674057736993,
          0.25858001658735746,
          -0.2579029386182738,
          0.06351956962073252,
          -0.20704049140761677,
          0.1415762005644639,
          0.1990792982495912,
          -0.16760989010937272,
          -0.3768303187232669,
          0.14707029104407993,
          0.38307293655888536,
          0.0910517351946451,
          0.04002171151210193,
          0.17186494913819622,
          0.16092379641556193,
          -0.1578849395360437,
          -0.12391743492317125,
          0.1301375372273405,
          -0.020889842279900206,
          0.27123394638886883,
          -0.13295560220959335,
          0.15803481058985452,
          0.07644042349000385,
          -0.01737468552576854,
          0.2430949815830798,
          0.14392713378964433,
          -0.1930806034602625,
          0.1359565633001278,
          0.28291095351499823,
          -0.018176110580766403,
          -0.041818342860836355,
          -0.12601660231254658,
          0.00519205008108814,
          0.14515296442674036,
          -0.1556208326995912,
          -0.26135868493128966,
          -0.06723715498022692,
          -0.2680321685155917,
          0.11255651547268469,
          -0.07742512678260188,
          -0.34316754169400304,
          -0.06180867573154364,
          -0.030610169942659804,
          0.0977399498881017,
          -0.021159881414683723,
          0.3816581185841201,
          -0.09582794309164155,
          -0.00456688250030296,
          -0.01266929563637581,
          -0.04861284966524637,
          0.03639794421874637,
          0.11615908665569291,
          0.2759325679234453,
          -0.3059383982627344,
          -0.09415574754506584,
          -0.08164145785429033,
          0.1954828866884995,
          -0.06341978499851048,
          -0.3711222913997055,
          0.02545891998947364,
          0.0011749809079704687,
          0.04386314037042133,
          -0.2001197489797381,
          0.35171976343305905,
          -0.056859129540910935,
          -0.02974654448257502,
          -0.17208888674567385,
          -0.17828757355878638,
          -0.23663456473359873,
          -0.07074934314007303,
          -0.18360354053516853,
          0.41920629546120264,
          -0.36978564886120474,
          -0.21775328242020048,
          -0.07237005847524464,
          0.1426110828358233,
          -0.07483854905985415,
          0.1431055058167538,
          -0.18944795064190606,
          0.019771053995099652,
          0.35672104461832504,
          -0.18563605192373728,
          0.09182636239523728,
          0.049298331072810286,
          -0.4423941699814157,
          -0.10988128207797743,
          0.23414320827735619,
          0.034928361713098044,
          -0.2345409653630544,
          0.14606828179928694,
          -0.08791176184671223,
          0.07992297283232569,
          0.08329685010368443,
          -0.21582629301295625,
          0.16587843416301812,
          -0.19358893303087693,
          -0.25324434605216967,
          -0.16865297032824905,
          -0.06130517955648057,
          0.029793458504410786,
          -0.14660391925832966,
          0.15687668969518148,
          0.0582056640248772,
          -0.1310468158049422,
          0.18571141073512948,
          0.24012649874545505,
          -0.011824112145744359,
          -0.03508378177661986,
          -0.34684144343511203,
          -0.07358969126213549,
          -0.05038851529691468,
          0.056988708668096744,
          -0.025772459109936252,
          0.056718214844257264,
          0.3147308850769312,
          -0.09806999251057696,
          -0.09028162929701106,
          -0.253920235644358,
          0.006180733867841237,
          0.2032754237100804,
          -0.3423012426223156,
          -0.1252585661877192,
          0.015100927716941992,
          0.17793340392104579,
          0.08448687502153135,
          0.07300555285258442,
          -0.03694972997802187,
          0.10428767861990135,
          0.21077360392285055,
          -0.3338855280936824,
          0.15361990738318504,
          -0.011839133957184333,
          -0.09808494562674452,
          -0.4807023299597047,
          -0.26815743751470156,
          0.34752462566560854,
          -0.12979687927655253,
          -0.2090409270344581,
          -0.08337236401256015,
          -0.14111661715556034,
          0.032784553739941436,
          0.3113075628654806,
          -0.10941036295428441,
          0.03877083732653258,
          -0.22153460103188877,
          0.3119461156574647,
          0.045721515698980364,
          -0.20845099744196566,
          0.18877407124308682,
          0.247910356932681,
          0.04020409989768542,
          -0.3199665662919969,
          0.3649465899194532,
          0.06993733134146357,
          0.24200368668844902,
          -0.10226581380727012,
          -0.07181195773062177,
          0.030003449074271382,
          0.23059316282333436,
          0.03651083284959061,
          -0.24345393529057802,
          0.06031066657282652,
          0.33381966611831165,
          0.0210740837087246,
          0.0337899319714548,
          -0.24459592134060565,
          -0.2726849903284096,
          -0.11962560054649002,
          -0.0573907021075864,
          0.02872497421821435,
          0.04110422211099368,
          0.328294357419544,
          0.019650314906140276,
          0.22079736489833984,
          0.000046960287175268345,
          0.2976935495413106,
          -0.3661666685332819,
          -0.11183352611952752,
          0.20451950646800648,
          -0.026406373835184793,
          0.19421874989375149,
          0.08492604777161256,
          0.19708822395876519,
          0.13052637282192697,
          0.14264261397890837,
          0.30640390464646833,
          0.20520763095634637,
          0.2066741686434403,
          0.011996578973273608,
          -0.10845721474721615,
          -0.12399919043830093,
          0.15810174665409443,
          -0.47977928559284644,
          -0.2535228104446988,
          -0.18473790995959966,
          -0.0416114485225651,
          -0.5183747801455085,
          0.2596570877340249,
          0.12794787448207706,
          0.4048293069078716,
          0.2203557210007147,
          0.21398869344656396,
          0.45804803342233186,
          -0.10627879015532765,
          -0.29277885263372055,
          -0.03855865208238968,
          -0.1570855835532738,
          -0.04345624498873113,
          -0.20213097083545978,
          0.1214888407069577,
          0.11050939713590319,
          0.002528309102503845,
          0.07022912789273433,
          -0.02049731820967826,
          0.15831956086961457,
          0.021840977113229465,
          -0.04517629776299631,
          0.1938297212047005,
          0.2600770810615107,
          0.27540359234440087,
          -0.19014211064773806,
          -0.09897661439218114,
          -0.3323863917333801,
          -0.039800176424562905,
          0.09113759011168349,
          -0.018647407686236628,
          0.39408300062581875,
          -0.07325584780611305,
          -0.20978888388162747,
          0.12161366854973349,
          0.037899592915790425,
          0.11784134637623539,
          0.06867041337339624,
          0.05666597932233303,
          -0.41654694939236003,
          -0.1373099782873109,
          -0.11015215637441456,
          -0.06168004037082697,
          -0.08176550047602993,
          0.09047657955369653,
          0.1280893289545622,
          -0.21841535813407215,
          0.14527370857509386,
          0.12506645494957253,
          0.1010668404238016,
          -0.27566607038977553,
          0.09602928727395815,
          0.02443191112341231,
          0.20008884225892715,
          0.364784186276419,
          0.32552640433501073,
          0.030441661664143915,
          0.007537888871004206,
          0.13430248401802486,
          -0.21509516346772978,
          -0.2822238011048018,
          -0.0865932911888414,
          0.25202660995906384,
          -0.058312832440336027,
          0.3084290083780454,
          -0.5497097494008423,
          -0.3095284581413678,
          -0.016824919354981482,
          0.1855517354843334,
          -0.006011792527860216,
          -0.011217721682501569,
          -0.016435471835260063,
          -0.3446667196640566,
          0.23952660210412885,
          -0.12864011675131598,
          0.22581935865904895,
          -0.006191856376311644,
          0.22154490468197457,
          0.07656442341167152,
          -0.013422070895490135,
          0.05316515662989879,
          -0.2866826946061569,
          0.009118692650365301,
          0.35112089163858456,
          0.2695515400139014,
          -0.1890918893234561,
          0.10904999748374294,
          0.057508804165666005,
          0.17135048323963992,
          0.026743404320600683,
          -0.03878797140986168,
          0.274038982488288,
          0.05119214087056029,
          0.25900569160542114,
          0.2027900678850571,
          -0.056984621087623255,
          -0.025487227655273614,
          0.3938793140159628,
          0.04620929230414078,
          -0.14381285745584654,
          -0.23209582838084636,
          0.2027393142677097,
          0.03997157143541291,
          -0.1505055628896384,
          0.1428297934634833,
          0.03986256622734258,
          -0.3241821869364331,
          0.12564993815832076,
          0.274550967784805,
          0.5198828733426526,
          0.014893340028559188,
          0.054442758858267604,
          0.32923218826311923,
          0.04165728060345414,
          0.06298119983214284,
          -0.11821085106995688,
          -0.2709621953264796,
          0.19045041438012938,
          -0.24680122014629047,
          0.23604407580565095,
          -0.1497202845613736,
          0.06095961889581808,
          -0.06654151905549888,
          0.24283287480762644,
          0.06808210765747452,
          0.3997318977175867,
          -0.20882270865575803,
          0.0906854435233097,
          0.01738120339758492,
          0.06390154146754284,
          0.3270970615382481,
          0.12497643323461544,
          -0.2215922545192831,
          0.11461499088412413,
          -0.07521104801499184,
          -0.08675816679799975,
          0.2170842928228321,
          -0.11255516938908738,
          -0.06803323829986879,
          0.014394278096932445,
          0.197150006565236,
          0.12423078778839619,
          -0.03897015516741592,
          -0.04652246592132031,
          -0.22411310509054744,
          -0.14405419050237428,
          -0.12296338994794032,
          -0.021945361133330787,
          0.4052654346499907,
          -0.12718105954112807,
          -0.05125298636496939,
          -0.40256685377916285,
          0.12802704607825982,
          -0.30757693154924276,
          -0.1734050772167131,
          0.21637990090435694,
          -0.41307285869963417,
          0.02709690969520634,
          0.16809875654918366,
          0.31300167450421384,
          -0.1761057944817644,
          -0.11689214283181465,
          0.3688000918966787,
          0.002900798299838747,
          -0.13933995963777607,
          -0.13558434024528715,
          -0.1865984374973348,
          -0.08002161386904022,
          0.22555692250602727,
          0.18546604093085112,
          -0.2269412333489106,
          0.05083004215700532,
          -0.07251911979834524,
          0.1644009080370467,
          -0.023359118229701548,
          0.08221776357611171,
          -0.02380821417554152,
          -0.42950435891148625,
          0.01731331628988725,
          -0.24643656268985903,
          0.15733850955152656,
          -0.12805275126379928,
          -0.1130897039984396,
          0.006132262213697837,
          0.1234716180610344,
          -0.02603593634366741,
          0.3363493816251623,
          0.33767639951332,
          0.3510065456501565,
          -0.038950917695595166,
          -0.28847886400441264,
          0.25192853006381416,
          -0.07535622984379686,
          0.015546089616559844,
          0.1335768477871923,
          -0.3129744528863721,
          0.33373706828265787,
          0.18290529303681985,
          0.07836714363045288,
          0.1860961773118966,
          0.11930333508162788,
          0.03127845032997384,
          -0.053642037212753735,
          -0.13991562765499815,
          0.0653556833968319,
          0.08015343917049328,
          0.2245525877537981,
          0.048044828959997676,
          -0.16272747593995385,
          -0.3073337422631729,
          -0.01759960518582787,
          0.0024211518782441543,
          -0.011705489342561604,
          -0.2981897522549665,
          0.22280585532325986,
          0.22243877646291482,
          -0.15674420570673991,
          0.1691092495405892,
          0.19847899957848963,
          0.01560224254569692,
          -0.18178689802265707,
          0.33058913426836306,
          0.08409711397060365,
          -0.04229466382625019,
          0.16248190635074006,
          0.3323545247861887,
          -0.0915192021216148,
          0.14619733626751613,
          0.39654486136109995,
          -0.21540013963093763,
          -0.10193789052945423,
          -0.11165818890228268,
          -0.02375260019368569,
          -0.03408191996068061,
          0.06807191508956839,
          -0.15616227681078904,
          -0.11661987056002032,
          0.0681709240126735,
          0.03889519916290046,
          0.18272878904819828,
          0.08978383220128644,
          0.162282154328311,
          -0.22067758069214166,
          -0.06877043500699825,
          0.3775888173928474,
          0.08632843652649219,
          0.15739141952542163,
          0.06245977464871716,
          0.09297999860191547,
          -0.038267983089476376,
          0.7222286708214205,
          -0.07131835726578134,
          0.00024858366752800176,
          -0.4770544378748915,
          0.22916615873510265,
          -0.1025377627208271,
          -0.004245993986169927,
          -0.09769528296020791,
          -0.019823761838810794,
          -0.048936592467967666,
          -0.0006955279399713521,
          -0.0026474693146110173,
          -0.02292823508101821,
          -0.025662618093097556,
          0.2696165176813618,
          0.18419621116800994,
          0.18540129090547625,
          -0.13857694900619683,
          0.2592769935858312,
          0.23424172905533586,
          -0.10276803854415467,
          0.3126832306561191,
          -0.12873236138379957,
          -0.3604935404648571,
          0.2282180244467928,
          -0.015990928869856813,
          0.2032971401311549,
          -0.14292760532867993,
          -0.2444411751332502,
          0.2542871849409523,
          -0.27354088546299515,
          -0.30429327507131443,
          -0.3772045509367122,
          -0.5509816324453574,
          -0.1999080494367197,
          -0.425968764466249,
          0.0007917302941923832,
          -0.4393706428487712,
          -0.21094185661903964,
          0.47432522645808967,
          0.0769376753385726,
          0.01847396229770365,
          -0.3162375688478132,
          -0.041206705973595936,
          0.01753453984348169,
          -0.31312333194125347,
          0.03314896339228207,
          0.24615931862917811,
          -0.06173879655171771,
          -0.03153444646469866,
          -0.4005064558829264,
          -0.2719339465057591,
          0.21945184750180152,
          -0.12439730209994293,
          -0.178029499672325,
          -0.13060379597811306,
          -0.0035803981840076826,
          -0.22377035495699998,
          0.03321612841020544,
          -0.26408870820845354,
          0.1627128276313154,
          -0.20349832825176223,
          0.27196649100257847,
          0.005906296664681676,
          -0.1612160584628876,
          0.19020494913262148,
          -0.2669865486044642,
          -0.10150030178732355,
          0.007897721894035259,
          -0.01632053344148343,
          -0.3938042664579669,
          -0.17621648130651496,
          0.04155969570084478,
          -0.25606548465582374,
          0.26119868694932763,
          0.10694900497335563,
          -0.09493525092605581,
          -0.036145665843854424,
          0.38022565198252195,
          0.19511051739142177,
          0.08395665618939269,
          -0.2751909268706969,
          0.33383509094534997,
          0.21839304099095397,
          -0.02176825029581586,
          -0.10202678662559861,
          -0.029667960539196236,
          -0.23247450895723648,
          -0.08624428432530978,
          0.16054493004706155,
          -0.3536114282323561,
          -0.05490204763229661,
          0.03066402179212574,
          0.028626434680823987,
          -0.22787456359052677,
          -0.22851775104925381,
          0.22574590370783504,
          -0.2369929913470999,
          0.20964301847784567,
          -0.08856023580554001,
          0.22387209727634544,
          -0.07630287386484452,
          -0.22538143690710272,
          0.17922379849485076,
          0.004434582770118878,
          0.2976281442810486,
          0.18635284424372595,
          -0.03797249857260093,
          -0.08202069311643645,
          0.012587295873608018,
          0.04595483078799628,
          -0.16843687813020342,
          0.17630074182107364,
          -0.07155987114592116,
          -0.07669272181450415,
          -0.10022484025834227,
          0.054116280684832596,
          -0.13049769312801274,
          0.03490684921421722,
          0.5612334414365328,
          -0.002809064798110106,
          -0.07888812044357135,
          -0.3256250184134219,
          0.017957212168972225,
          -0.2139333614337629,
          -0.06719879657815625,
          0.038234345945587,
          -0.3382850627482721,
          0.03940537769585001,
          0.06881586230136721,
          -0.251507176717172,
          -0.07054901120965917,
          -0.3582204452194026,
          0.3230130143846394,
          0.07402548252592728,
          -0.028004872979662143,
          -0.02477433891507419,
          0.23420154882931193,
          -0.01092028316796384,
          0.07407618147130896,
          0.3116387392892574,
          -0.06132060238428133,
          -0.2106142376851881,
          -0.15698728773456588,
          0.2936455941040181,
          0.026198488918969753,
          -0.09255343043777653,
          0.20264170317599012,
          0.20750430435159045,
          -0.08721672636512945,
          -0.1864745402009318,
          -0.3061928929960837,
          -0.3508649569690891,
          -0.04508446315304104,
          -0.17072636219120024,
          0.37960770917739545,
          0.01962037815516321,
          -0.38051708143407376,
          0.29165868231817077,
          0.040254889099677504,
          0.14890872329077948,
          0.14431978258284034,
          0.06722414067346622,
          0.11258135330306701,
          0.05566496156209938,
          -0.2133643539769291,
          0.08125926684465318,
          0.21269392821466643,
          -0.03409845531300526,
          0.11817327083010948,
          0.09183065625577064,
          0.37104323999997985,
          -0.04263723292379373,
          -0.05048800533788994,
          -0.015473520813191588,
          -0.012565387804579664,
          -0.4466107149747021,
          -0.12060914107715598,
          0.06788984052531294,
          0.006261524282587583,
          -0.15195500362326825,
          -0.12504302321891786,
          -0.06320979844323349,
          -0.1524015289443258,
          -0.09469729487252176,
          -0.09996519667954856,
          0.1869869965375937,
          0.21119108092437372,
          0.19462984609509287,
          0.09325318705120195,
          -0.13375166966655133,
          0.19987891721490442,
          -0.054937290087727686,
          0.012523268868052384,
          0.275556933602276,
          0.024711398442486432,
          0.05736963326368211,
          -0.27464306998315957,
          0.10531468596952903,
          -0.18808850224433787,
          0.21030075848973867,
          -0.02900700821841179,
          -0.4393209411872638,
          -0.06369119329651007,
          -0.037694080441025124,
          0.10500787243177684,
          0.14201530534559176,
          -0.05764002172807936,
          0.21048646618693317,
          -0.625498238514423,
          -0.13488497238888753,
          -0.21456002695127901,
          -0.24292387490082595,
          0.19985410148566046,
          0.1737469070211281,
          -0.14724117686588606,
          0.24352422800815038,
          0.02820620570664195,
          -0.07642399293887225,
          -0.1306717320583291,
          -0.14774151807646024,
          0.10246779870606532,
          0.13794380740955875,
          0.05561306965374019,
          -0.4021307082604611,
          0.06718455842673915,
          0.1209921400239195,
          -0.1259282938767315,
          0.01656293579582896,
          -0.3648640326439912,
          -0.2380809851197963,
          -0.05693424243194711,
          -0.05403740158706294,
          0.0782487015660786,
          -0.22947225008972366,
          -0.06032838570797627,
          -0.09004312886652349,
          0.11351492201199992,
          0.2921213808898246,
          0.3520968911781734,
          -0.3057751821501132,
          -0.0016900111339331336,
          -0.21459303483279474,
          -0.005036163081089617,
          0.09249668313934817,
          0.024211006956840697,
          -0.00188951254273384,
          0.30452066216921864,
          0.15211070555694012,
          -0.04661806509139843,
          0.012755099395217073,
          0.18209238857403814,
          0.1298709284240141,
          -0.077102393524006,
          -0.3471357410045556,
          -0.2290186713383796,
          0.03710867221886133,
          -0.3493925433196428,
          -0.022566072387127212,
          -0.08280100802134743,
          0.20776338782559906,
          -0.2556959374789328,
          -0.3784409685640394,
          -0.07601532110586329,
          0.13486545353486284,
          0.2218965470016287,
          -0.17395257609583026,
          0.10196557673539558,
          -0.21437326233631254
         ],
         "y": [
          -0.15144332659306514,
          0.11184111172637823,
          0.14195227503119412,
          -0.20155398333387847,
          0.09330183110822221,
          -0.37537779612928474,
          -0.04220961491228553,
          -0.22852743873484305,
          -0.16321770151860504,
          -0.25689330390804466,
          0.10904744558862223,
          0.10909706060719881,
          -0.1399179225457302,
          0.07343862780954502,
          0.05057667714790037,
          -0.027368184345863245,
          0.42995620643754084,
          -0.16985355690714676,
          0.0011831846634526855,
          -0.0781552393382865,
          -0.07603383640525901,
          0.030204567339121136,
          -0.06055697351710365,
          -0.17376318549762237,
          0.023167666112771435,
          0.23478849587162232,
          0.18687544251652533,
          0.03893106420256742,
          -0.14875719623896055,
          0.035608086600719235,
          0.21525077119001312,
          0.2365600189862227,
          0.07025957843410446,
          -0.07454927351241836,
          -0.04222838336574897,
          0.15273135198852628,
          0.13559140949507542,
          -0.3532177559067715,
          0.1300456794792807,
          0.14057983452673084,
          -0.17911611848022935,
          -0.154674056723911,
          -0.15311065310270183,
          -0.1377303939837442,
          -0.28502775091802157,
          0.060940552431214656,
          -0.1588217132326768,
          -0.015754600697432675,
          -0.10119159008897383,
          0.04935767080016329,
          -0.20380124069356487,
          0.047375241500118515,
          0.07627836970956392,
          0.16384108356055105,
          0.39187598439895677,
          -0.4200981875300184,
          0.06238503339545265,
          -0.1435104018005227,
          -0.38668956806140686,
          0.1666482911821564,
          0.2647621432998064,
          -0.0800033755790262,
          0.04050542576522742,
          -0.01449318151180612,
          0.08516170013946456,
          0.1744293163055447,
          0.06730963365950471,
          0.0674761524128571,
          0.25026947509515207,
          -0.03461027791449839,
          0.18293508078061527,
          -0.1660779179174785,
          0.3197391558641657,
          0.1458872449954065,
          -0.08242974025746669,
          -0.4245874628971081,
          -0.0017399769054047276,
          -0.23803971523332468,
          0.05824908715677468,
          0.2885559310809205,
          0.03033412508012312,
          -0.037280356344079446,
          0.06676324731999705,
          0.0554522057428003,
          -0.4742506551696243,
          0.04650953933492785,
          0.12237763774436461,
          -0.05354616033771609,
          0.1940339821489272,
          -0.027212748395774033,
          0.15172191901690724,
          0.45294318793325616,
          -0.020956059284469086,
          -0.39010426666282416,
          -0.06899617829429644,
          -0.3468558344371888,
          0.12056973180890462,
          0.2601923613274435,
          0.1374980988643334,
          0.06238380907007923,
          -0.13066292498412624,
          0.3134521157141208,
          0.148977408920689,
          0.055216077866735325,
          0.039294230330139346,
          0.020647638250826383,
          0.08876545131270741,
          -0.12434326929149547,
          0.30337215332150946,
          0.028790117095613965,
          0.11833305661532545,
          -0.08839128901306004,
          0.07330587323551074,
          -0.45802831874047073,
          -0.22533760917080636,
          -0.007960464116467225,
          -0.26617245549050816,
          0.48620497929385875,
          -0.33529409626105244,
          0.06750231632801285,
          0.3294767972156589,
          0.09457957840324227,
          -0.06372334415544961,
          -0.11210665024573174,
          0.13297326427535405,
          -0.161731969687684,
          -0.025575055440925643,
          0.13656188766444133,
          -0.06325363879443491,
          0.01582416855856794,
          -0.06249509198897679,
          -0.19563735418054812,
          0.2361522634652541,
          0.2769354146374239,
          -0.06501782425984587,
          -0.054793065214891135,
          -0.0372577012751491,
          0.10608282124598156,
          -0.18273788652748063,
          -0.01938289458969278,
          0.05091397755465443,
          0.12673059639827455,
          -0.5578452884554587,
          0.07900280843452778,
          0.067491518904642,
          0.19986781386075203,
          -0.10693063652331386,
          -0.10534847453298807,
          0.23882548385476587,
          -0.31430917470901654,
          0.32414022479710525,
          0.5095010583663906,
          0.09381250346180237,
          0.16114186123614793,
          -0.29959417489904355,
          -0.14058979081868928,
          0.2098946759552457,
          0.07068523591727205,
          -0.0379633260845289,
          0.044895992988734146,
          0.09971746338487864,
          -0.06029697369658149,
          -0.007467022474522467,
          -0.008939308438961624,
          -0.21213362976136257,
          0.06304109211264552,
          0.3590393494434434,
          0.3447145925580637,
          -0.2969576926495265,
          0.11244841049617271,
          0.13342292270197986,
          -0.08377992604390305,
          -0.19451784042165365,
          -0.2658406963135044,
          -0.09061858924918098,
          0.06832399384226784,
          -0.033289468632625996,
          -0.12386445113180627,
          -0.25150915974935467,
          0.06846541819848462,
          0.21163065591471641,
          -0.18706222788607307,
          0.08800795935057004,
          -0.3775728822612549,
          -0.13317105526742307,
          0.1442429904239776,
          -0.22523127535709897,
          -0.12256517844166093,
          0.2819155322081651,
          -0.14824662952968315,
          -0.17246679732502757,
          0.11349183890695969,
          0.38926887915188413,
          -0.04961182293799843,
          0.1520693385845453,
          0.26747600254382653,
          0.06343259909693966,
          -0.05566141371618677,
          -0.176943181204272,
          -0.28672002566338767,
          0.22066251554158667,
          0.034513595669202646,
          0.2648823550054119,
          0.1961072297907661,
          -0.12507193748469775,
          -0.23905517345924565,
          0.08085608310820858,
          -0.12817921034741814,
          0.07365999472096962,
          -0.1479082210114564,
          -0.17392288411862955,
          -0.029875995387317555,
          0.18514229060242204,
          0.05963014558354074,
          0.23399719625518167,
          -0.24839017409022018,
          -0.21309326178563437,
          -0.01951057331123779,
          0.43146244317943905,
          0.13317938923329997,
          -0.21500038188812054,
          -0.01690592407071634,
          0.04246512468107699,
          -0.11541498259137639,
          0.12097716473212639,
          -0.03296706111213593,
          -0.06154397712110887,
          0.2503735239593212,
          -0.34361001391123175,
          -0.19403890183611344,
          -0.16513962976733076,
          -0.17121404747891433,
          -0.1474284425374498,
          0.09601735809898937,
          0.2176287322028947,
          0.18153041865200303,
          -0.2055902587849765,
          -0.02316141319314946,
          0.08877520921579007,
          0.04632275697791388,
          0.2594716464226723,
          -0.13674468058797673,
          0.029586050740989855,
          -0.08032397646039241,
          0.04853717033872995,
          -0.21745721601711399,
          -0.18746537767068971,
          -0.14770000543687212,
          -0.11441169571018406,
          0.307906819647378,
          0.23340254937991156,
          -0.04420776762196338,
          0.03290882536272621,
          -0.32056503710125434,
          -0.03753630278946757,
          0.030245109183170804,
          0.2274590092010701,
          0.06368311045581831,
          0.08490017827593577,
          0.05787474447091778,
          0.05212240445525096,
          -0.28102966866616985,
          -0.0850293671472348,
          0.2852995262291338,
          0.16310145504267426,
          0.09716906633385347,
          0.011665228365637326,
          0.13021044566995776,
          -0.19065571526973724,
          -0.3176897458819262,
          -0.0780951439261684,
          0.10590677806558091,
          0.01988814297454755,
          0.2011139022898153,
          0.06861226983291902,
          0.007290605763693669,
          0.2638191573239528,
          0.22479732221231874,
          -0.02129609372306318,
          -0.22228780568239026,
          -0.18315013193027752,
          -0.03396806113600542,
          -0.07504011020966495,
          0.32987463249695537,
          -0.337704663268101,
          -0.014529390857017266,
          -0.21492313095882165,
          0.021682540303435527,
          0.07477513309922745,
          -0.08265722836195577,
          0.10441844925712862,
          -0.041403221580433525,
          -0.03755695603040876,
          -0.08525557856295685,
          0.12848702426714187,
          0.026022459262074804,
          0.3129700924773837,
          0.25232714188570227,
          0.10907708803494087,
          -0.43356616269918424,
          -0.2985434958873022,
          0.19557228107879054,
          -0.09680554538418623,
          0.04529091805648355,
          -0.12777291347911968,
          0.10189949262407427,
          0.1899201553397264,
          -0.24360338139629817,
          -0.16439211857668234,
          -0.3344235161455172,
          0.04500362888657927,
          -0.33473391764513943,
          -0.07489417245890284,
          0.10224439582738576,
          0.4099407534558175,
          0.0720058349783157,
          0.24889911491580985,
          0.05015393503277843,
          0.06017084839782827,
          -0.04386241303381355,
          -0.07833186005990167,
          0.23319779682936448,
          0.07325703708581865,
          0.06558143549773654,
          -0.123312885565388,
          -0.07068617976486219,
          0.4118202631166372,
          -0.015178199564829797,
          0.26355577843922506,
          -0.10572817574599064,
          0.15863100083048165,
          0.056281286289947774,
          -0.08242045454780178,
          0.12803474622972177,
          -0.3103666152576697,
          0.11324645230505892,
          0.1557028109031543,
          0.05293680414336377,
          0.26050690582159675,
          -0.01529792441788852,
          -0.031505670409405884,
          0.06933007234242528,
          0.17186341706485997,
          0.11229026941132236,
          -0.047000448411694706,
          -0.20072340251490406,
          0.1310180177100887,
          -0.15959208833380278,
          -0.16533290707122794,
          -0.13260646868771359,
          0.009863927872222122,
          -0.16093712633727575,
          -0.22881544083618088,
          -0.13344622237073167,
          -0.03834419557135543,
          0.08917906014984023,
          0.011775548673573444,
          -0.21777025252894983,
          0.04405459283503654,
          0.06287327080002525,
          -0.09267047156208513,
          -0.16092704524476742,
          -0.16100386429165092,
          -0.10804029684828537,
          0.44117057380800007,
          -0.17949231523728404,
          0.05152199995660123,
          -0.14449835275375855,
          -0.10287445663623873,
          -0.14290512135845523,
          0.15856264370213968,
          0.07414373222948645,
          -0.02754659370733553,
          0.0989091558507792,
          0.14701530557559328,
          -0.17182084275947596,
          0.10777264915743134,
          -0.14520417036349742,
          0.16590921195952968,
          0.14636186239813576,
          0.07906277666018069,
          -0.043663101723981856,
          -0.10689968610339473,
          -0.05440357321379369,
          0.15215311933153142,
          -0.1381440426127108,
          0.008256414514893784,
          -0.35120366734352865,
          0.0503970982256855,
          -0.20878351696336483,
          -0.26530517984618535,
          0.10206514290895363,
          0.040389672547587185,
          -0.09035333140877622,
          -0.06209696863303621,
          0.45252892001216405,
          -0.040506692083768114,
          -0.041921039134692695,
          0.1287832223517742,
          0.015764633974496123,
          0.19580785647234,
          0.05381192689725378,
          0.1505399950285018,
          0.0869882491177919,
          0.12738291948555358,
          -0.010208427448410329,
          0.042827721974646016,
          -0.055884932119292685,
          0.1191560679980933,
          -0.27088557039224387,
          0.14354942449843655,
          0.197927236565267,
          0.1466745221037693,
          -0.02249737738249774,
          0.09936800874221807,
          -0.15699356706792644,
          0.16574260930103368,
          -0.2215208915975152,
          0.11706839077073128,
          0.10485364544350295,
          0.0796677337735644,
          -0.09109456232862678,
          0.1503554131143341,
          -0.36913080599190295,
          0.15376652899441712,
          0.03660974842740816,
          0.2085139010291961,
          0.03833196350413459,
          0.3659601958727676,
          -0.19004170016880395,
          0.12020363022113889,
          -0.17887873131031895,
          -0.026955069570019696,
          0.1467966840493603,
          0.12340823176292548,
          0.4142299025923608,
          -0.07195918015187458,
          0.2555224353500617,
          -0.05253787090521311,
          -0.1418578511361145,
          -0.3262685457625796,
          0.030856291701255367,
          -0.10593895460240033,
          0.1678256404866061,
          -0.10735798446606115,
          -0.09699814499556364,
          0.06925322180701299,
          0.34256532614870383,
          -0.21940780966640439,
          0.20184472746722437,
          0.17314322647989921,
          -0.04586702755286154,
          0.13340542352449336,
          -0.058533118744670154,
          0.4725998573258753,
          -0.024096891830190426,
          0.014404985231358136,
          -0.06683615530933967,
          -0.3403686429814825,
          -0.05430850945481258,
          0.044729560828606685,
          0.2985066908521715,
          0.09671359208013852,
          -0.03955427102571413,
          0.010310805070348872,
          0.063790239802485,
          -0.07747104519496151,
          0.13476956988139777,
          0.3233397981381616,
          -0.07430758117828207,
          0.23982821969089763,
          0.17358742736708943,
          0.10577113873159816,
          0.020707290232198194,
          0.06587894071736744,
          -0.045156468253536475,
          0.36569586726614467,
          -0.14535846463026736,
          0.22531110537801213,
          0.3082665107739484,
          -0.06630470004371469,
          0.23149155837924695,
          0.027118435767027438,
          0.010794124247925918,
          -0.01659057204639891,
          -0.32442405358765897,
          0.10790695817116636,
          0.28703251939117447,
          -0.14262191800409585,
          0.16778989813663325,
          -0.01871891193791908,
          -0.22021568847465756,
          0.19790015966478203,
          0.33552953278007414,
          -0.16052830525309675,
          0.04148250562739997,
          -0.2896249750150449,
          -0.010079297193421766,
          0.09553544708947792,
          0.3489040876895173,
          0.30983690974605027,
          0.3268218348334695,
          -0.10709622185358325,
          -0.05071084717897789,
          -0.3345389184635621,
          -0.14470893516297045,
          -0.29204367384819624,
          0.07142954584827355,
          -0.14107583443742344,
          -0.22196228744216928,
          -0.07276072065931083,
          -0.23865322466506345,
          0.060125530478351896,
          0.05521166532551258,
          -0.06482035149072263,
          -0.14781292956185998,
          -0.2695661084482882,
          0.10939348757043332,
          0.04406631450791254,
          0.09118525934531396,
          -0.06296490966970414,
          -0.04526253459545515,
          0.28672199627608586,
          -0.12179480657896213,
          -0.06420663799079157,
          0.1471005830938551,
          0.05890442583195121,
          -0.4110022748924745,
          -0.3392551794855083,
          -0.13384408680119364,
          0.18038209940989858,
          0.13265678205736198,
          0.10222683867082238,
          0.12387098578799005,
          -0.1954667844036792,
          0.1185315851709361,
          -0.1859345728236833,
          0.18778200687524638,
          -0.10379086032198942,
          0.05464738214216125,
          -0.37657751422297814,
          -0.2714556159202518,
          0.21645765409834106,
          0.13667094055820728,
          -0.2452651881433346,
          0.2554405110036252,
          -0.21983471924280318,
          0.002314387301691756,
          -0.0976979578524052,
          -0.18636087280339886,
          0.23191027882854098,
          0.3353184656456789,
          0.033977009940356684,
          0.303521949893359,
          -0.05792084411705389,
          0.019983886197296186,
          0.024620017799748983,
          -0.23301961120391912,
          0.09821354501333146,
          0.1402607945532991,
          -0.03637256040744008,
          -0.3400280671017433,
          0.07186326539504073,
          -0.3046805363092313,
          -0.16393180020632903,
          0.024606425010888278,
          -0.15561032634392546,
          0.04905749662986025,
          -0.04691988445847067,
          -0.3277771356273857,
          0.031916478736527254,
          0.11563810257813345,
          0.2008022150832015,
          -0.07499144843256378,
          -0.013974569226215983,
          -0.3006995673471349,
          0.3913000475886834,
          0.2993238043907621,
          -0.008044637001884958,
          -0.02664618800816565,
          -0.5877224023527701,
          0.20537467910337504,
          0.1108944027522828,
          0.16088454062019886,
          -0.0827274645390601,
          -0.09556359849184803,
          -0.24876156264324145,
          0.15392411255782534,
          0.24875294226051803,
          0.2230987418734346,
          0.03577368172249584,
          -0.06700817391268016,
          -0.21207191815239546,
          -0.14202793740534558,
          0.09183226124782973,
          -0.058588508559349384,
          0.32660300346792903,
          0.22879337268569078,
          -0.122039659902406,
          -0.24481024634617543,
          -0.11136150203340822,
          0.21139875580812428,
          -0.10646231510351856,
          0.1075197635541254,
          -0.11485385732460923,
          0.06695499792551407,
          0.10395056119142132,
          0.19548881563773457,
          0.28497019263677525,
          0.2603679534824124,
          -0.10771213531372881,
          -0.03108158070798328,
          -0.23638285252084423,
          -0.04881489098606806,
          0.0031855954937436426,
          -0.0824698204650609,
          -0.10239474716907593,
          0.20473820207131732,
          0.1798187555389752,
          0.07814657609123421,
          -0.2571799541917652,
          0.038508346420872086,
          -0.07852414766717547,
          0.2614676586802436,
          -0.36213598281384685,
          -0.1134425717391041,
          -0.11900789512988807,
          -0.09499263987115525,
          0.18983791622025303,
          -0.472149515714545,
          -0.04328826872515085,
          0.16846630134431817,
          0.19434566772249728,
          -0.1114934055871879,
          -0.13763346334759213,
          0.06756488121536686,
          0.028529504570969255,
          0.012202789526276625,
          -0.761953472851373,
          -0.22711227445980153,
          -0.17432244604887615,
          0.12692413891263243,
          -0.28982977441298907,
          -0.21100334565126477,
          -0.03255463466565506,
          -0.2591968688351452,
          0.1268929475570184,
          -0.07995856944089608,
          0.3649033529796888,
          -0.12762157689095238,
          -0.11693447411248759,
          0.15920982437468711,
          -0.1327452188124707,
          0.3006358306092598,
          0.09490515497527685,
          -0.06245382136793726,
          -0.03383743289459029,
          0.5684637139443431,
          0.09605303832041545,
          0.028417569709111246,
          -0.028193184515852177,
          0.20575457305687817,
          -0.30534309623902833,
          -0.03791543807253922,
          -0.5684093246818752,
          -0.10835935866150814,
          0.16790752910296414,
          0.27476833429186875,
          0.11951621415683311,
          0.1263158848203736,
          -0.34485813147010097,
          -0.13735259575816133,
          0.2932031697032499,
          -0.1064498355760008,
          -0.028874313897797876,
          -0.16279023075071108,
          -0.18842813057722352,
          -0.09573167877511557,
          -0.13388902666460456,
          0.18982252568419367,
          0.04139608609868406,
          0.20209893180952876,
          -0.27912533414459356,
          0.2434127961616367,
          0.0026134113298063033,
          0.36619184334601407,
          -0.012233061151304514,
          -0.3003581964117588,
          0.25516629209559283,
          -0.02897548110388115,
          -0.4321008494125526,
          0.027361102794766112,
          0.04456779169244918,
          0.21354471518654905,
          -0.7191765997220663,
          0.22809606154308437,
          -0.0965971844275681,
          0.38357174810499717,
          -0.3453340336473066,
          0.10738994690496906,
          0.08066593267187872,
          -0.08610077953129192,
          -0.1564390145009103,
          -0.0764268390213953,
          -0.07102189159166322,
          -0.2523654347667126,
          0.1969206005310743,
          -0.22011790276559418,
          0.20296036207682677,
          -0.3594647465293593,
          -0.03711578951754968,
          -0.034139140086334174,
          -0.004836707867886314,
          0.1895813424566869,
          -0.04214727747072683,
          -0.09326371553591462,
          -0.041543350451319294,
          0.19452353763477503,
          -0.24279922310611346,
          -0.2058115334404672,
          -0.3930174839638309,
          0.40377190569810606,
          -0.23362677913566565,
          -0.37876416465352136,
          -0.1634576612082579,
          -0.1241688830895456,
          0.2914133667689057,
          -0.09465767859423513,
          0.05667602266270044,
          -0.3598337944242208,
          0.03991886487715979,
          -0.3314370824230237,
          -0.0643968432457469,
          -0.1536520296757613,
          0.009976465954111058,
          0.1252039077485514,
          -0.2688570236387997,
          -0.22896151912365958,
          0.03703996770974172,
          0.13577930868132415,
          0.2817972055397845,
          -0.09605617954971107,
          -0.29997356846135376,
          0.03564731043294245,
          -0.16060657705676612,
          -0.1865618729924709,
          0.2799575813938826,
          0.12206552853825003,
          -0.14729340633444132,
          -0.005420140547506169,
          -0.018813231103356476,
          0.03134129008758346,
          -0.08286575615075598,
          -0.38169033900658406,
          -0.19694786848029344,
          -0.10807715053013323,
          0.0039445197740700655,
          -0.21813670591520473,
          0.03557915409964152,
          -0.07793212571599034,
          -0.15357285385714015,
          -0.25573305827206,
          0.08762044979911487,
          0.08317084368542116,
          0.1583663428786215,
          0.10817981164687884,
          0.12314905747972704,
          0.07473789045285162,
          -0.3533597691992665,
          -0.05750160936844528,
          -0.2881543258305544,
          0.2721645816194318,
          -0.004480578420458181,
          0.2522733356178636,
          -0.20774229183597193,
          -0.02005167665771157,
          0.050997016462603906,
          -0.06785826259987748,
          0.035880046470809446,
          0.29475485786250166,
          -0.20806051807903514,
          -0.5292623309368505,
          0.3184469943874899,
          -0.16001028080688695,
          0.22282210576534256,
          0.12870482657499016,
          -0.045015193085718996,
          0.07439112444969631,
          -0.2297846863518732,
          0.015501597399383171,
          0.11713020747790193,
          -0.1565443787464802,
          -0.07773605290151087,
          0.06084087047108977,
          0.26297690845174926,
          -0.0023088014537298585,
          -0.08780980240096858,
          -0.03096098838606498,
          0.2303573559219011,
          -0.12998030064546584,
          -0.061724312900347744,
          -0.12812998912614582,
          -0.042541140434623315,
          0.041061286988379186,
          0.20509780682504886,
          -0.4265928904279539,
          0.10941994967323243,
          -0.1799958099592045,
          0.11693616754688796,
          0.24624916438106625,
          0.19744116892079033,
          0.029913922552610828,
          0.16522195331263856,
          -0.1903546207573108,
          -0.015243850638788692,
          0.3022163858570226,
          -0.15952893943444646,
          0.03777599952870725,
          -0.07551290793473486,
          -0.04069952752169248,
          0.07953640555012753,
          -0.05558161452185589,
          -0.002359662786800998,
          -0.10259448740166699,
          -0.3666834985133606,
          0.03694099216657565,
          0.0862161738510725,
          0.2747568593616354,
          -0.028050926106582164,
          -0.2806195397610485,
          -0.15247947229382325,
          0.10640063558867163,
          -0.018583735605789742,
          0.054180343352578264,
          -0.07229386117671766,
          0.37228394933705955,
          0.3439197687771238,
          -0.18799695856983234,
          0.18012836514299557,
          0.059134644483782695,
          0.0010340715787595656,
          -0.17361543134801083,
          0.322628293210355,
          0.23137383475397044,
          -0.2930978440030018,
          0.27502042817268935,
          -0.009353487549651651,
          -0.12123594828774259,
          -0.19699338639472774,
          0.18728622889297242,
          0.0783012708079267,
          -0.17650709753285282,
          -0.16389739114536506,
          -0.07918245420189451,
          -0.1041790426072513,
          0.10387822895135068,
          0.07406956513758722,
          -0.12880781405126973,
          -0.3331797184341595,
          -0.26847768684912626,
          0.1723332682869153,
          -0.2006399281873688,
          0.02054920629494439,
          -0.35430934023959426,
          0.07773413365342619,
          0.38222744763502914,
          -0.2672912796795918,
          0.10826162034376985,
          0.052814553143747056,
          0.1818989557516535,
          -0.027925897346307127,
          0.0528871549338783,
          0.034716992150719106,
          0.1128907303149772,
          -0.16950037448390387,
          0.03681191879772405,
          0.16038728601773045,
          0.23192028480574756,
          0.09746794962556027,
          -0.2280691402714311,
          -0.3123934685831887,
          0.08004727868894723,
          -0.20400658411375616,
          0.1671890877380009,
          -0.0592347061913987,
          0.2006453551994214,
          0.4234854914425833,
          -0.014142368517482018,
          -0.02487791077296947,
          0.20102075636138106,
          0.21110317207876372,
          0.33864380014337425,
          0.03763609038405935,
          -0.12825122514763965,
          -0.00013510202833588725,
          -0.12640367210312742,
          0.04628410720656706,
          -0.1753257710525693,
          0.17872345778447984,
          0.13782019743841345,
          0.026128827304358726,
          0.0034374758720134846,
          -0.040966417115399834,
          0.26077320722515207,
          0.23580566305874795,
          0.027465537436380916,
          -0.17300780890037382,
          -0.23704749731709712,
          0.05584630912837241,
          -0.1292902209624538,
          0.09350894099604967,
          -0.07901694095312689,
          0.15307303836854746,
          0.039805215416599316,
          0.1979327789111761,
          -0.4484588839380332,
          -0.04708788264414793,
          0.44167979317419226,
          -0.5023100358265623,
          0.16685260997785778,
          0.08192291467461366,
          0.25546237739067235,
          -0.03639619258430038,
          0.23639305433140112,
          0.2417033273485808,
          0.03767818506111409,
          -0.23448020915307133,
          0.18092307333720137,
          -0.1963652325362088,
          -0.029153147592057338,
          0.1877038153533307,
          0.216735707818965,
          -0.07126962812016979,
          0.12371875379558128,
          -0.31018515625626897,
          -0.09615401373305671,
          0.292105945705581,
          0.2669997760900473,
          0.13216493380398275,
          -0.030044730640882367,
          0.16777422985006063,
          -0.006323471886732213,
          0.03196788801950479,
          0.015998748202047275,
          -0.15678189469153458,
          0.1435071287847005,
          -0.21566728559419657,
          0.15349113735877695,
          -0.19379832759355853,
          -0.14609297665867182,
          -0.5698473046398298,
          -0.03289452382751418,
          0.03615996150669698,
          0.16373666813151866,
          0.26049736846056115,
          -0.2997205190450612,
          0.1952876639368044,
          -0.09448468419920608,
          -0.016089853120701048,
          -0.022731504593659135,
          -0.09158076764311346,
          -0.17966004485576148,
          0.05416550956362287,
          0.16055117545205522,
          -0.25363217603117344,
          -0.005569584753839174,
          -0.12748028441651538,
          0.21750652208454246,
          0.0970380759097611,
          0.3000631894058965,
          -0.31143083376900177,
          0.20516148659305744,
          0.030855248618539943,
          -0.14671252343822838,
          0.0961628652325659,
          0.3115288210863303,
          0.3192449914554085,
          0.1627658073721464,
          -0.19999877064335037,
          0.06029485720533212,
          0.06680668173682269,
          0.24672549104955088,
          -0.03465286928314981,
          0.001436523124000999,
          -0.13237957206539275,
          0.13193963064823522,
          -0.044759931309944934,
          0.03551788427194302,
          -0.09558783605595322,
          0.007770089267308822,
          -0.2177604344745736,
          0.030499999885914786,
          -0.12219287832470443,
          0.13818787740647387,
          0.3678128502217306,
          0.16746241494512004,
          -0.22566233624589788,
          -0.07353717665887544,
          -0.32361685030266807,
          0.0010361788992205856
         ],
         "z": [
          -0.26995129981260135,
          -0.05344622682272254,
          0.19395526059539508,
          -0.03674405194009911,
          -0.09741434443895416,
          -0.2699914026958752,
          0.018555378442978887,
          -0.09913605557320454,
          -0.26089934943283244,
          -0.12966662892585606,
          0.003224302023688952,
          0.18425663092149402,
          -0.1040854675729217,
          0.07859701197388885,
          0.018155985808787467,
          0.04895135410287449,
          0.18147876925513395,
          -0.03478630357906071,
          0.12119705458148217,
          0.135883062471157,
          0.1121895098420419,
          -0.03560657430407199,
          0.019807717359500043,
          -0.02381426066259479,
          0.07114118624589477,
          0.21482672280423576,
          0.1540523194306403,
          -0.03303568123143963,
          -0.06963887418850095,
          0.10451489859684782,
          0.1741460598587119,
          0.02960993685473834,
          -0.04768057103328993,
          -0.08708522267846613,
          -0.04627347327088538,
          0.10625038206777293,
          -0.017364467639894077,
          -0.1330337070628268,
          -0.1092683171012899,
          0.13637667518132496,
          -0.05831111879302919,
          -0.030442740873546814,
          -0.39981126558639524,
          -0.21823307187047197,
          -0.20709466941696955,
          0.05237386638647318,
          -0.10300831954462716,
          -0.09159124367539223,
          0.06716511567108102,
          0.06234886788608268,
          -0.16354425804840797,
          -0.07196685161600239,
          0.05262300759648397,
          0.22268428601593204,
          0.23764981276389818,
          -0.2556336368095553,
          0.043582112780480464,
          -0.07400329315858706,
          -0.25544658237412404,
          0.0023335392282435863,
          0.31028352110699575,
          0.015212581923179758,
          0.23519358774968746,
          0.039252355457651766,
          0.027806634605165415,
          0.009546693064991174,
          0.006401926470590624,
          -0.07596002951983286,
          0.3582152014243355,
          -0.02336119381037921,
          0.18763620219393107,
          -0.0049601487153675405,
          0.29962075863833315,
          0.3406494329768752,
          -0.061284464574191955,
          -0.273326418459463,
          0.014150452875521968,
          -0.06905686457122534,
          0.051323082635989226,
          0.14427328370125975,
          -0.053651692626642294,
          -0.10122805414518743,
          0.06699021766487229,
          -0.06714368719215702,
          -0.46715407840234624,
          0.037766564579552575,
          0.18823852666220697,
          0.03231431442613936,
          0.11487230269085535,
          0.023059628383237385,
          -0.07399986611649656,
          0.2010299145287494,
          0.15433028588020437,
          -0.1159555386308681,
          -0.11376755109343306,
          -0.03307517670159038,
          -0.0011095613992713749,
          0.0719665594664829,
          0.23530668594653026,
          0.16696521436322542,
          -0.13788004299328288,
          0.18096408365510785,
          0.054632235428468956,
          0.084090914030795,
          0.1792893838998929,
          0.06461295190808253,
          0.04096498876345622,
          -0.21136471848180094,
          0.25906372261250143,
          -0.10699546104000643,
          0.05101834880470374,
          0.04252294214909813,
          0.12365336922642428,
          -0.19165648487411924,
          -0.06571436910792516,
          0.008965341626097134,
          -0.13132215049023893,
          0.2997189583270934,
          -0.15275463828500407,
          0.09179843588344594,
          0.20984188538455129,
          0.10678632388940401,
          -0.10765523146741723,
          -0.09852229910806959,
          0.10278745869233863,
          0.09413840645288374,
          0.037029885390339135,
          0.06775181145651316,
          -0.060701531634118566,
          0.0825611270948644,
          -0.04883315056496024,
          -0.055315910377395694,
          0.19138633080677941,
          0.04073489345191528,
          0.007712806796082605,
          0.012869053024801735,
          0.055971222431685785,
          -0.019986634525701874,
          -0.000331973085162085,
          -0.029533456506544375,
          0.22787019046995594,
          0.25034821171121246,
          -0.39576438361348204,
          -0.09033208599868622,
          0.10954151446726018,
          0.03678496632623718,
          0.04985456237486541,
          -0.01030774084426378,
          -0.003220980626838732,
          -0.11130466632260977,
          0.20734994606421553,
          0.34607046206998904,
          0.20683345817526544,
          0.08155520878589778,
          -0.10557769539972081,
          -0.14510354670424178,
          0.06787705588868392,
          0.019266414891129457,
          -0.08500135195855901,
          0.08262626948644186,
          -0.07351252950631282,
          0.04564858133555583,
          -0.08156422669428653,
          0.0318179852066201,
          -0.24663568249733886,
          0.08404726832300885,
          0.32372698697026026,
          0.20613728639852236,
          -0.024270426059518457,
          0.0523021026033651,
          0.11954956324673083,
          -0.14387129584494113,
          -0.07432367279057653,
          -0.2172861732693658,
          -0.12718000388779843,
          0.19887634416278177,
          -0.14782290672183732,
          -0.08717382215717295,
          -0.0808730118842296,
          0.06355875784832798,
          -0.0587097998002577,
          -0.05198222675948294,
          -0.08526947902858725,
          -0.27209585633311406,
          -0.1056676542468522,
          -0.20800294109556433,
          -0.14706974450193347,
          -0.008549772528576471,
          0.15091641149061052,
          -0.07123161638839198,
          0.12179335182503126,
          0.17960957528572935,
          0.2386080879729151,
          0.2278465478735089,
          0.026711141514285774,
          0.20950310877156741,
          -0.12077597748243146,
          0.005357871284022653,
          -0.11852326724957313,
          -0.16709502702947474,
          0.1688560643374461,
          0.04733811514589292,
          0.05197553949175604,
          0.07873123181713881,
          -0.0754524459992551,
          -0.28748623311702826,
          0.12770711098737092,
          0.10981994996853695,
          0.07348165821071745,
          -0.1423606095649037,
          -0.33521002216972307,
          -0.17068017955214998,
          0.14383176367900052,
          0.1601605211223074,
          0.11697684871859138,
          -0.2978024859584541,
          -0.21543241705170113,
          -0.06971901754871579,
          0.06415438243982641,
          0.047841626528907666,
          -0.04152652506491089,
          -0.17966447869559768,
          -0.03164362303248608,
          -0.2729079716164279,
          -0.009766244886777575,
          -0.03644744567488245,
          0.06366340505932011,
          0.19395859439511864,
          -0.32626476097161133,
          -0.10796234716783887,
          -0.1344489538699065,
          -0.10457469058088834,
          -0.10956620830965447,
          0.08797732407776526,
          0.1478704784705579,
          0.19428952890205536,
          -0.11208704933060565,
          0.1539680469520791,
          0.10453261551490067,
          0.1744936496617726,
          0.22687094423967802,
          -0.15016915492293675,
          0.14118183156045755,
          0.06862717169272176,
          -0.2588336038170495,
          -0.18652180887693887,
          0.031163406358906243,
          0.01451573403271722,
          -0.21657940862728545,
          0.2698267700935101,
          0.3128712057479127,
          0.03363464642273123,
          -0.12926136346039482,
          -0.2727473576804553,
          0.016962697000435012,
          -0.004466351298892612,
          0.26358452511593566,
          0.11039234851573371,
          0.24626408981863668,
          0.13755014260049492,
          0.08551192887050113,
          -0.20115835076460253,
          0.0883441162461579,
          0.17036785751529632,
          -0.005146624624238594,
          0.06189469899375066,
          -0.0028164257463672016,
          -0.022068560307000162,
          -0.03188976025275009,
          -0.20541613340239168,
          -0.009037825499450425,
          -0.016354257011050755,
          -0.004700782802738723,
          0.19672416057464204,
          0.014680599597878485,
          -0.0335731352480273,
          0.3764700692547518,
          0.1646341875287871,
          0.059021528876403606,
          -0.06016054526537187,
          -0.1019559999717157,
          0.03065945909429524,
          -0.1442476816185349,
          0.34145735168372304,
          -0.07915233769820113,
          0.008882728924381356,
          -0.13032208026635614,
          -0.11121235185053596,
          0.1459871591749402,
          -0.0759427675996514,
          0.12197132987162623,
          -0.16951991278751494,
          0.040173216875044604,
          -0.07021659130931895,
          0.07611720175488129,
          -0.12676179920925296,
          0.2558023949437346,
          0.08938159608758361,
          0.0598298834691281,
          -0.18024131166872256,
          -0.18824552057606134,
          0.31445870101427686,
          -0.14937069509606354,
          0.05057822922323241,
          -0.036429410304080145,
          -0.04097918965577835,
          0.12125881812122324,
          -0.16621140915247645,
          -0.07685981631863187,
          -0.15637674483952957,
          0.16652123643504713,
          -0.1726264953002782,
          0.008155858818888362,
          0.21065079483887816,
          0.08735150221056032,
          0.01599398153066839,
          0.1519958912373478,
          -0.12687703188675425,
          0.042750823199428134,
          -0.2624978892381188,
          0.022052484893334945,
          -0.009729250570794434,
          -0.0824012922688378,
          0.0899438910779981,
          -0.2414427055885882,
          0.16169873517941402,
          0.2566876227784559,
          -0.020036962927682145,
          0.2773256127223359,
          -0.0721498785444584,
          0.11814293089940914,
          0.018288419019632185,
          -0.10095677589122423,
          0.11289058856158163,
          -0.1347904806665065,
          -0.06054710073123498,
          0.0043782738542217925,
          -0.0348662545413197,
          0.15313781064951587,
          0.02343418286500032,
          0.1953873859585521,
          0.06782182511739682,
          0.08523482172125546,
          -0.005339484206986489,
          0.06817931161199736,
          -0.1225832209090432,
          0.11175448334627586,
          -0.09672688907762161,
          -0.045777678272530986,
          -0.03167403039083161,
          0.0420967408043062,
          -0.09730351584426505,
          -0.12949796098494704,
          -0.043405949281546785,
          -0.2171713485669412,
          0.048852616140904026,
          0.10355815685123121,
          -0.17847129280279372,
          -0.18472381015856382,
          -0.10246811204401549,
          -0.04933494845123498,
          -0.16923965975807836,
          -0.08446964882126984,
          -0.0672763873744493,
          0.21618328130531372,
          -0.20017116724710213,
          0.05049674954827277,
          -0.08139805930225497,
          -0.07487345362852266,
          0.0006109568461427628,
          0.11290853849611932,
          -0.01648186714352018,
          -0.05272023064463194,
          0.05222187469998357,
          0.09878932872889828,
          0.029951907227604657,
          0.2321722692603786,
          -0.13481257354318874,
          -0.003180604498933537,
          0.031846178206054454,
          0.08891261853267829,
          0.055464697947736896,
          -0.1067463394272053,
          -0.12560107001545867,
          0.12830876400576924,
          -0.021473062002956678,
          0.10694309842811939,
          -0.2750586003860817,
          0.062263814411463114,
          -0.28986851670879354,
          -0.17023098852848514,
          0.1327756068435979,
          0.171535091320974,
          -0.025136263841098405,
          -0.06350902881362475,
          0.12966518049185843,
          -0.0026533798073986037,
          0.03715892551395217,
          0.17752388299673516,
          0.03291479705701256,
          0.021846460816815405,
          0.08630802124226017,
          0.2580057960271658,
          0.024156022323973514,
          -0.004831621904360539,
          -0.03951822028437457,
          0.022316556006987343,
          -0.08729019682102218,
          0.1411369185927644,
          -0.11995983287114284,
          0.05191527513008609,
          0.11595752527490422,
          -0.06704802995319536,
          0.0179045551195971,
          -0.08016284731810938,
          -0.12396626147173764,
          0.05273666989203096,
          -0.08732546133314872,
          0.02449726459955759,
          0.055738976483525327,
          0.19548006229388548,
          -0.21159267653520003,
          0.10009871086446914,
          -0.13671998832484228,
          0.028199471656830177,
          0.02259943659359792,
          -0.011961500639059042,
          -0.1379801218836129,
          0.290423479617536,
          -0.14765837664243764,
          -0.06084621937841153,
          -0.15476460443022694,
          0.04337225372289505,
          0.1415405201209437,
          0.17834936944973978,
          0.1978466784159375,
          -0.10683386233725073,
          0.18440639209561882,
          0.06854636435570444,
          -0.1233960638939611,
          -0.10025131140536464,
          -0.016175313482609033,
          0.1389310765652032,
          -0.07221730478072502,
          0.08872516745905912,
          -0.2088726837057098,
          0.1621035982735144,
          0.2132648829302003,
          -0.17701282635902232,
          0.029257725801249745,
          0.010139782270097708,
          0.0388862823286833,
          0.12422081150417219,
          -0.05535851032396333,
          0.2796940090101595,
          -0.10253538895606668,
          -0.005525749931481749,
          0.04843199202073045,
          -0.2959567434292057,
          0.019155728828043006,
          -0.020342117975136742,
          0.026204859496861743,
          0.16206222939287762,
          -0.16249808801663182,
          -0.040718040807430134,
          0.14408495926971687,
          -0.12565635928261018,
          0.1743365534164915,
          0.1487096773514342,
          -0.054587196453094095,
          0.33174429829929686,
          0.2176154252131729,
          0.07166154038759748,
          -0.0533899671494345,
          0.041216672075363114,
          0.13650641136537534,
          0.4352153051089499,
          -0.1497592859795599,
          0.2771365225814647,
          0.025381250217068052,
          0.017448298009160035,
          0.17517143371863875,
          0.1177903202736576,
          -0.07702074579447032,
          0.003995906730391907,
          -0.3806512286432293,
          0.0013634111972741225,
          0.1701258104099433,
          -0.06578300748097052,
          0.37851691011021515,
          -0.06408449212334874,
          -0.13119529643304326,
          0.0020332838620809035,
          0.011512382095733187,
          -0.008123194411260193,
          0.11476394445770116,
          -0.31202281983672564,
          -0.17605439189531075,
          -0.007091514372911389,
          0.37494823030577185,
          0.03652766057097545,
          0.26330300056325195,
          -0.05228590798125754,
          -0.06106207359689711,
          -0.2614385890681744,
          -0.062536254744433,
          -0.20791144634399972,
          0.001593448758190008,
          -0.10743194395757774,
          -0.023169833310684396,
          -0.023134185134565333,
          -0.13738799360797527,
          0.17448013742862667,
          0.0050570773244535405,
          0.1027268700834828,
          -0.1569394553598969,
          -0.1095463839919828,
          0.032643978601105794,
          0.018760863262177685,
          -0.010478079068408697,
          -0.06960256681702862,
          -0.09866384733021882,
          0.2109526122154347,
          -0.15677404792737565,
          0.013851183182059246,
          0.3222030571082263,
          -0.12081251487328243,
          -0.48550405781145445,
          -0.302972148566482,
          -0.006636881835294983,
          0.03638115095867056,
          0.13547987075393175,
          0.15551100700831905,
          0.04825276642882176,
          -0.029238288053302697,
          -0.15577218270992593,
          -0.028166200421387066,
          0.191655557398348,
          -0.07323049774329779,
          0.13250968396434293,
          -0.08353081460392539,
          0.028526708193981287,
          0.32270443310414376,
          0.08727588805866088,
          -0.16249108038843496,
          0.14534415598925,
          -0.4020342988618987,
          0.06924041606595133,
          0.17523101094957694,
          -0.05571182262714902,
          -0.004055061614044619,
          0.10065294744041331,
          -0.0745409830306494,
          0.34574905887382634,
          0.015170146223380976,
          0.07438196572293643,
          0.049767131109641594,
          -0.2520135242960524,
          -0.03583361816913677,
          0.1514247094441708,
          -0.014277956773360578,
          -0.39070249576470445,
          0.1198253018204331,
          -0.042143305512517215,
          -0.09770183836632215,
          -0.01705925067405667,
          0.04161045535988217,
          0.009153162703507134,
          -0.09039690653378996,
          -0.3510378959543562,
          -0.030925071816180205,
          0.25493125174631504,
          0.23664860828504752,
          -0.033940119765928756,
          -0.009230429251343986,
          -0.08188274722052347,
          0.24380390588175693,
          0.05209203801328832,
          0.009748749280472424,
          0.0006666315248458621,
          -0.35280974343105204,
          0.14723820469979754,
          -0.003180528081906442,
          0.11112253828428897,
          -0.2114511683760197,
          -0.15000812117360685,
          -0.17455816927334475,
          0.15060036837869584,
          0.11886026736759203,
          0.17766742823034226,
          0.12425629441062613,
          0.20082779369014914,
          -0.1574295092403333,
          -0.1496375129869578,
          0.05804793310683659,
          -0.01615687003742533,
          0.24918419874719033,
          0.21668317875795184,
          -0.10192703062557534,
          -0.07596840300220964,
          -0.05894746006077986,
          0.24809194773129106,
          -0.09261108261518203,
          0.07730248477228624,
          -0.0421935077719755,
          0.15259446229608897,
          0.06212387267343017,
          0.011971123954275187,
          0.0006566829962475484,
          0.2586385922599427,
          -0.0014434346168480383,
          0.14749178642345195,
          -0.13324344498438143,
          -0.022329244774903834,
          0.01915654232421038,
          -0.10434665211567823,
          -0.13311218378548118,
          0.16629850556328463,
          0.22460269613469963,
          0.10602937271003504,
          -0.20339995119432153,
          0.06512600634129295,
          -0.030130722232771745,
          0.099393147332068,
          -0.3407073589971753,
          -0.15283407015505188,
          0.04667597191011441,
          -0.033037939359894686,
          0.05188927667013382,
          -0.27545266976515237,
          0.033695031703448564,
          0.04587603462975859,
          0.03786289032638118,
          -0.24518742358455994,
          0.024316786314964978,
          0.0977756505505536,
          0.08367044034597432,
          0.06123920841637975,
          -0.6608852586995312,
          -0.12583756476389188,
          -0.05969296388246853,
          0.08166412446209098,
          -0.4104167108250947,
          -0.13901155772437482,
          -0.04628803332968434,
          -0.053220586682642734,
          0.06430063048455614,
          -0.10158845158904581,
          0.16558983432912544,
          -0.0046469032661602405,
          -0.0033890237624196184,
          0.07241248254644317,
          -0.12041828212825487,
          -0.051067888032260644,
          -0.14776390424089297,
          -0.12212268289012781,
          -0.03547897011671736,
          0.2608752710657988,
          -0.09610558391061413,
          0.012384105830765268,
          -0.02087094842058268,
          0.25381279929960787,
          -0.22049705609517123,
          -0.04759019017570165,
          -0.4137709330061841,
          0.1947050584635065,
          0.1641040327639327,
          0.08199944331438569,
          -0.12531153795909994,
          -0.053075343734000247,
          -0.2999901697517337,
          -0.22049341928097238,
          0.16377255935875284,
          -0.1668200607543302,
          -0.17881395721807478,
          -0.03455034536860263,
          -0.26913664326457043,
          -0.31280343636003805,
          0.012882926124153704,
          0.29213412626509727,
          0.028394668411776347,
          0.18922955205652786,
          -0.10127825900304199,
          0.3803749966879839,
          -0.09891750379843206,
          0.17346528745471346,
          -0.052041125086559725,
          -0.1751592454706786,
          0.13147894747188943,
          -0.02713429769814435,
          -0.24694866088268874,
          0.2131289919419791,
          0.053115823917215144,
          0.20999796471542276,
          -0.36664519852647537,
          0.17213521866884235,
          -0.0849638685577302,
          0.3091128250995261,
          -0.38279239266260867,
          0.21798315361454101,
          0.11416424417504756,
          -0.04319532674603083,
          -0.09516790378115184,
          -0.02464845104021607,
          0.03758697221295482,
          -0.10567216446702998,
          0.2546509493385012,
          0.03811749406304554,
          0.2305764869837591,
          -0.3646786283854566,
          -0.07607077608868598,
          0.07589909683339319,
          0.2087601782749382,
          0.05395088605655113,
          0.03357933273718766,
          0.06600357733588325,
          -0.015832506044695382,
          -0.0064776415880699045,
          0.049016167610618666,
          -0.2112256233847169,
          -0.31030537146212006,
          0.2683344934287215,
          -0.13520674766169288,
          -0.32069018342012073,
          0.06831257204918267,
          -0.02233707395084439,
          0.2646154897314238,
          -0.061678129750838695,
          0.032478020128791085,
          -0.08437212602187011,
          -0.02921538226713255,
          -0.23335460958787085,
          0.006736323052273563,
          -0.002790950173962803,
          0.094245993949028,
          -0.01945431502753381,
          -0.27099342978933166,
          -0.22325757838943638,
          0.10928554225099296,
          0.16863217308116135,
          0.19995932510827297,
          -0.028982858684821367,
          -0.34616666546724617,
          0.05218715937074775,
          -0.25481008080919065,
          -0.029595814226043515,
          0.13596678663817674,
          0.09698989329482377,
          -0.11116812294930017,
          -0.011529563780908303,
          -0.12300480133408367,
          0.0005814020934305497,
          -0.056123841316234935,
          -0.2097702503733996,
          -0.06582073920609346,
          -0.01716318019026325,
          0.02824686553707284,
          -0.19653854503445634,
          -0.1100668883925831,
          -0.14876950509290143,
          -0.1741672538370589,
          -0.07066108947223337,
          0.15817746589862647,
          -0.03191553608829639,
          -0.02366942486571133,
          -0.0989820244266282,
          0.009206153397628092,
          0.08538087585887788,
          -0.32313345037991204,
          0.08244455932147698,
          -0.13583706855361208,
          0.2691046796023907,
          -0.08332107561807311,
          0.22059156215335174,
          -0.236737197042181,
          0.05616727629248941,
          0.17269783599027877,
          0.10096620797623879,
          -0.03189932656857225,
          0.08740364862139893,
          -0.1425421703208316,
          -0.16268719917098112,
          0.05298826956731317,
          -0.2477104221052244,
          -0.07226727009275788,
          0.08507942786437378,
          -0.19836035700669144,
          0.16267863452989428,
          0.024502279409733485,
          -0.00531899308939926,
          0.3077584801804104,
          -0.0711237165730717,
          -0.09877771477545194,
          -0.015847476580614583,
          0.30006382099918105,
          0.07637666790132813,
          -0.25617768094934956,
          -0.20843461896803006,
          -0.0100724251283979,
          -0.138260549016533,
          -0.16800692055654332,
          -0.1555525163179745,
          -0.10936723610435317,
          -0.08832462792383777,
          0.33320704960848957,
          -0.11428505263173117,
          0.24293436435581284,
          0.058522542759439466,
          0.061933118635017326,
          0.15891980094920044,
          0.025250811086807157,
          0.03200258355846458,
          -0.0027536377279502866,
          -0.27448593574858937,
          -0.0862292016923604,
          0.2674437952287182,
          -0.08735961477502668,
          0.08182654673374867,
          -0.045330911947434493,
          -0.11758518528544654,
          0.09911591145446041,
          -0.025961875292272563,
          0.12897533125350175,
          0.07299776777746692,
          -0.2505913355954399,
          0.03257539510930402,
          -0.03952424846903124,
          0.07851853732279601,
          -0.07623289881193138,
          -0.11956953726380187,
          -0.14480899014711238,
          0.21801572060158458,
          0.03493293188291813,
          0.003942097810390011,
          0.05770481725021248,
          0.14885613481788773,
          0.14177414010097739,
          0.021451522445270044,
          -0.023733432215221062,
          0.019235179003359415,
          -0.038337604581827944,
          -0.17842623329087265,
          0.2906178481350742,
          0.22457324625306607,
          -0.10938727844278606,
          0.16604862996464786,
          0.05721796971019738,
          -0.2738344406024524,
          -0.16009517114930585,
          0.11518762779930725,
          -0.011324821290850662,
          -0.08837048699006805,
          0.1386337305140346,
          -0.038254136793901106,
          -0.02235470270594342,
          0.080923646762536,
          -0.07659955112342953,
          -0.227010396154062,
          -0.3639761278959935,
          -0.13389631508196712,
          -0.10136518148548201,
          -0.05788732001756397,
          -0.009130987628259979,
          -0.16950305870412122,
          -0.08609890047642663,
          0.3837892784893674,
          -0.16740109400983688,
          -0.12548918688312066,
          0.15470805675615862,
          -0.019257317456622736,
          -0.13976258458881352,
          -0.08813549691753758,
          -0.011422326902920887,
          0.12479073436459626,
          -0.04739234611092946,
          0.27406989027401896,
          0.028936144395249497,
          0.09217171986110123,
          -0.07831047904568542,
          -0.24693834233115813,
          -0.07666644991713673,
          -0.0038767720366333913,
          -0.07918418115964904,
          0.10142795297241042,
          -0.141734866943498,
          0.03641980375223247,
          0.06667761613161977,
          -0.029758906239340466,
          -0.0091890751373086,
          0.09005202920533278,
          0.22508499492612244,
          0.07014215224440556,
          0.026629158859111823,
          -0.1781660272721071,
          0.03729342841708794,
          -0.16638235118001493,
          0.10735212032443153,
          -0.04225087540035133,
          0.14010804140092825,
          0.10737819424063855,
          0.043570895160057244,
          0.034630608417029196,
          0.02867864107886764,
          0.11982413488738514,
          0.028215167714846834,
          0.01101828562681334,
          -0.05357686206562698,
          -0.09344381712654673,
          0.20511617699588047,
          -0.12833618011087808,
          -0.08598952274632485,
          -0.10338420415536351,
          0.04817397356767544,
          -0.05783751725286196,
          0.013346552405899825,
          -0.2840318863995454,
          -0.03649908054301765,
          0.16070637658829495,
          -0.4162313522394898,
          0.1366564608003369,
          0.09555689368901055,
          0.06997469948328017,
          -0.03947390392602168,
          0.19029799763230315,
          0.15710042666893592,
          0.1786563948526867,
          -0.27586904349801816,
          -0.04798627369472752,
          -0.04739546999373179,
          0.01680057325164841,
          0.05621831636322444,
          0.23836289414217704,
          -0.10838195662051026,
          0.12306582190846288,
          -0.2052816960465969,
          -0.13634393579126802,
          0.13215428525446443,
          0.2767431110249782,
          0.039466070153267474,
          0.13239505241535654,
          0.11329560184073423,
          -0.030593518753145976,
          -0.0829242361883692,
          0.07548529443856783,
          -0.07389052327965914,
          0.07776270398456281,
          -0.12088662290968247,
          0.07964655178227337,
          -0.2368910758584528,
          -0.023471188042419322,
          -0.1576207909505964,
          0.14858740878088256,
          0.03152189813318862,
          0.072268562943124,
          0.1638945762887895,
          -0.24421339483051926,
          0.1444419114531198,
          -0.019914315949529693,
          -0.13135791614013115,
          -0.04750970015447753,
          0.03034180744039472,
          -0.019498704836288794,
          -0.09453736109949046,
          0.20471877275291084,
          -0.18154961008693893,
          -0.007736010145303895,
          -0.09400286423903431,
          -0.08217206478002845,
          0.0996354265464684,
          0.019014294027345002,
          -0.10382988873518603,
          -0.009065528660586852,
          0.12349013843109302,
          -0.06659879197672047,
          0.11748623493912846,
          0.11445885933367184,
          0.00968636234161363,
          -0.0014806643293266974,
          -0.08803765138734482,
          0.0812754769618419,
          -0.047150409344826005,
          0.2795770448922589,
          -0.02318455310148071,
          -0.16382109438513892,
          -0.05376757484827438,
          -0.00018836334691618717,
          0.05363716874704966,
          0.04288209726899628,
          -0.044387199982564074,
          -0.025326344727985894,
          -0.019616684308664367,
          -0.07300298317491871,
          -0.04148954313949338,
          0.08493690897096462,
          0.11608058519531722,
          0.09231325004112073,
          -0.23038692842895553,
          0.15836372669276044,
          -0.09330782516708919,
          -0.16443553833693655
         ]
        },
        {
         "line": {
          "color": "red",
          "width": 5
         },
         "mode": "lines",
         "name": "Vector 1",
         "type": "scatter3d",
         "x": [
          0,
          0.13263883302467308
         ],
         "y": [
          0,
          -0.8015178674611975
         ],
         "z": [
          0,
          -0.5830746505502592
         ]
        },
        {
         "line": {
          "color": "blue",
          "width": 5
         },
         "mode": "lines",
         "name": "Vector 2",
         "type": "scatter3d",
         "x": [
          0,
          0.9911246652857983
         ],
         "y": [
          0,
          0.11252566636326296
         ],
         "z": [
          0,
          0.07078045119676794
         ]
        },
        {
         "line": {
          "color": "green",
          "width": 5
         },
         "mode": "lines",
         "name": "Vector 3",
         "type": "scatter3d",
         "x": [
          0,
          0.004439533645759902
         ],
         "y": [
          0,
          -0.2936439521554792
         ],
         "z": [
          0,
          0.4046647005899066
         ]
        }
       ],
       "layout": {
        "scene": {
         "xaxis": {
          "title": {
           "text": "Age"
          }
         },
         "yaxis": {
          "title": {
           "text": "Smoke"
          }
         },
         "zaxis": {
          "title": {
           "text": "Cancer"
          }
         }
        },
        "template": {
         "data": {
          "bar": [
           {
            "error_x": {
             "color": "#2a3f5f"
            },
            "error_y": {
             "color": "#2a3f5f"
            },
            "marker": {
             "line": {
              "color": "#E5ECF6",
              "width": 0.5
             },
             "pattern": {
              "fillmode": "overlay",
              "size": 10,
              "solidity": 0.2
             }
            },
            "type": "bar"
           }
          ],
          "barpolar": [
           {
            "marker": {
             "line": {
              "color": "#E5ECF6",
              "width": 0.5
             },
             "pattern": {
              "fillmode": "overlay",
              "size": 10,
              "solidity": 0.2
             }
            },
            "type": "barpolar"
           }
          ],
          "carpet": [
           {
            "aaxis": {
             "endlinecolor": "#2a3f5f",
             "gridcolor": "white",
             "linecolor": "white",
             "minorgridcolor": "white",
             "startlinecolor": "#2a3f5f"
            },
            "baxis": {
             "endlinecolor": "#2a3f5f",
             "gridcolor": "white",
             "linecolor": "white",
             "minorgridcolor": "white",
             "startlinecolor": "#2a3f5f"
            },
            "type": "carpet"
           }
          ],
          "choropleth": [
           {
            "colorbar": {
             "outlinewidth": 0,
             "ticks": ""
            },
            "type": "choropleth"
           }
          ],
          "contour": [
           {
            "colorbar": {
             "outlinewidth": 0,
             "ticks": ""
            },
            "colorscale": [
             [
              0,
              "#0d0887"
             ],
             [
              0.1111111111111111,
              "#46039f"
             ],
             [
              0.2222222222222222,
              "#7201a8"
             ],
             [
              0.3333333333333333,
              "#9c179e"
             ],
             [
              0.4444444444444444,
              "#bd3786"
             ],
             [
              0.5555555555555556,
              "#d8576b"
             ],
             [
              0.6666666666666666,
              "#ed7953"
             ],
             [
              0.7777777777777778,
              "#fb9f3a"
             ],
             [
              0.8888888888888888,
              "#fdca26"
             ],
             [
              1,
              "#f0f921"
             ]
            ],
            "type": "contour"
           }
          ],
          "contourcarpet": [
           {
            "colorbar": {
             "outlinewidth": 0,
             "ticks": ""
            },
            "type": "contourcarpet"
           }
          ],
          "heatmap": [
           {
            "colorbar": {
             "outlinewidth": 0,
             "ticks": ""
            },
            "colorscale": [
             [
              0,
              "#0d0887"
             ],
             [
              0.1111111111111111,
              "#46039f"
             ],
             [
              0.2222222222222222,
              "#7201a8"
             ],
             [
              0.3333333333333333,
              "#9c179e"
             ],
             [
              0.4444444444444444,
              "#bd3786"
             ],
             [
              0.5555555555555556,
              "#d8576b"
             ],
             [
              0.6666666666666666,
              "#ed7953"
             ],
             [
              0.7777777777777778,
              "#fb9f3a"
             ],
             [
              0.8888888888888888,
              "#fdca26"
             ],
             [
              1,
              "#f0f921"
             ]
            ],
            "type": "heatmap"
           }
          ],
          "heatmapgl": [
           {
            "colorbar": {
             "outlinewidth": 0,
             "ticks": ""
            },
            "colorscale": [
             [
              0,
              "#0d0887"
             ],
             [
              0.1111111111111111,
              "#46039f"
             ],
             [
              0.2222222222222222,
              "#7201a8"
             ],
             [
              0.3333333333333333,
              "#9c179e"
             ],
             [
              0.4444444444444444,
              "#bd3786"
             ],
             [
              0.5555555555555556,
              "#d8576b"
             ],
             [
              0.6666666666666666,
              "#ed7953"
             ],
             [
              0.7777777777777778,
              "#fb9f3a"
             ],
             [
              0.8888888888888888,
              "#fdca26"
             ],
             [
              1,
              "#f0f921"
             ]
            ],
            "type": "heatmapgl"
           }
          ],
          "histogram": [
           {
            "marker": {
             "pattern": {
              "fillmode": "overlay",
              "size": 10,
              "solidity": 0.2
             }
            },
            "type": "histogram"
           }
          ],
          "histogram2d": [
           {
            "colorbar": {
             "outlinewidth": 0,
             "ticks": ""
            },
            "colorscale": [
             [
              0,
              "#0d0887"
             ],
             [
              0.1111111111111111,
              "#46039f"
             ],
             [
              0.2222222222222222,
              "#7201a8"
             ],
             [
              0.3333333333333333,
              "#9c179e"
             ],
             [
              0.4444444444444444,
              "#bd3786"
             ],
             [
              0.5555555555555556,
              "#d8576b"
             ],
             [
              0.6666666666666666,
              "#ed7953"
             ],
             [
              0.7777777777777778,
              "#fb9f3a"
             ],
             [
              0.8888888888888888,
              "#fdca26"
             ],
             [
              1,
              "#f0f921"
             ]
            ],
            "type": "histogram2d"
           }
          ],
          "histogram2dcontour": [
           {
            "colorbar": {
             "outlinewidth": 0,
             "ticks": ""
            },
            "colorscale": [
             [
              0,
              "#0d0887"
             ],
             [
              0.1111111111111111,
              "#46039f"
             ],
             [
              0.2222222222222222,
              "#7201a8"
             ],
             [
              0.3333333333333333,
              "#9c179e"
             ],
             [
              0.4444444444444444,
              "#bd3786"
             ],
             [
              0.5555555555555556,
              "#d8576b"
             ],
             [
              0.6666666666666666,
              "#ed7953"
             ],
             [
              0.7777777777777778,
              "#fb9f3a"
             ],
             [
              0.8888888888888888,
              "#fdca26"
             ],
             [
              1,
              "#f0f921"
             ]
            ],
            "type": "histogram2dcontour"
           }
          ],
          "mesh3d": [
           {
            "colorbar": {
             "outlinewidth": 0,
             "ticks": ""
            },
            "type": "mesh3d"
           }
          ],
          "parcoords": [
           {
            "line": {
             "colorbar": {
              "outlinewidth": 0,
              "ticks": ""
             }
            },
            "type": "parcoords"
           }
          ],
          "pie": [
           {
            "automargin": true,
            "type": "pie"
           }
          ],
          "scatter": [
           {
            "marker": {
             "colorbar": {
              "outlinewidth": 0,
              "ticks": ""
             }
            },
            "type": "scatter"
           }
          ],
          "scatter3d": [
           {
            "line": {
             "colorbar": {
              "outlinewidth": 0,
              "ticks": ""
             }
            },
            "marker": {
             "colorbar": {
              "outlinewidth": 0,
              "ticks": ""
             }
            },
            "type": "scatter3d"
           }
          ],
          "scattercarpet": [
           {
            "marker": {
             "colorbar": {
              "outlinewidth": 0,
              "ticks": ""
             }
            },
            "type": "scattercarpet"
           }
          ],
          "scattergeo": [
           {
            "marker": {
             "colorbar": {
              "outlinewidth": 0,
              "ticks": ""
             }
            },
            "type": "scattergeo"
           }
          ],
          "scattergl": [
           {
            "marker": {
             "colorbar": {
              "outlinewidth": 0,
              "ticks": ""
             }
            },
            "type": "scattergl"
           }
          ],
          "scattermapbox": [
           {
            "marker": {
             "colorbar": {
              "outlinewidth": 0,
              "ticks": ""
             }
            },
            "type": "scattermapbox"
           }
          ],
          "scatterpolar": [
           {
            "marker": {
             "colorbar": {
              "outlinewidth": 0,
              "ticks": ""
             }
            },
            "type": "scatterpolar"
           }
          ],
          "scatterpolargl": [
           {
            "marker": {
             "colorbar": {
              "outlinewidth": 0,
              "ticks": ""
             }
            },
            "type": "scatterpolargl"
           }
          ],
          "scatterternary": [
           {
            "marker": {
             "colorbar": {
              "outlinewidth": 0,
              "ticks": ""
             }
            },
            "type": "scatterternary"
           }
          ],
          "surface": [
           {
            "colorbar": {
             "outlinewidth": 0,
             "ticks": ""
            },
            "colorscale": [
             [
              0,
              "#0d0887"
             ],
             [
              0.1111111111111111,
              "#46039f"
             ],
             [
              0.2222222222222222,
              "#7201a8"
             ],
             [
              0.3333333333333333,
              "#9c179e"
             ],
             [
              0.4444444444444444,
              "#bd3786"
             ],
             [
              0.5555555555555556,
              "#d8576b"
             ],
             [
              0.6666666666666666,
              "#ed7953"
             ],
             [
              0.7777777777777778,
              "#fb9f3a"
             ],
             [
              0.8888888888888888,
              "#fdca26"
             ],
             [
              1,
              "#f0f921"
             ]
            ],
            "type": "surface"
           }
          ],
          "table": [
           {
            "cells": {
             "fill": {
              "color": "#EBF0F8"
             },
             "line": {
              "color": "white"
             }
            },
            "header": {
             "fill": {
              "color": "#C8D4E3"
             },
             "line": {
              "color": "white"
             }
            },
            "type": "table"
           }
          ]
         },
         "layout": {
          "annotationdefaults": {
           "arrowcolor": "#2a3f5f",
           "arrowhead": 0,
           "arrowwidth": 1
          },
          "autotypenumbers": "strict",
          "coloraxis": {
           "colorbar": {
            "outlinewidth": 0,
            "ticks": ""
           }
          },
          "colorscale": {
           "diverging": [
            [
             0,
             "#8e0152"
            ],
            [
             0.1,
             "#c51b7d"
            ],
            [
             0.2,
             "#de77ae"
            ],
            [
             0.3,
             "#f1b6da"
            ],
            [
             0.4,
             "#fde0ef"
            ],
            [
             0.5,
             "#f7f7f7"
            ],
            [
             0.6,
             "#e6f5d0"
            ],
            [
             0.7,
             "#b8e186"
            ],
            [
             0.8,
             "#7fbc41"
            ],
            [
             0.9,
             "#4d9221"
            ],
            [
             1,
             "#276419"
            ]
           ],
           "sequential": [
            [
             0,
             "#0d0887"
            ],
            [
             0.1111111111111111,
             "#46039f"
            ],
            [
             0.2222222222222222,
             "#7201a8"
            ],
            [
             0.3333333333333333,
             "#9c179e"
            ],
            [
             0.4444444444444444,
             "#bd3786"
            ],
            [
             0.5555555555555556,
             "#d8576b"
            ],
            [
             0.6666666666666666,
             "#ed7953"
            ],
            [
             0.7777777777777778,
             "#fb9f3a"
            ],
            [
             0.8888888888888888,
             "#fdca26"
            ],
            [
             1,
             "#f0f921"
            ]
           ],
           "sequentialminus": [
            [
             0,
             "#0d0887"
            ],
            [
             0.1111111111111111,
             "#46039f"
            ],
            [
             0.2222222222222222,
             "#7201a8"
            ],
            [
             0.3333333333333333,
             "#9c179e"
            ],
            [
             0.4444444444444444,
             "#bd3786"
            ],
            [
             0.5555555555555556,
             "#d8576b"
            ],
            [
             0.6666666666666666,
             "#ed7953"
            ],
            [
             0.7777777777777778,
             "#fb9f3a"
            ],
            [
             0.8888888888888888,
             "#fdca26"
            ],
            [
             1,
             "#f0f921"
            ]
           ]
          },
          "colorway": [
           "#636efa",
           "#EF553B",
           "#00cc96",
           "#ab63fa",
           "#FFA15A",
           "#19d3f3",
           "#FF6692",
           "#B6E880",
           "#FF97FF",
           "#FECB52"
          ],
          "font": {
           "color": "#2a3f5f"
          },
          "geo": {
           "bgcolor": "white",
           "lakecolor": "white",
           "landcolor": "#E5ECF6",
           "showlakes": true,
           "showland": true,
           "subunitcolor": "white"
          },
          "hoverlabel": {
           "align": "left"
          },
          "hovermode": "closest",
          "mapbox": {
           "style": "light"
          },
          "paper_bgcolor": "white",
          "plot_bgcolor": "#E5ECF6",
          "polar": {
           "angularaxis": {
            "gridcolor": "white",
            "linecolor": "white",
            "ticks": ""
           },
           "bgcolor": "#E5ECF6",
           "radialaxis": {
            "gridcolor": "white",
            "linecolor": "white",
            "ticks": ""
           }
          },
          "scene": {
           "xaxis": {
            "backgroundcolor": "#E5ECF6",
            "gridcolor": "white",
            "gridwidth": 2,
            "linecolor": "white",
            "showbackground": true,
            "ticks": "",
            "zerolinecolor": "white"
           },
           "yaxis": {
            "backgroundcolor": "#E5ECF6",
            "gridcolor": "white",
            "gridwidth": 2,
            "linecolor": "white",
            "showbackground": true,
            "ticks": "",
            "zerolinecolor": "white"
           },
           "zaxis": {
            "backgroundcolor": "#E5ECF6",
            "gridcolor": "white",
            "gridwidth": 2,
            "linecolor": "white",
            "showbackground": true,
            "ticks": "",
            "zerolinecolor": "white"
           }
          },
          "shapedefaults": {
           "line": {
            "color": "#2a3f5f"
           }
          },
          "ternary": {
           "aaxis": {
            "gridcolor": "white",
            "linecolor": "white",
            "ticks": ""
           },
           "baxis": {
            "gridcolor": "white",
            "linecolor": "white",
            "ticks": ""
           },
           "bgcolor": "#E5ECF6",
           "caxis": {
            "gridcolor": "white",
            "linecolor": "white",
            "ticks": ""
           }
          },
          "title": {
           "x": 0.05
          },
          "xaxis": {
           "automargin": true,
           "gridcolor": "white",
           "linecolor": "white",
           "ticks": "",
           "title": {
            "standoff": 15
           },
           "zerolinecolor": "white",
           "zerolinewidth": 2
          },
          "yaxis": {
           "automargin": true,
           "gridcolor": "white",
           "linecolor": "white",
           "ticks": "",
           "title": {
            "standoff": 15
           },
           "zerolinecolor": "white",
           "zerolinewidth": 2
          }
         }
        }
       }
      }
     },
     "metadata": {},
     "output_type": "display_data"
    }
   ],
   "source": [
    "import plotly.graph_objects as go\n",
    "\n",
    "fig = go.Figure(data=go.Scatter3d(\n",
    "    x=age - age.mean(),\n",
    "    y=smoke - smoke.mean(),\n",
    "    z=cancer - cancer.mean(),\n",
    "    mode='markers',\n",
    "    marker=dict(\n",
    "        size=5,\n",
    "        color=cancer,\n",
    "        colorscale='Viridis',\n",
    "    ),\n",
    "))\n",
    "\n",
    "v1 = U_reduced[0] \n",
    "v2 = U_reduced[1] \n",
    "v3 = U_reduced[2] / 2\n",
    "\n",
    "fig.add_trace(go.Scatter3d(\n",
    "    x=[0, v1[0]], y=[0, v1[1]], z=[0, v1[2]],\n",
    "    mode='lines',\n",
    "    line=dict(width=5, color='red'),\n",
    "    name='Vector 1'\n",
    "))\n",
    "\n",
    "fig.add_trace(go.Scatter3d(\n",
    "    x=[0, v2[0]], y=[0, v2[1]], z=[0, v2[2]],\n",
    "    mode='lines',\n",
    "    line=dict(width=5, color='blue'),\n",
    "    name='Vector 2'\n",
    "))\n",
    "\n",
    "fig.add_trace(go.Scatter3d(\n",
    "    x=[0, v3[0]], y=[0, v3[1]], z=[0, v3[2]],\n",
    "    mode='lines',\n",
    "    line=dict(width=5, color='green'),\n",
    "    name='Vector 3'\n",
    "))\n",
    "\n",
    "fig.update_layout(\n",
    "    scene=dict(\n",
    "        xaxis_title='Age',\n",
    "        yaxis_title='Smoke',\n",
    "        zaxis_title='Cancer',\n",
    "    ),\n",
    ")\n",
    "fig.show()"
   ]
  },
  {
   "cell_type": "code",
   "execution_count": null,
   "metadata": {},
   "outputs": [],
   "source": []
  }
 ],
 "metadata": {
  "kernelspec": {
   "display_name": "base",
   "language": "python",
   "name": "python3"
  },
  "language_info": {
   "codemirror_mode": {
    "name": "ipython",
    "version": 3
   },
   "file_extension": ".py",
   "mimetype": "text/x-python",
   "name": "python",
   "nbconvert_exporter": "python",
   "pygments_lexer": "ipython3",
   "version": "3.9.13"
  },
  "orig_nbformat": 4
 },
 "nbformat": 4,
 "nbformat_minor": 2
}
