{
 "cells": [
  {
   "cell_type": "code",
   "execution_count": 5,
   "metadata": {},
   "outputs": [],
   "source": [
    "import numpy as np\n",
    "import pandas as pd\n",
    "import torch\n",
    "import os\n",
    "from tqdm import tqdm\n",
    "\n",
    "import plotly.express as px\n",
    "import plotly.graph_objects as go"
   ]
  },
  {
   "cell_type": "markdown",
   "metadata": {},
   "source": [
    "#### What is the close-form solution for 1-d least squares linear regression?\n",
    "**(Problems 2.1, 2.2)**\n",
    "\n",
    "Let $\\phi = ax + b$ be our regression with parameters $a$ and $b$. \n",
    "\n",
    "Then, the loss for a datset $\\mathbb{X} = \\{x_i, y_i\\}$ is:\n",
    "\n",
    "\\begin{align*}\n",
    "L(\\phi, \\mathbb{X}) & = \\sum_{(x_i, y_i) \\in \\mathbb{X}} (y_i - \\phi(x_i))^2 \n",
    "\\\\ & = \\sum_{(x_i, y_i) \\in \\mathbb{X}} (y_i - ax_i - b)^2 \n",
    "\\end{align*}\n",
    "\n",
    "To find a close-form solution, we'll calculate the gradients $dL/da$ and $dL/db$ and find the $a$ and $b$ that make the gradients 0 (ie the normal thing you do when trying to find the min/max of a function). Using the chain rule, we see:\n",
    "\n",
    "$$dL/da = \\sum_{(x_i, y_i) \\in \\mathbb{X}} 2 \\cdot (y_i - ax_i - b) \\cdot -x_i =  \\sum_{(x_i, y_i) \\in \\mathbb{X}} 2(ax_i^2 +bx_i - y_ix_i)$$\n",
    "$$dL/db = \\sum_{(x_i, y_i) \\in \\mathbb{X}} -2 \\cdot (y_i - ax_i - b) $$\n",
    "\n",
    "<!-- Setting these to 0, we see that, \n",
    "\n",
    "\\begin{align*}\n",
    "0 & = \\sum_{(x_i, y_i) \\in \\mathbb{X}} 2(ax_i^2 +bx_i - y_ix_i) - -2 \\cdot (y_i - ax_i - b) \\\\ & = 2(ax_i^2 + bx_i - y_ix_i + y_i - ax_i - b) \n",
    "\\\\ & = 2(a(x_i^2 - x_i) + b(x_i - 1) - y_i(x_i - 1))\n",
    "\\\\ & = 2a(x_i^2 - x_i) + 2(b - y_i)(x_i - 1) \n",
    "\\\\ & \\implies a = \\sum_{(x_i, y_i) \\in \\mathbb{X}}(y_i - b)(x_i - 1) / (x_i^2 - x_i)\n",
    "\\end{align*} -->\n",
    "\n",
    "To solve for $b$, we see that (omitting the $\\sum$ and also noting that the sum on the $b$ basically repeats it $|\\mathbb{X}|$ times so that's where the means come from):\n",
    "\n",
    "$$0 = -2y_i + 2ax_i + 2b \\implies b = \\bar{y_i} - a\\bar{x_i}$$\n",
    "\n",
    "\n",
    "To solve for $a$, we see that:\n",
    "$$0 = \\sum ax_i^2 + bx_i - y_ix_i \\implies \\sum (y_i - b)x_i = a\\sum x_i^2 \\implies a = \\frac{\\sum (y_i - b)x_i}{sumx_i^2}$$\n",
    "\n",
    "Then, we plug in for $b$, getting:\n",
    "\n",
    "$$a \\sum x_i^2 = \\sum (y_i - \\bar{y_i} + a\\bar{x_i})x_i$$\n",
    "$$a \\sum x_i^2 = \\sum a\\bar{x_i}x_i + \\sum - \\bar{y_i}x_i + y_ix_i $$\n",
    "$$a \\sum x_i^2  - a\\sum\\bar{x_i}x_i = \\sum x_i(y_i - \\bar{y_i}) $$\n",
    "$$a = \\frac{\\sum x_i(y_i - \\bar{y_i})}{\\sum x_i(x_i - \\bar{x_i})} $$\n",
    "\n",
    "Note that you can't cancel the $x_i$ because they're different in different parts of the sum\n",
    "\n",
    "Now, we can check if our close form solution finds the correct answer"
   ]
  },
  {
   "cell_type": "code",
   "execution_count": 18,
   "metadata": {},
   "outputs": [
    {
     "name": "stdout",
     "output_type": "stream",
     "text": [
      "True\n",
      "True\n"
     ]
    }
   ],
   "source": [
    "\n",
    "data = [(1, 1), (2, 2), (3, 3)]\n",
    "\n",
    "data = [(1.5, 0), (0, -3), (20, 37)] # y = 2x - 3\n",
    "\n",
    "random_data = [(np.random.randint(0, 100), np.random.randint(0, 100)) for _ in range(100)]\n",
    "\n",
    "#* github copilot generated this and it also seems to work lol\n",
    "def copilot_closed_form(data):\n",
    "    x = sum([x[0] for x in data])\n",
    "    y = sum([x[1] for x in data])\n",
    "    xy = sum([x[0]*x[1] for x in data])\n",
    "    x2 = sum([x[0]**2 for x in data])\n",
    "    n = len(data)\n",
    "    \n",
    "    w1 = (n*xy - x*y)/(n*x2 - x**2)\n",
    "    w0 = (y - w1*x)/n\n",
    "    return w0, w1\n",
    "\n",
    "def my_closed_form(data):\n",
    "    x_mean = np.mean([x[0] for x in data])\n",
    "    y_mean = np.mean([x[1] for x in data])\n",
    "    \n",
    "    a = sum([x[0]*(x[1] - y_mean) for x in data]) / sum([x[0]*(x[0] - x_mean) for x in data])\n",
    "    b = y_mean - a*x_mean\n",
    "    return b, a\n",
    "    \n",
    "print(np.allclose(my_closed_form(data), copilot_closed_form(data)))\n",
    "print(np.allclose(my_closed_form(random_data), copilot_closed_form(random_data)))"
   ]
  },
  {
   "cell_type": "code",
   "execution_count": null,
   "metadata": {},
   "outputs": [],
   "source": []
  }
 ],
 "metadata": {
  "kernelspec": {
   "display_name": "Python 3",
   "language": "python",
   "name": "python3"
  },
  "language_info": {
   "codemirror_mode": {
    "name": "ipython",
    "version": 3
   },
   "file_extension": ".py",
   "mimetype": "text/x-python",
   "name": "python",
   "nbconvert_exporter": "python",
   "pygments_lexer": "ipython3",
   "version": "3.10.13"
  }
 },
 "nbformat": 4,
 "nbformat_minor": 2
}
